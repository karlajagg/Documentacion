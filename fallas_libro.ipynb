{
  "nbformat": 4,
  "nbformat_minor": 0,
  "metadata": {
    "colab": {
      "name": "fallas libro.ipynb",
      "provenance": [],
      "collapsed_sections": [],
      "authorship_tag": "ABX9TyPoPahNRFexR521Jz2gtEuY",
      "include_colab_link": true
    },
    "kernelspec": {
      "name": "python3",
      "display_name": "Python 3"
    }
  },
  "cells": [
    {
      "cell_type": "markdown",
      "metadata": {
        "id": "view-in-github",
        "colab_type": "text"
      },
      "source": [
        "<a href=\"https://colab.research.google.com/github/karlajagg/Documentacion/blob/main/fallas_libro.ipynb\" target=\"_parent\"><img src=\"https://colab.research.google.com/assets/colab-badge.svg\" alt=\"Open In Colab\"/></a>"
      ]
    },
    {
      "cell_type": "code",
      "metadata": {
        "colab": {
          "base_uri": "https://localhost:8080/"
        },
        "id": "q6efv14KdFOC",
        "outputId": "b331f541-0c85-4148-c660-028fc079f936"
      },
      "source": [
        "import pandas as pd\n",
        "url ='https://raw.githubusercontent.com/karlajagg/data/master/DATAenerodiciembre2014.csv'\n",
        "df = pd.read_csv(url)\n",
        "\n",
        "datos1 = df.drop(df.index[90:])\n",
        "datos2 = datos1[['GER','A0','A1','A2','A3','A4','A5','A6','B0','B1','C0','C1','C2','D0','E0','E1','E2','E3','E4','KV']]\n",
        "print(datos2)"
      ],
      "execution_count": null,
      "outputs": [
        {
          "output_type": "stream",
          "text": [
            "    GER   A0   A1   A2   A3   A4   A5  ...   D0   E0   E1   E2   E3   E4     KV\n",
            "0    NO  0.0  0.0  0.0  0.0  0.0  1.0  ...  0.0  0.0  0.0  0.0  0.0  0.0  400.0\n",
            "1     N  0.0  0.0  0.0  0.0  0.0  0.0  ...  0.0  0.0  0.0  0.0  0.0  0.0  400.0\n",
            "2    NE  0.0  2.0  0.0  0.0  0.0  0.0  ...  0.0  0.0  0.0  3.0  0.0  0.0  400.0\n",
            "3   OCC  0.0  1.0  0.0  1.0  1.0  5.0  ...  1.0  0.0  0.0  9.0  1.0  0.0  400.0\n",
            "4     C  0.0  0.0  0.0  0.0  0.0  0.0  ...  0.0  0.0  0.0  5.0  0.0  0.0  400.0\n",
            "..  ...  ...  ...  ...  ...  ...  ...  ...  ...  ...  ...  ...  ...  ...    ...\n",
            "85   NE  0.0  0.0  0.0  0.0  0.0  0.0  ...  0.0  0.0  0.0  0.0  0.0  0.0  400.0\n",
            "86   SE  0.0  0.0  0.0  0.0  0.0  0.0  ...  0.0  0.0  0.0  0.0  0.0  0.0  400.0\n",
            "87   SE  0.0  0.0  0.0  0.0  0.0  0.0  ...  0.0  0.0  0.0  0.0  0.0  0.0  400.0\n",
            "88    C  0.0  0.0  0.0  0.0  0.0  0.0  ...  0.0  0.0  0.0  0.0  0.0  0.0  400.0\n",
            "89   OR  0.0  0.0  0.0  0.0  0.0  0.0  ...  0.0  0.0  0.0  0.0  0.0  0.0  400.0\n",
            "\n",
            "[90 rows x 20 columns]\n"
          ],
          "name": "stdout"
        }
      ]
    },
    {
      "cell_type": "code",
      "metadata": {
        "id": "ZAC8GaHjiPfk"
      },
      "source": [
        "import matplotlib\n",
        "import matplotlib.pyplot as plt\n",
        "import numpy as np"
      ],
      "execution_count": null,
      "outputs": []
    },
    {
      "cell_type": "code",
      "metadata": {
        "id": "n82CVqKMncKv"
      },
      "source": [
        "import seaborn as sb\n",
        "in_NO = datos2['GER'] == 'NO'\n",
        "#in_NO.head()"
      ],
      "execution_count": null,
      "outputs": []
    },
    {
      "cell_type": "code",
      "metadata": {
        "colab": {
          "base_uri": "https://localhost:8080/"
        },
        "id": "VP22RZyNpRuT",
        "outputId": "122ed5cc-6343-4be5-d9f9-d295ec57ca47"
      },
      "source": [
        "GER_NO=datos2[in_NO]\n",
        "print(GER_NO)"
      ],
      "execution_count": null,
      "outputs": [
        {
          "output_type": "stream",
          "text": [
            "   GER   A0   A1   A2   A3   A4   A5  ...   D0   E0   E1   E2   E3   E4     KV\n",
            "0   NO  0.0  0.0  0.0  0.0  0.0  1.0  ...  0.0  0.0  0.0  0.0  0.0  0.0  400.0\n",
            "9   NO  0.0  0.0  0.0  0.0  1.0  2.0  ...  3.0  0.0  0.0  4.0  0.0  0.0  230.0\n",
            "19  NO  0.0  0.0  0.0  0.0  0.0  0.0  ...  0.0  0.0  0.0  0.0  0.0  0.0  138.0\n",
            "21  NO  0.0  0.0  0.0  0.0  0.0  0.0  ...  0.0  0.0  0.0  0.0  0.0  0.0  115.0\n",
            "39  NO  0.0  0.0  0.0  0.0  0.0  0.0  ...  0.0  0.0  0.0  0.0  0.0  0.0  400.0\n",
            "\n",
            "[5 rows x 20 columns]\n"
          ],
          "name": "stdout"
        }
      ]
    },
    {
      "cell_type": "code",
      "metadata": {
        "colab": {
          "base_uri": "https://localhost:8080/"
        },
        "id": "w7UDrGmjpl89",
        "outputId": "5ca969f9-e197-4b8f-e2c9-9f15d860bfe8"
      },
      "source": [
        "print('A0')\n",
        "GER_NO['A0'].sum()\n"
      ],
      "execution_count": null,
      "outputs": [
        {
          "output_type": "stream",
          "text": [
            "A0\n"
          ],
          "name": "stdout"
        },
        {
          "output_type": "execute_result",
          "data": {
            "text/plain": [
              "0.0"
            ]
          },
          "metadata": {
            "tags": []
          },
          "execution_count": 5
        }
      ]
    },
    {
      "cell_type": "code",
      "metadata": {
        "colab": {
          "base_uri": "https://localhost:8080/"
        },
        "id": "xv2K8nwtt1jj",
        "outputId": "d03d8631-fcfd-440c-d3f8-42a81a669682"
      },
      "source": [
        "print('A1')\n",
        "GER_NO['A1'].sum()\n"
      ],
      "execution_count": null,
      "outputs": [
        {
          "output_type": "stream",
          "text": [
            "A1\n"
          ],
          "name": "stdout"
        },
        {
          "output_type": "execute_result",
          "data": {
            "text/plain": [
              "0.0"
            ]
          },
          "metadata": {
            "tags": []
          },
          "execution_count": 6
        }
      ]
    },
    {
      "cell_type": "code",
      "metadata": {
        "colab": {
          "base_uri": "https://localhost:8080/"
        },
        "id": "Tdb1EQ5ct3vb",
        "outputId": "eca368ab-fb7a-4460-b5b7-24be6c49ad14"
      },
      "source": [
        "print('A2');GER_NO['A2'].sum()"
      ],
      "execution_count": null,
      "outputs": [
        {
          "output_type": "stream",
          "text": [
            "A2\n"
          ],
          "name": "stdout"
        },
        {
          "output_type": "execute_result",
          "data": {
            "text/plain": [
              "0.0"
            ]
          },
          "metadata": {
            "tags": []
          },
          "execution_count": 7
        }
      ]
    },
    {
      "cell_type": "code",
      "metadata": {
        "colab": {
          "base_uri": "https://localhost:8080/"
        },
        "id": "38gZssvZt6Dj",
        "outputId": "d4fc21c7-e48f-4be5-db93-6c7d5a65c73b"
      },
      "source": [
        "print('A3');GER_NO['A3'].sum()"
      ],
      "execution_count": null,
      "outputs": [
        {
          "output_type": "stream",
          "text": [
            "A3\n"
          ],
          "name": "stdout"
        },
        {
          "output_type": "execute_result",
          "data": {
            "text/plain": [
              "0.0"
            ]
          },
          "metadata": {
            "tags": []
          },
          "execution_count": 8
        }
      ]
    },
    {
      "cell_type": "code",
      "metadata": {
        "colab": {
          "base_uri": "https://localhost:8080/"
        },
        "id": "Fl_mj1O1uNaL",
        "outputId": "c79a6a0e-43ac-4efd-d633-5bed6c50dd28"
      },
      "source": [
        "print('A4');GER_NO['A4'].sum()"
      ],
      "execution_count": null,
      "outputs": [
        {
          "output_type": "stream",
          "text": [
            "A4\n"
          ],
          "name": "stdout"
        },
        {
          "output_type": "execute_result",
          "data": {
            "text/plain": [
              "1.0"
            ]
          },
          "metadata": {
            "tags": []
          },
          "execution_count": 9
        }
      ]
    },
    {
      "cell_type": "code",
      "metadata": {
        "colab": {
          "base_uri": "https://localhost:8080/"
        },
        "id": "YW8YwdRguPfz",
        "outputId": "1803cf2d-5e40-4f7a-cdcb-0f2c23b84d24"
      },
      "source": [
        "print('A5');GER_NO['A5'].sum()"
      ],
      "execution_count": null,
      "outputs": [
        {
          "output_type": "stream",
          "text": [
            "A5\n"
          ],
          "name": "stdout"
        },
        {
          "output_type": "execute_result",
          "data": {
            "text/plain": [
              "3.0"
            ]
          },
          "metadata": {
            "tags": []
          },
          "execution_count": 10
        }
      ]
    },
    {
      "cell_type": "code",
      "metadata": {
        "colab": {
          "base_uri": "https://localhost:8080/"
        },
        "id": "9MqYy7D1uW8p",
        "outputId": "40ced65c-e9fa-4680-a81a-436191a3cb5c"
      },
      "source": [
        "print('A6');GER_NO['A6'].sum()"
      ],
      "execution_count": null,
      "outputs": [
        {
          "output_type": "stream",
          "text": [
            "A6\n"
          ],
          "name": "stdout"
        },
        {
          "output_type": "execute_result",
          "data": {
            "text/plain": [
              "21.0"
            ]
          },
          "metadata": {
            "tags": []
          },
          "execution_count": 11
        }
      ]
    },
    {
      "cell_type": "code",
      "metadata": {
        "colab": {
          "base_uri": "https://localhost:8080/"
        },
        "id": "XxQ-fp56uXdf",
        "outputId": "e44b5daa-8ea5-49c3-d368-45217e23b700"
      },
      "source": [
        "print('B0');GER_NO['B0'].sum()"
      ],
      "execution_count": null,
      "outputs": [
        {
          "output_type": "stream",
          "text": [
            "B0\n"
          ],
          "name": "stdout"
        },
        {
          "output_type": "execute_result",
          "data": {
            "text/plain": [
              "24.0"
            ]
          },
          "metadata": {
            "tags": []
          },
          "execution_count": 12
        }
      ]
    },
    {
      "cell_type": "code",
      "metadata": {
        "colab": {
          "base_uri": "https://localhost:8080/"
        },
        "id": "IQ9atQEmukus",
        "outputId": "9d3aff87-17d8-4e53-ade2-1affb497c2e1"
      },
      "source": [
        "print('B1');GER_NO['B1'].sum()"
      ],
      "execution_count": null,
      "outputs": [
        {
          "output_type": "stream",
          "text": [
            "B1\n"
          ],
          "name": "stdout"
        },
        {
          "output_type": "execute_result",
          "data": {
            "text/plain": [
              "0.0"
            ]
          },
          "metadata": {
            "tags": []
          },
          "execution_count": 13
        }
      ]
    },
    {
      "cell_type": "code",
      "metadata": {
        "colab": {
          "base_uri": "https://localhost:8080/"
        },
        "id": "o5XAuYaxuvB7",
        "outputId": "883c274d-8867-4957-9d6e-7754e6c54293"
      },
      "source": [
        "print('C0');GER_NO['C0'].sum()"
      ],
      "execution_count": null,
      "outputs": [
        {
          "output_type": "stream",
          "text": [
            "C0\n"
          ],
          "name": "stdout"
        },
        {
          "output_type": "execute_result",
          "data": {
            "text/plain": [
              "3.0"
            ]
          },
          "metadata": {
            "tags": []
          },
          "execution_count": 14
        }
      ]
    },
    {
      "cell_type": "code",
      "metadata": {
        "colab": {
          "base_uri": "https://localhost:8080/"
        },
        "id": "bgcNZ2dpvBsJ",
        "outputId": "ff13154b-a8b2-4758-bc97-f533e1c8a001"
      },
      "source": [
        "print('C1');GER_NO['C1'].sum()"
      ],
      "execution_count": null,
      "outputs": [
        {
          "output_type": "stream",
          "text": [
            "C1\n"
          ],
          "name": "stdout"
        },
        {
          "output_type": "execute_result",
          "data": {
            "text/plain": [
              "1.0"
            ]
          },
          "metadata": {
            "tags": []
          },
          "execution_count": 15
        }
      ]
    },
    {
      "cell_type": "code",
      "metadata": {
        "colab": {
          "base_uri": "https://localhost:8080/"
        },
        "id": "cJcCXzqvvEXe",
        "outputId": "48a465e9-6ccb-4730-ddf0-7317ac0d7c91"
      },
      "source": [
        "print('C2');GER_NO['C2'].sum()"
      ],
      "execution_count": null,
      "outputs": [
        {
          "output_type": "stream",
          "text": [
            "C2\n"
          ],
          "name": "stdout"
        },
        {
          "output_type": "execute_result",
          "data": {
            "text/plain": [
              "3.0"
            ]
          },
          "metadata": {
            "tags": []
          },
          "execution_count": 16
        }
      ]
    },
    {
      "cell_type": "code",
      "metadata": {
        "colab": {
          "base_uri": "https://localhost:8080/"
        },
        "id": "2SgJNJL1vGXd",
        "outputId": "a2de7835-f1fb-4c77-d371-b7788378f4ac"
      },
      "source": [
        "print('D0');GER_NO['D0'].sum()"
      ],
      "execution_count": null,
      "outputs": [
        {
          "output_type": "stream",
          "text": [
            "D0\n"
          ],
          "name": "stdout"
        },
        {
          "output_type": "execute_result",
          "data": {
            "text/plain": [
              "3.0"
            ]
          },
          "metadata": {
            "tags": []
          },
          "execution_count": 17
        }
      ]
    },
    {
      "cell_type": "code",
      "metadata": {
        "colab": {
          "base_uri": "https://localhost:8080/"
        },
        "id": "imWUChlAvO1S",
        "outputId": "44b5c1fc-efab-418f-cfb1-5b3303794397"
      },
      "source": [
        "print('E0');GER_NO['E0'].sum()"
      ],
      "execution_count": null,
      "outputs": [
        {
          "output_type": "stream",
          "text": [
            "E0\n"
          ],
          "name": "stdout"
        },
        {
          "output_type": "execute_result",
          "data": {
            "text/plain": [
              "0.0"
            ]
          },
          "metadata": {
            "tags": []
          },
          "execution_count": 18
        }
      ]
    },
    {
      "cell_type": "code",
      "metadata": {
        "colab": {
          "base_uri": "https://localhost:8080/"
        },
        "id": "OPah7wtjvSFz",
        "outputId": "1224076a-fbac-4da7-8d6b-b6f2c14016c7"
      },
      "source": [
        "print('E1');GER_NO['E1'].sum()"
      ],
      "execution_count": null,
      "outputs": [
        {
          "output_type": "stream",
          "text": [
            "E1\n"
          ],
          "name": "stdout"
        },
        {
          "output_type": "execute_result",
          "data": {
            "text/plain": [
              "0.0"
            ]
          },
          "metadata": {
            "tags": []
          },
          "execution_count": 19
        }
      ]
    },
    {
      "cell_type": "code",
      "metadata": {
        "colab": {
          "base_uri": "https://localhost:8080/"
        },
        "id": "B-ijbCz8vVV3",
        "outputId": "3eaad1e9-c0ba-4d41-f5c5-420da9d3bfe2"
      },
      "source": [
        "print('E2');GER_NO['E2'].sum()"
      ],
      "execution_count": null,
      "outputs": [
        {
          "output_type": "stream",
          "text": [
            "E2\n"
          ],
          "name": "stdout"
        },
        {
          "output_type": "execute_result",
          "data": {
            "text/plain": [
              "4.0"
            ]
          },
          "metadata": {
            "tags": []
          },
          "execution_count": 20
        }
      ]
    },
    {
      "cell_type": "code",
      "metadata": {
        "colab": {
          "base_uri": "https://localhost:8080/"
        },
        "id": "JPDCkJHhvaQJ",
        "outputId": "476bd6e6-699a-48fc-ed22-96d3cd936778"
      },
      "source": [
        "print('E3');GER_NO['E3'].sum()"
      ],
      "execution_count": null,
      "outputs": [
        {
          "output_type": "stream",
          "text": [
            "E3\n"
          ],
          "name": "stdout"
        },
        {
          "output_type": "execute_result",
          "data": {
            "text/plain": [
              "0.0"
            ]
          },
          "metadata": {
            "tags": []
          },
          "execution_count": 21
        }
      ]
    },
    {
      "cell_type": "code",
      "metadata": {
        "colab": {
          "base_uri": "https://localhost:8080/"
        },
        "id": "xMJT8ZK0venJ",
        "outputId": "b6ebd071-5c8d-4596-f0dc-b4a193c5a7b9"
      },
      "source": [
        "print('E4');GER_NO['E4'].sum()"
      ],
      "execution_count": null,
      "outputs": [
        {
          "output_type": "stream",
          "text": [
            "E4\n"
          ],
          "name": "stdout"
        },
        {
          "output_type": "execute_result",
          "data": {
            "text/plain": [
              "0.0"
            ]
          },
          "metadata": {
            "tags": []
          },
          "execution_count": 22
        }
      ]
    },
    {
      "cell_type": "code",
      "metadata": {
        "colab": {
          "base_uri": "https://localhost:8080/",
          "height": 252
        },
        "id": "yJxxAyJPwDfH",
        "outputId": "e53a9630-2c97-48a6-a694-56594938fd22"
      },
      "source": [
        "fallas=[GER_NO['A0'].sum(), GER_NO['A1'].sum(), GER_NO['A2'].sum(), GER_NO['A3'].sum(), GER_NO['A4'].sum(), GER_NO['A5'].sum(), GER_NO['A6'].sum(), GER_NO['B0'].sum(), GER_NO['B1'].sum(), GER_NO['C0'].sum(), GER_NO['C1'].sum(), GER_NO['C2'].sum(), GER_NO['D0'].sum(), GER_NO['E0'].sum(), GER_NO['E1'].sum(), GER_NO['E2'].sum(), GER_NO['E3'].sum(), GER_NO['E4'].sum()]\n",
        "nombres =[\"A0\",\"A1\",\"A2\",\"A3\",\"A4\",'A5','A6','B0','B1','C0','C1','C2','D0','E0','E1','E2','E3','E4']\n",
        "\n",
        "plt.pie(fallas, labels= nombres, autopct=\"%0.1f %%\")\n",
        "plt.axis(\"equal\")\n",
        "plt.show()"
      ],
      "execution_count": 168,
      "outputs": [
        {
          "output_type": "display_data",
          "data": {
            "image/png": "[encoded data removed]",
            "text/plain": [
              "<Figure size 432x288 with 1 Axes>"
            ]
          },
          "metadata": {
            "tags": []
          }
        }
      ]
    },
    {
      "cell_type": "code",
      "metadata": {
        "id": "V-xNhaHMyQ-c"
      },
      "source": [
        "in_OCC = datos2['GER'] == 'OCC'\n",
        "GER_OCC=datos2[in_OCC]\n",
        "#print(GER_OCC)"
      ],
      "execution_count": null,
      "outputs": []
    },
    {
      "cell_type": "code",
      "metadata": {
        "colab": {
          "base_uri": "https://localhost:8080/",
          "height": 247
        },
        "id": "RJINCNUn3MLr",
        "outputId": "f677a1bb-64ba-4ec6-d858-6e0b61368d15"
      },
      "source": [
        "fallas1=[GER_OCC['A0'].sum(), GER_OCC['A1'].sum(), GER_OCC['A2'].sum(), GER_OCC['A3'].sum(), GER_OCC['A4'].sum(), GER_OCC['A5'].sum(), GER_OCC['A6'].sum(), GER_OCC['B0'].sum(), GER_OCC['B1'].sum(), GER_OCC['C0'].sum(), GER_OCC['C1'].sum(), GER_OCC['C2'].sum(), GER_OCC['D0'].sum(), GER_OCC['E0'].sum(), GER_OCC['E1'].sum(), GER_OCC['E2'].sum(), GER_OCC['E3'].sum(), GER_OCC['E4'].sum()]\n",
        "nombres =[\"A0\",\"A1\",\"A2\",\"A3\",\"A4\",'A5','A6','B0','B1','C0','C1','C2','D0','E0','E1','E2','E3','E4']\n",
        "\n",
        "plt.pie(fallas1, labels= nombres, autopct=\"%0.1f %%\")\n",
        "plt.axis(\"equal\")\n",
        "plt.show()"
      ],
      "execution_count": 169,
      "outputs": [
        {
          "output_type": "display_data",
          "data": {
            "image/png": "[encoded data removed]",
            "text/plain": [
              "<Figure size 432x288 with 1 Axes>"
            ]
          },
          "metadata": {
            "tags": []
          }
        }
      ]
    },
    {
      "cell_type": "code",
      "metadata": {
        "id": "KKcmergr3v7o"
      },
      "source": [
        "in_C = datos2['GER'] == 'C'\n",
        "GER_C=datos2[in_C]\n",
        "#print(GER_C)"
      ],
      "execution_count": null,
      "outputs": []
    },
    {
      "cell_type": "code",
      "metadata": {
        "colab": {
          "base_uri": "https://localhost:8080/",
          "height": 253
        },
        "id": "Cyf_O_8M39lv",
        "outputId": "46ff98b6-90a4-401d-a691-15e87e8202d0"
      },
      "source": [
        "fallas2=[GER_C['A0'].sum(), GER_C['A1'].sum(), GER_C['A2'].sum(), GER_C['A3'].sum(), GER_C['A4'].sum(), GER_C['A5'].sum(), GER_C['A6'].sum(), GER_C['B0'].sum(), GER_C['B1'].sum(), GER_C['C0'].sum(), GER_C['C1'].sum(), GER_C['C2'].sum(), GER_C['D0'].sum(), GER_C['E0'].sum(), GER_C['E1'].sum(), GER_C['E2'].sum(), GER_C['E3'].sum(), GER_C['E4'].sum()]\n",
        "nombres =[\"A0\",\"A1\",\"A2\",\"A3\",\"A4\",'A5','A6','B0','B1','C0','C1','C2','D0','E0','E1','E2','E3','E4']\n",
        "plt.pie(fallas2, labels= nombres, autopct=\"%0.1f %%\")\n",
        "plt.axis(\"equal\")\n",
        "plt.show()"
      ],
      "execution_count": 170,
      "outputs": [
        {
          "output_type": "display_data",
          "data": {
            "image/png": "[encoded data removed]",
            "text/plain": [
              "<Figure size 432x288 with 1 Axes>"
            ]
          },
          "metadata": {
            "tags": []
          }
        }
      ]
    },
    {
      "cell_type": "code",
      "metadata": {
        "id": "ChNYCXEaJxci"
      },
      "source": [
        "in_400 = datos2['KV'] == 400\r\n",
        "KV_400 =datos2[in_400]\r\n",
        "#print(KV_400)"
      ],
      "execution_count": 34,
      "outputs": []
    },
    {
      "cell_type": "code",
      "metadata": {
        "id": "DhpV0rmWTqcM",
        "colab": {
          "base_uri": "https://localhost:8080/",
          "height": 248
        },
        "outputId": "936f0176-be42-4413-9d73-92a5a367dea2"
      },
      "source": [
        "fallas3=[KV_400['A0'].sum(), KV_400['A1'].sum(), KV_400['A2'].sum(), KV_400['A3'].sum(), KV_400['A4'].sum(), KV_400['A5'].sum(), KV_400['A6'].sum(), KV_400['B0'].sum(), KV_400['B1'].sum(), KV_400['C0'].sum(), KV_400['C1'].sum(), KV_400['C2'].sum(), KV_400['D0'].sum(), KV_400['E0'].sum(), KV_400['E1'].sum(), KV_400['E2'].sum(), KV_400['E3'].sum(), KV_400['E4'].sum()]\r\n",
        "nombres =[\"A0\",\"A1\",\"A2\",\"A3\",\"A4\",'A5','A6','B0','B1','C0','C1','C2','D0','E0','E1','E2','E3','E4']\r\n",
        "plt.pie(fallas3, labels= nombres, autopct=\"%0.1f %%\")\r\n",
        "plt.axis(\"equal\")\r\n",
        "plt.show()"
      ],
      "execution_count": 188,
      "outputs": [
        {
          "output_type": "display_data",
          "data": {
            "image/png": "[encoded data removed]",
            "text/plain": [
              "<Figure size 432x288 with 1 Axes>"
            ]
          },
          "metadata": {
            "tags": []
          }
        }
      ]
    },
    {
      "cell_type": "code",
      "metadata": {
        "id": "v7w0J5zMSN2S"
      },
      "source": [
        "in_230 = datos2['KV'] == 230\r\n",
        "KV_230 =datos2[in_230]\r\n",
        "#print(KV_230)"
      ],
      "execution_count": 35,
      "outputs": []
    },
    {
      "cell_type": "code",
      "metadata": {
        "colab": {
          "base_uri": "https://localhost:8080/",
          "height": 252
        },
        "id": "cewQOTyfKyqu",
        "outputId": "5e6c078e-de91-46ea-e888-6a31b7296c3c"
      },
      "source": [
        "fallas4=[KV_230['A0'].sum(), KV_230['A1'].sum(), KV_230['A2'].sum(), KV_230['A3'].sum(), KV_230['A4'].sum(), KV_230['A5'].sum(), KV_230['A6'].sum(), KV_230['B0'].sum(), KV_230['B1'].sum(), KV_230['C0'].sum(), KV_230['C1'].sum(), KV_230['C2'].sum(), KV_230['D0'].sum(), KV_230['E0'].sum(), KV_230['E1'].sum(), KV_230['E2'].sum(), KV_230['E3'].sum(), KV_230['E4'].sum()]\r\n",
        "nombres =[\"A0\",\"A1\",\"A2\",\"A3\",\"A4\",'A5','A6','B0','B1','C0','C1','C2','D0','E0','E1','E2','E3','E4']\r\n",
        "\r\n",
        "plt.pie(fallas4, labels= nombres, autopct=\"%0.1f %%\")\r\n",
        "plt.axis(\"equal\")\r\n",
        "plt.show()"
      ],
      "execution_count": 187,
      "outputs": [
        {
          "output_type": "display_data",
          "data": {
            "image/png": "[encoded data removed]",
            "text/plain": [
              "<Figure size 432x288 with 1 Axes>"
            ]
          },
          "metadata": {
            "tags": []
          }
        }
      ]
    },
    {
      "cell_type": "code",
      "metadata": {
        "id": "XCHXC8vfTWFa"
      },
      "source": [
        "in_115 = datos2['KV'] == 115\r\n",
        "KV_115 =datos2[in_115]\r\n",
        "#print(KV_115)"
      ],
      "execution_count": 37,
      "outputs": []
    },
    {
      "cell_type": "code",
      "metadata": {
        "colab": {
          "base_uri": "https://localhost:8080/",
          "height": 247
        },
        "id": "oPjdoSn7Tevx",
        "outputId": "de210cdb-23fd-4b00-f1e7-c746c0f5ad56"
      },
      "source": [
        "fallas5=[KV_115['A0'].sum(), KV_115['A1'].sum(), KV_115['A2'].sum(), KV_115['A3'].sum(), KV_115['A4'].sum(), KV_115['A5'].sum(), KV_115['A6'].sum(), KV_115['B0'].sum(), KV_115['B1'].sum(), KV_115['C0'].sum(), KV_115['C1'].sum(), KV_115['C2'].sum(), KV_115['D0'].sum(), KV_115['E0'].sum(), KV_115['E1'].sum(), KV_115['E2'].sum(), KV_115['E3'].sum(), KV_115['E4'].sum()]\r\n",
        "nombres =[\"A0\",\"A1\",\"A2\",\"A3\",\"A4\",'A5','A6','B0','B1','C0','C1','C2','D0','E0','E1','E2','E3','E4']\r\n",
        "\r\n",
        "plt.pie(fallas5, labels= nombres, autopct=\"%0.1f %%\")\r\n",
        "plt.axis(\"equal\")\r\n",
        "plt.show()"
      ],
      "execution_count": 186,
      "outputs": [
        {
          "output_type": "display_data",
          "data": {
            "image/png": "[encoded data removed]",
            "text/plain": [
              "<Figure size 432x288 with 1 Axes>"
            ]
          },
          "metadata": {
            "tags": []
          }
        }
      ]
    },
    {
      "cell_type": "code",
      "metadata": {
        "colab": {
          "base_uri": "https://localhost:8080/",
          "height": 253
        },
        "id": "S0VYTkHGVZ0L",
        "outputId": "c963048e-46d4-4417-a97b-32282c43c044"
      },
      "source": [
        "fallas6=[datos2['A0'].sum(), datos2['A1'].sum(), datos2['A2'].sum(), datos2['A3'].sum(), datos2['A4'].sum(), datos2['A5'].sum(), datos2['A6'].sum(), datos2['B0'].sum(), datos2['B1'].sum(), datos2['C0'].sum(), datos2['C1'].sum(), datos2['C2'].sum(), datos2['D0'].sum(), datos2['E0'].sum(), datos2['E1'].sum(), datos2['E2'].sum(), datos2['E3'].sum(), datos2['E4'].sum()]\r\n",
        "nombres =[\"A0\",\"A1\",\"A2\",\"A3\",\"A4\",'A5','A6','B0','B1','C0','C1','C2','D0','E0','E1','E2','E3','E4']\r\n",
        "plt.pie(fallas6, labels= nombres, autopct=\"%0.1f %%\")\r\n",
        "plt.axis(\"equal\")\r\n",
        "plt.show()"
      ],
      "execution_count": 185,
      "outputs": [
        {
          "output_type": "display_data",
          "data": {
            "image/png": "[encoded data removed]",
            "text/plain": [
              "<Figure size 432x288 with 1 Axes>"
            ]
          },
          "metadata": {
            "tags": []
          }
        }
      ]
    },
    {
      "cell_type": "code",
      "metadata": {
        "id": "I9OhFdip_qXp"
      },
      "source": [
        ""
      ],
      "execution_count": null,
      "outputs": []
    }
  ]
}