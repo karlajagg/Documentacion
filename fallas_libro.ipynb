{
  "nbformat": 4,
  "nbformat_minor": 0,
  "metadata": {
    "colab": {
      "name": "fallas libro.ipynb",
      "provenance": [],
      "collapsed_sections": [],
      "authorship_tag": "ABX9TyMCkm7dVZYH5vUKgZAgrJw6",
      "include_colab_link": true
    },
    "kernelspec": {
      "name": "python3",
      "display_name": "Python 3"
    }
  },
  "cells": [
    {
      "cell_type": "markdown",
      "metadata": {
        "id": "view-in-github",
        "colab_type": "text"
      },
      "source": [
        "<a href=\"https://colab.research.google.com/github/karlajagg/Documentacion/blob/main/fallas_libro.ipynb\" target=\"_parent\"><img src=\"https://colab.research.google.com/assets/colab-badge.svg\" alt=\"Open In Colab\"/></a>"
      ]
    },
    {
      "cell_type": "code",
      "metadata": {
        "colab": {
          "base_uri": "https://localhost:8080/"
        },
        "id": "q6efv14KdFOC",
        "outputId": "baa6089c-a64c-43c3-915c-e898b054e03d"
      },
      "source": [
        "import pandas as pd\n",
        "url ='https://raw.githubusercontent.com/karlajagg/Documentacion/main/fallas-libro-2014.csv'\n",
        "df = pd.read_csv(url)\n",
        "\n",
        "datos1 = df.drop(df.index[90:])\n",
        "datos2 = datos1[['GER','A0','A1','A2','A3','A4','A5','A6','B0','B1','C0','C1','C2','D0','E0','E1','E2','E3','E4','KV']]\n",
        "print(datos2)"
      ],
      "execution_count": 36,
      "outputs": [
        {
          "output_type": "stream",
          "text": [
            "    GER  A0  A1  A2  A3  A4  A5  A6  B0  ...  C1  C2  D0  E0  E1  E2  E3  E4   KV\n",
            "0    NO   0   0   0   0   0   1   1   5  ...   0   0   0   0   0   0   0   0  400\n",
            "1     N   0   0   0   0   0   0   0   0  ...   0   1   0   0   0   0   0   0  400\n",
            "2    NE   0   2   0   0   0   0   0   9  ...   0   7   0   0   0   3   0   0  400\n",
            "3   OCC   0   0   0   1   1   3   3  22  ...   8   3   0   0   0   9   1   0  400\n",
            "4     C   0   0   0   0   0   0   0  16  ...   1   1   0   0   0   5   0   0  400\n",
            "5    OR   0   0   3   0   0   1   2  28  ...   6   2   1   0   0  14   0   0  400\n",
            "6    SE   0   0   0   0   1   7   3  13  ...   0   1   4   0   0  15   0   0  400\n",
            "7   PEN   0   0   0   0   0   4   0   3  ...   0   0   0   0   0   0   0   0  400\n",
            "8    BC   0   0   0   1   1   0   2   1  ...   0   3   0   0   0   3   0   0  230\n",
            "9    NO   0   0   0   0   0   2   8   6  ...   1   1   2   0   0   3   0   0  230\n",
            "10    N   0   0   1   0   0   1   4   5  ...   0   1   0   0   0   1   0   0  230\n",
            "11   NE   0   0   0   0   1   1   8   4  ...   0   0   0   0   0   0   1   0  230\n",
            "12  OCC   0   0   0   1   1   3   6   9  ...   0   5   0   0   0   5   1   0  230\n",
            "13    C   0   0   0   0   0   5   2  15  ...   1   3   0   0   0   3   0   0  230\n",
            "14   OR   0   0   0   0   1   1   4  16  ...   5   0   0   0   0   0   0   0  230\n",
            "15   SE   1   0   0   0   0   1   0  11  ...   0   2   0   0   0   2   0   0  230\n",
            "16  PEN   0   3   0   0   0   4   0  11  ...   0   1   3   0   0   4   0   0  230\n",
            "17   BC   0   0   0   2   0   0   0   0  ...   0   0   0   0   0   0   0   0  161\n",
            "18  OCC   0   0   0   0   0   0   1   5  ...   0   0   0   0   0   0   0   0  161\n",
            "19   NO   0   0   0   0   0   0   0   0  ...   0   0   0   0   0   0   0   0  138\n",
            "20   BC   0   3   0   2   2   0   4   7  ...   0   0   0   0   0   0   0   0  115\n",
            "21   NO   0   0   0   0   0   0   0   0  ...   0   0   0   0   0   0   0   0  115\n",
            "22    N   0   0   0   0   0   0   0   0  ...   0   0   0   0   0   0   0   0  115\n",
            "23   NE   0   0   0   0   0   0   0   0  ...   0   0   0   0   0   0   0   0  115\n",
            "24  OCC   0   0   0   0   0   0   0   0  ...   0   0   0   0   0   1   0   0  115\n",
            "25    C   0   0   0   0   0   0   0   0  ...   0   0   0   0   0   0   0   0  115\n",
            "26   OR   0   0   0   0   0   0   0   0  ...   0   0   0   0   0   0   0   0  115\n",
            "27   SE   0   0   0   0   0   0   0   1  ...   0   0   0   0   0   1   0   0  115\n",
            "28  PEN   0   0   2   1   0   6   6  43  ...   0   0   2   0   0  12   5   0  115\n",
            "29  OCC   0   0   0   0   0   0   0   0  ...   0   0   0   0   0   0   0   0   69\n",
            "\n",
            "[30 rows x 20 columns]\n"
          ],
          "name": "stdout"
        }
      ]
    },
    {
      "cell_type": "code",
      "metadata": {
        "id": "ZAC8GaHjiPfk"
      },
      "source": [
        "import matplotlib\n",
        "import matplotlib.pyplot as plt\n",
        "import numpy as np"
      ],
      "execution_count": 37,
      "outputs": []
    },
    {
      "cell_type": "code",
      "metadata": {
        "id": "n82CVqKMncKv"
      },
      "source": [
        "import seaborn as sb\n",
        "in_NO = datos2['GER'] == 'NO'\n",
        "#in_NO.head()"
      ],
      "execution_count": 38,
      "outputs": []
    },
    {
      "cell_type": "code",
      "metadata": {
        "colab": {
          "base_uri": "https://localhost:8080/"
        },
        "id": "VP22RZyNpRuT",
        "outputId": "f5746a6b-7673-40af-db98-e06025e02049"
      },
      "source": [
        "GER_NO=datos2[in_NO]\n",
        "print(GER_NO)"
      ],
      "execution_count": 39,
      "outputs": [
        {
          "output_type": "stream",
          "text": [
            "   GER  A0  A1  A2  A3  A4  A5  A6  B0  ...  C1  C2  D0  E0  E1  E2  E3  E4   KV\n",
            "0   NO   0   0   0   0   0   1   1   5  ...   0   0   0   0   0   0   0   0  400\n",
            "9   NO   0   0   0   0   0   2   8   6  ...   1   1   2   0   0   3   0   0  230\n",
            "19  NO   0   0   0   0   0   0   0   0  ...   0   0   0   0   0   0   0   0  138\n",
            "21  NO   0   0   0   0   0   0   0   0  ...   0   0   0   0   0   0   0   0  115\n",
            "\n",
            "[4 rows x 20 columns]\n"
          ],
          "name": "stdout"
        }
      ]
    },
    {
      "cell_type": "code",
      "metadata": {
        "colab": {
          "base_uri": "https://localhost:8080/"
        },
        "id": "w7UDrGmjpl89",
        "outputId": "6297ee1f-8d00-40bd-861e-30e97ee2f865"
      },
      "source": [
        "print('A0')\n",
        "GER_NO['A0'].sum()\n"
      ],
      "execution_count": 40,
      "outputs": [
        {
          "output_type": "stream",
          "text": [
            "A0\n"
          ],
          "name": "stdout"
        },
        {
          "output_type": "execute_result",
          "data": {
            "text/plain": [
              "0"
            ]
          },
          "metadata": {
            "tags": []
          },
          "execution_count": 40
        }
      ]
    },
    {
      "cell_type": "code",
      "metadata": {
        "colab": {
          "base_uri": "https://localhost:8080/"
        },
        "id": "xv2K8nwtt1jj",
        "outputId": "2186f0bf-def6-4398-97a5-0c3f2c6575f3"
      },
      "source": [
        "print('A1')\n",
        "GER_NO['A1'].sum()\n"
      ],
      "execution_count": 41,
      "outputs": [
        {
          "output_type": "stream",
          "text": [
            "A1\n"
          ],
          "name": "stdout"
        },
        {
          "output_type": "execute_result",
          "data": {
            "text/plain": [
              "0"
            ]
          },
          "metadata": {
            "tags": []
          },
          "execution_count": 41
        }
      ]
    },
    {
      "cell_type": "code",
      "metadata": {
        "colab": {
          "base_uri": "https://localhost:8080/"
        },
        "id": "Tdb1EQ5ct3vb",
        "outputId": "9497fae0-b6cb-4fad-c943-f3e4039c3f27"
      },
      "source": [
        "print('A2');GER_NO['A2'].sum()"
      ],
      "execution_count": 42,
      "outputs": [
        {
          "output_type": "stream",
          "text": [
            "A2\n"
          ],
          "name": "stdout"
        },
        {
          "output_type": "execute_result",
          "data": {
            "text/plain": [
              "0"
            ]
          },
          "metadata": {
            "tags": []
          },
          "execution_count": 42
        }
      ]
    },
    {
      "cell_type": "code",
      "metadata": {
        "colab": {
          "base_uri": "https://localhost:8080/"
        },
        "id": "38gZssvZt6Dj",
        "outputId": "ddedc0d4-987a-4c57-bef1-940b2e79a5b9"
      },
      "source": [
        "print('A3');GER_NO['A3'].sum()"
      ],
      "execution_count": 43,
      "outputs": [
        {
          "output_type": "stream",
          "text": [
            "A3\n"
          ],
          "name": "stdout"
        },
        {
          "output_type": "execute_result",
          "data": {
            "text/plain": [
              "0"
            ]
          },
          "metadata": {
            "tags": []
          },
          "execution_count": 43
        }
      ]
    },
    {
      "cell_type": "code",
      "metadata": {
        "colab": {
          "base_uri": "https://localhost:8080/"
        },
        "id": "Fl_mj1O1uNaL",
        "outputId": "ed256777-e1dd-44e8-e73e-8dcb95f4e1c6"
      },
      "source": [
        "print('A4');GER_NO['A4'].sum()"
      ],
      "execution_count": 44,
      "outputs": [
        {
          "output_type": "stream",
          "text": [
            "A4\n"
          ],
          "name": "stdout"
        },
        {
          "output_type": "execute_result",
          "data": {
            "text/plain": [
              "0"
            ]
          },
          "metadata": {
            "tags": []
          },
          "execution_count": 44
        }
      ]
    },
    {
      "cell_type": "code",
      "metadata": {
        "colab": {
          "base_uri": "https://localhost:8080/"
        },
        "id": "YW8YwdRguPfz",
        "outputId": "662f3e83-4b63-4285-b22d-f0a760bec46c"
      },
      "source": [
        "print('A5');GER_NO['A5'].sum()"
      ],
      "execution_count": 45,
      "outputs": [
        {
          "output_type": "stream",
          "text": [
            "A5\n"
          ],
          "name": "stdout"
        },
        {
          "output_type": "execute_result",
          "data": {
            "text/plain": [
              "3"
            ]
          },
          "metadata": {
            "tags": []
          },
          "execution_count": 45
        }
      ]
    },
    {
      "cell_type": "code",
      "metadata": {
        "colab": {
          "base_uri": "https://localhost:8080/"
        },
        "id": "9MqYy7D1uW8p",
        "outputId": "13fb6a2e-3434-4b96-e8db-0ca77808c7f1"
      },
      "source": [
        "print('A6');GER_NO['A6'].sum()"
      ],
      "execution_count": 46,
      "outputs": [
        {
          "output_type": "stream",
          "text": [
            "A6\n"
          ],
          "name": "stdout"
        },
        {
          "output_type": "execute_result",
          "data": {
            "text/plain": [
              "9"
            ]
          },
          "metadata": {
            "tags": []
          },
          "execution_count": 46
        }
      ]
    },
    {
      "cell_type": "code",
      "metadata": {
        "colab": {
          "base_uri": "https://localhost:8080/"
        },
        "id": "XxQ-fp56uXdf",
        "outputId": "d32e0015-3575-44d3-ab5f-ae131ee44fad"
      },
      "source": [
        "print('B0');GER_NO['B0'].sum()"
      ],
      "execution_count": 47,
      "outputs": [
        {
          "output_type": "stream",
          "text": [
            "B0\n"
          ],
          "name": "stdout"
        },
        {
          "output_type": "execute_result",
          "data": {
            "text/plain": [
              "11"
            ]
          },
          "metadata": {
            "tags": []
          },
          "execution_count": 47
        }
      ]
    },
    {
      "cell_type": "code",
      "metadata": {
        "colab": {
          "base_uri": "https://localhost:8080/"
        },
        "id": "IQ9atQEmukus",
        "outputId": "64e81065-f791-4a22-a9aa-65e1e183072a"
      },
      "source": [
        "print('B1');GER_NO['B1'].sum()"
      ],
      "execution_count": 48,
      "outputs": [
        {
          "output_type": "stream",
          "text": [
            "B1\n"
          ],
          "name": "stdout"
        },
        {
          "output_type": "execute_result",
          "data": {
            "text/plain": [
              "0"
            ]
          },
          "metadata": {
            "tags": []
          },
          "execution_count": 48
        }
      ]
    },
    {
      "cell_type": "code",
      "metadata": {
        "colab": {
          "base_uri": "https://localhost:8080/"
        },
        "id": "o5XAuYaxuvB7",
        "outputId": "a83bd878-52bc-4ea0-86a4-0690019511fc"
      },
      "source": [
        "print('C0');GER_NO['C0'].sum()"
      ],
      "execution_count": 49,
      "outputs": [
        {
          "output_type": "stream",
          "text": [
            "C0\n"
          ],
          "name": "stdout"
        },
        {
          "output_type": "execute_result",
          "data": {
            "text/plain": [
              "1"
            ]
          },
          "metadata": {
            "tags": []
          },
          "execution_count": 49
        }
      ]
    },
    {
      "cell_type": "code",
      "metadata": {
        "colab": {
          "base_uri": "https://localhost:8080/"
        },
        "id": "bgcNZ2dpvBsJ",
        "outputId": "81b1d13c-8801-426b-e632-a19b9c94cefd"
      },
      "source": [
        "print('C1');GER_NO['C1'].sum()"
      ],
      "execution_count": 50,
      "outputs": [
        {
          "output_type": "stream",
          "text": [
            "C1\n"
          ],
          "name": "stdout"
        },
        {
          "output_type": "execute_result",
          "data": {
            "text/plain": [
              "1"
            ]
          },
          "metadata": {
            "tags": []
          },
          "execution_count": 50
        }
      ]
    },
    {
      "cell_type": "code",
      "metadata": {
        "colab": {
          "base_uri": "https://localhost:8080/"
        },
        "id": "cJcCXzqvvEXe",
        "outputId": "225147ae-af55-4a64-febc-56293c87b8e0"
      },
      "source": [
        "print('C2');GER_NO['C2'].sum()"
      ],
      "execution_count": 51,
      "outputs": [
        {
          "output_type": "stream",
          "text": [
            "C2\n"
          ],
          "name": "stdout"
        },
        {
          "output_type": "execute_result",
          "data": {
            "text/plain": [
              "1"
            ]
          },
          "metadata": {
            "tags": []
          },
          "execution_count": 51
        }
      ]
    },
    {
      "cell_type": "code",
      "metadata": {
        "colab": {
          "base_uri": "https://localhost:8080/"
        },
        "id": "2SgJNJL1vGXd",
        "outputId": "eff4f138-b9dd-4904-94c6-5a752ee38494"
      },
      "source": [
        "print('D0');GER_NO['D0'].sum()"
      ],
      "execution_count": 52,
      "outputs": [
        {
          "output_type": "stream",
          "text": [
            "D0\n"
          ],
          "name": "stdout"
        },
        {
          "output_type": "execute_result",
          "data": {
            "text/plain": [
              "2"
            ]
          },
          "metadata": {
            "tags": []
          },
          "execution_count": 52
        }
      ]
    },
    {
      "cell_type": "code",
      "metadata": {
        "colab": {
          "base_uri": "https://localhost:8080/"
        },
        "id": "imWUChlAvO1S",
        "outputId": "2048e4ae-32fe-44ee-9d6a-7382a267b917"
      },
      "source": [
        "print('E0');GER_NO['E0'].sum()"
      ],
      "execution_count": 53,
      "outputs": [
        {
          "output_type": "stream",
          "text": [
            "E0\n"
          ],
          "name": "stdout"
        },
        {
          "output_type": "execute_result",
          "data": {
            "text/plain": [
              "0"
            ]
          },
          "metadata": {
            "tags": []
          },
          "execution_count": 53
        }
      ]
    },
    {
      "cell_type": "code",
      "metadata": {
        "colab": {
          "base_uri": "https://localhost:8080/"
        },
        "id": "OPah7wtjvSFz",
        "outputId": "50107a58-98fb-41e6-af0b-5a3006909cfb"
      },
      "source": [
        "print('E1');GER_NO['E1'].sum()"
      ],
      "execution_count": 54,
      "outputs": [
        {
          "output_type": "stream",
          "text": [
            "E1\n"
          ],
          "name": "stdout"
        },
        {
          "output_type": "execute_result",
          "data": {
            "text/plain": [
              "0"
            ]
          },
          "metadata": {
            "tags": []
          },
          "execution_count": 54
        }
      ]
    },
    {
      "cell_type": "code",
      "metadata": {
        "colab": {
          "base_uri": "https://localhost:8080/"
        },
        "id": "B-ijbCz8vVV3",
        "outputId": "eb91a0e2-38a1-4382-f3fd-8313ee39329c"
      },
      "source": [
        "print('E2');GER_NO['E2'].sum()"
      ],
      "execution_count": 55,
      "outputs": [
        {
          "output_type": "stream",
          "text": [
            "E2\n"
          ],
          "name": "stdout"
        },
        {
          "output_type": "execute_result",
          "data": {
            "text/plain": [
              "3"
            ]
          },
          "metadata": {
            "tags": []
          },
          "execution_count": 55
        }
      ]
    },
    {
      "cell_type": "code",
      "metadata": {
        "colab": {
          "base_uri": "https://localhost:8080/"
        },
        "id": "JPDCkJHhvaQJ",
        "outputId": "f35ada8c-ff78-4445-ba8f-883f231ab537"
      },
      "source": [
        "print('E3');GER_NO['E3'].sum()"
      ],
      "execution_count": 56,
      "outputs": [
        {
          "output_type": "stream",
          "text": [
            "E3\n"
          ],
          "name": "stdout"
        },
        {
          "output_type": "execute_result",
          "data": {
            "text/plain": [
              "0"
            ]
          },
          "metadata": {
            "tags": []
          },
          "execution_count": 56
        }
      ]
    },
    {
      "cell_type": "code",
      "metadata": {
        "colab": {
          "base_uri": "https://localhost:8080/"
        },
        "id": "xMJT8ZK0venJ",
        "outputId": "72f9bcfc-36e8-4c8f-99e2-ae75eb61db38"
      },
      "source": [
        "print('E4');GER_NO['E4'].sum()"
      ],
      "execution_count": 57,
      "outputs": [
        {
          "output_type": "stream",
          "text": [
            "E4\n"
          ],
          "name": "stdout"
        },
        {
          "output_type": "execute_result",
          "data": {
            "text/plain": [
              "0"
            ]
          },
          "metadata": {
            "tags": []
          },
          "execution_count": 57
        }
      ]
    },
    {
      "cell_type": "code",
      "metadata": {
        "colab": {
          "base_uri": "https://localhost:8080/",
          "height": 256
        },
        "id": "yJxxAyJPwDfH",
        "outputId": "4db0188f-7861-4c9a-9b94-048804e289d2"
      },
      "source": [
        "fallas=[GER_NO['A0'].sum(), GER_NO['A1'].sum(), GER_NO['A2'].sum(), GER_NO['A3'].sum(), GER_NO['A4'].sum(), GER_NO['A5'].sum(), GER_NO['A6'].sum(), GER_NO['B0'].sum(), GER_NO['B1'].sum(), GER_NO['C0'].sum(), GER_NO['C1'].sum(), GER_NO['C2'].sum(), GER_NO['D0'].sum(), GER_NO['E0'].sum(), GER_NO['E1'].sum(), GER_NO['E2'].sum(), GER_NO['E3'].sum(), GER_NO['E4'].sum()]\n",
        "nombres =[\"A0\",\"A1\",\"A2\",\"A3\",\"A4\",'A5','A6','B0','B1','C0','C1','C2','D0','E0','E1','E2','E3','E4']\n",
        "plt.pie(fallas, labels= nombres, autopct=\"%0.1f %%\")\n",
        "plt.axis(\"equal\")\n",
        "plt.show()"
      ],
      "execution_count": 110,
      "outputs": [
        {
          "output_type": "display_data",
          "data": {
            "image/png": "[encoded data removed]",
            "text/plain": [
              "<Figure size 432x288 with 1 Axes>"
            ]
          },
          "metadata": {
            "tags": []
          }
        }
      ]
    },
    {
      "cell_type": "code",
      "metadata": {
        "id": "V-xNhaHMyQ-c"
      },
      "source": [
        "in_OCC = datos2['GER'] == 'OCC'\n",
        "GER_OCC=datos2[in_OCC]\n",
        "#print(GER_OCC)"
      ],
      "execution_count": 59,
      "outputs": []
    },
    {
      "cell_type": "code",
      "metadata": {
        "colab": {
          "base_uri": "https://localhost:8080/",
          "height": 252
        },
        "id": "RJINCNUn3MLr",
        "outputId": "77435a2d-db49-463c-a268-15e6c3913043"
      },
      "source": [
        "fallas1=[GER_OCC['A0'].sum(), GER_OCC['A1'].sum(), GER_OCC['A2'].sum(), GER_OCC['A3'].sum(), GER_OCC['A4'].sum(), GER_OCC['A5'].sum(), GER_OCC['A6'].sum(), GER_OCC['B0'].sum(), GER_OCC['B1'].sum(), GER_OCC['C0'].sum(), GER_OCC['C1'].sum(), GER_OCC['C2'].sum(), GER_OCC['D0'].sum(), GER_OCC['E0'].sum(), GER_OCC['E1'].sum(), GER_OCC['E2'].sum(), GER_OCC['E3'].sum(), GER_OCC['E4'].sum()]\n",
        "nombres =[\"A0\",\"A1\",\"A2\",\"A3\",\"A4\",'A5','A6','B0','B1','C0','C1','C2','D0','E0','E1','E2','E3','E4']\n",
        "plt.pie(fallas1, labels= nombres, autopct=\"%0.1f %%\")\n",
        "plt.axis(\"equal\")\n",
        "plt.show()"
      ],
      "execution_count": 109,
      "outputs": [
        {
          "output_type": "display_data",
          "data": {
            "image/png": "[encoded data removed]",
            "text/plain": [
              "<Figure size 432x288 with 1 Axes>"
            ]
          },
          "metadata": {
            "tags": []
          }
        }
      ]
    },
    {
      "cell_type": "code",
      "metadata": {
        "id": "KKcmergr3v7o"
      },
      "source": [
        "in_C = datos2['GER'] == 'C'\n",
        "GER_C=datos2[in_C]\n",
        "#print(GER_C)"
      ],
      "execution_count": 61,
      "outputs": []
    },
    {
      "cell_type": "code",
      "metadata": {
        "colab": {
          "base_uri": "https://localhost:8080/",
          "height": 253
        },
        "id": "Cyf_O_8M39lv",
        "outputId": "fec9ac39-c318-4b81-dd39-ec16e069c782"
      },
      "source": [
        "fallas2=[GER_C['A0'].sum(), GER_C['A1'].sum(), GER_C['A2'].sum(), GER_C['A3'].sum(), GER_C['A4'].sum(), GER_C['A5'].sum(), GER_C['A6'].sum(), GER_C['B0'].sum(), GER_C['B1'].sum(), GER_C['C0'].sum(), GER_C['C1'].sum(), GER_C['C2'].sum(), GER_C['D0'].sum(), GER_C['E0'].sum(), GER_C['E1'].sum(), GER_C['E2'].sum(), GER_C['E3'].sum(), GER_C['E4'].sum()]\n",
        "nombres =[\"A0\",\"A1\",\"A2\",\"A3\",\"A4\",'A5','A6','B0','B1','C0','C1','C2','D0','E0','E1','E2','E3','E4']\n",
        "plt.pie(fallas2, labels= nombres, autopct=\"%0.1f %%\")\n",
        "plt.axis(\"equal\")\n",
        "plt.show()"
      ],
      "execution_count": 108,
      "outputs": [
        {
          "output_type": "display_data",
          "data": {
            "image/png": "[encoded data removed]",
            "text/plain": [
              "<Figure size 432x288 with 1 Axes>"
            ]
          },
          "metadata": {
            "tags": []
          }
        }
      ]
    },
    {
      "cell_type": "code",
      "metadata": {
        "id": "ChNYCXEaJxci"
      },
      "source": [
        "in_400 = datos2['KV'] == 400\r\n",
        "KV_400 =datos2[in_400]\r\n",
        "#print(KV_400)"
      ],
      "execution_count": 63,
      "outputs": []
    },
    {
      "cell_type": "code",
      "metadata": {
        "id": "DhpV0rmWTqcM",
        "colab": {
          "base_uri": "https://localhost:8080/",
          "height": 252
        },
        "outputId": "e1f48146-1380-4789-966a-df5ed7e126ee"
      },
      "source": [
        "fallas3=[KV_400['A0'].sum(), KV_400['A1'].sum(), KV_400['A2'].sum(), KV_400['A3'].sum(), KV_400['A4'].sum(), KV_400['A5'].sum(), KV_400['A6'].sum(), KV_400['B0'].sum(), KV_400['B1'].sum(), KV_400['C0'].sum(), KV_400['C1'].sum(), KV_400['C2'].sum(), KV_400['D0'].sum(), KV_400['E0'].sum(), KV_400['E1'].sum(), KV_400['E2'].sum(), KV_400['E3'].sum(), KV_400['E4'].sum()]\r\n",
        "nombres =[\"A0\",\"A1\",\"A2\",\"A3\",\"A4\",'A5','A6','B0','B1','C0','C1','C2','D0','E0','E1','E2','E3','E4']\r\n",
        "plt.pie(fallas3, labels= nombres, autopct=\"%0.1f %%\")\r\n",
        "plt.axis(\"equal\")\r\n",
        "plt.show()"
      ],
      "execution_count": 107,
      "outputs": [
        {
          "output_type": "display_data",
          "data": {
            "image/png": "[encoded data removed]",
            "text/plain": [
              "<Figure size 432x288 with 1 Axes>"
            ]
          },
          "metadata": {
            "tags": []
          }
        }
      ]
    },
    {
      "cell_type": "code",
      "metadata": {
        "id": "v7w0J5zMSN2S"
      },
      "source": [
        "in_230 = datos2['KV'] == 230\r\n",
        "KV_230 =datos2[in_230]\r\n",
        "#print(KV_230)"
      ],
      "execution_count": 65,
      "outputs": []
    },
    {
      "cell_type": "code",
      "metadata": {
        "colab": {
          "base_uri": "https://localhost:8080/",
          "height": 255
        },
        "id": "cewQOTyfKyqu",
        "outputId": "70568ecc-451e-4d3c-e0ab-bb279de5e1bd"
      },
      "source": [
        "fallas4=[KV_230['A0'].sum(), KV_230['A1'].sum(), KV_230['A2'].sum(), KV_230['A3'].sum(), KV_230['A4'].sum(), KV_230['A5'].sum(), KV_230['A6'].sum(), KV_230['B0'].sum(), KV_230['B1'].sum(), KV_230['C0'].sum(), KV_230['C1'].sum(), KV_230['C2'].sum(), KV_230['D0'].sum(), KV_230['E0'].sum(), KV_230['E1'].sum(), KV_230['E2'].sum(), KV_230['E3'].sum(), KV_230['E4'].sum()]\r\n",
        "nombres =[\"A0\",\"A1\",\"A2\",\"A3\",\"A4\",'A5','A6','B0','B1','C0','C1','C2','D0','E0','E1','E2','E3','E4']\r\n",
        "plt.pie(fallas4, labels= nombres, autopct=\"%0.1f %%\")\r\n",
        "plt.axis(\"equal\")\r\n",
        "plt.show()"
      ],
      "execution_count": 106,
      "outputs": [
        {
          "output_type": "display_data",
          "data": {
            "image/png": "[encoded data removed]",
            "text/plain": [
              "<Figure size 432x288 with 1 Axes>"
            ]
          },
          "metadata": {
            "tags": []
          }
        }
      ]
    },
    {
      "cell_type": "code",
      "metadata": {
        "id": "XCHXC8vfTWFa"
      },
      "source": [
        "in_115 = datos2['KV'] == 115\r\n",
        "KV_115 =datos2[in_115]\r\n",
        "#print(KV_115)"
      ],
      "execution_count": 67,
      "outputs": []
    },
    {
      "cell_type": "code",
      "metadata": {
        "colab": {
          "base_uri": "https://localhost:8080/",
          "height": 253
        },
        "id": "oPjdoSn7Tevx",
        "outputId": "4447de9c-e32c-4d9c-a55f-021b859d7b45"
      },
      "source": [
        "fallas5=[KV_115['A0'].sum(), KV_115['A1'].sum(), KV_115['A2'].sum(), KV_115['A3'].sum(), KV_115['A4'].sum(), KV_115['A5'].sum(), KV_115['A6'].sum(), KV_115['B0'].sum(), KV_115['B1'].sum(), KV_115['C0'].sum(), KV_115['C1'].sum(), KV_115['C2'].sum(), KV_115['D0'].sum(), KV_115['E0'].sum(), KV_115['E1'].sum(), KV_115['E2'].sum(), KV_115['E3'].sum(), KV_115['E4'].sum()]\r\n",
        "nombres =[\"A0\",\"A1\",\"A2\",\"A3\",\"A4\",'A5','A6','B0','B1','C0','C1','C2','D0','E0','E1','E2','E3','E4']\r\n",
        "plt.pie(fallas5, labels= nombres, autopct=\"%0.1f %%\")\r\n",
        "plt.axis(\"equal\")\r\n",
        "plt.show()"
      ],
      "execution_count": 105,
      "outputs": [
        {
          "output_type": "display_data",
          "data": {
            "image/png": "[encoded data removed]",
            "text/plain": [
              "<Figure size 432x288 with 1 Axes>"
            ]
          },
          "metadata": {
            "tags": []
          }
        }
      ]
    },
    {
      "cell_type": "code",
      "metadata": {
        "colab": {
          "base_uri": "https://localhost:8080/",
          "height": 252
        },
        "id": "S0VYTkHGVZ0L",
        "outputId": "fde6237b-b06c-42f0-e0f7-48e389300536"
      },
      "source": [
        "fallas6=[datos2['A0'].sum(), datos2['A1'].sum(), datos2['A2'].sum(), datos2['A3'].sum(), datos2['A4'].sum(), datos2['A5'].sum(), datos2['A6'].sum(), datos2['B0'].sum(), datos2['B1'].sum(), datos2['C0'].sum(), datos2['C1'].sum(), datos2['C2'].sum(), datos2['D0'].sum(), datos2['E0'].sum(), datos2['E1'].sum(), datos2['E2'].sum(), datos2['E3'].sum(), datos2['E4'].sum()]\r\n",
        "nombres =[\"A0\",\"A1\",\"A2\",\"A3\",\"A4\",'A5','A6','B0','B1','C0','C1','C2','D0','E0','E1','E2','E3','E4']\r\n",
        "#desfase= (  0,   0,  0   ,0    ,1,   0,   0,   0,  0,    1,   2,  3,    0,   0,   0,   0,  2,    0)\r\n",
        "plt.pie(fallas6, labels= nombres, autopct=\"%0.1f %%\")\r\n",
        "plt.axis(\"equal\")\r\n",
        "plt.show()"
      ],
      "execution_count": 104,
      "outputs": [
        {
          "output_type": "display_data",
          "data": {
            "image/png": "[encoded data removed]",
            "text/plain": [
              "<Figure size 432x288 with 1 Axes>"
            ]
          },
          "metadata": {
            "tags": []
          }
        }
      ]
    },
    {
      "cell_type": "code",
      "metadata": {
        "id": "I9OhFdip_qXp"
      },
      "source": [
        ""
      ],
      "execution_count": 69,
      "outputs": []
    }
  ]
}