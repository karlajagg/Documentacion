{
  "nbformat": 4,
  "nbformat_minor": 0,
  "metadata": {
    "colab": {
      "name": "parameter-learning-tipo-fallas.ipynb",
      "provenance": [],
      "collapsed_sections": [],
      "authorship_tag": "ABX9TyPEo/dDxWXzih93hyJ20xy9",
      "include_colab_link": true
    },
    "kernelspec": {
      "name": "python3",
      "display_name": "Python 3"
    }
  },
  "cells": [
    {
      "cell_type": "markdown",
      "metadata": {
        "id": "view-in-github",
        "colab_type": "text"
      },
      "source": [
        "<a href=\"https://colab.research.google.com/github/karlajagg/Documentacion/blob/main/parameter_learning_tipo_fallas.ipynb\" target=\"_parent\"><img src=\"https://colab.research.google.com/assets/colab-badge.svg\" alt=\"Open In Colab\"/></a>"
      ]
    },
    {
      "cell_type": "code",
      "metadata": {
        "colab": {
          "base_uri": "https://localhost:8080/"
        },
        "id": "F_405BYluf_w",
        "outputId": "190c701a-3a3c-4386-9341-901a344b5522"
      },
      "source": [
        "! pip install pgmpy"
      ],
      "execution_count": 23,
      "outputs": [
        {
          "output_type": "stream",
          "text": [
            "Requirement already satisfied: pgmpy in /usr/local/lib/python3.6/dist-packages (0.1.12)\n",
            "Requirement already satisfied: tqdm in /usr/local/lib/python3.6/dist-packages (from pgmpy) (4.41.1)\n",
            "Requirement already satisfied: joblib in /usr/local/lib/python3.6/dist-packages (from pgmpy) (0.17.0)\n",
            "Requirement already satisfied: torch in /usr/local/lib/python3.6/dist-packages (from pgmpy) (1.7.0+cu101)\n",
            "Requirement already satisfied: pandas in /usr/local/lib/python3.6/dist-packages (from pgmpy) (1.1.4)\n",
            "Requirement already satisfied: scikit-learn in /usr/local/lib/python3.6/dist-packages (from pgmpy) (0.22.2.post1)\n",
            "Requirement already satisfied: scipy in /usr/local/lib/python3.6/dist-packages (from pgmpy) (1.4.1)\n",
            "Requirement already satisfied: networkx in /usr/local/lib/python3.6/dist-packages (from pgmpy) (2.5)\n",
            "Requirement already satisfied: pyparsing in /usr/local/lib/python3.6/dist-packages (from pgmpy) (2.4.7)\n",
            "Requirement already satisfied: numpy in /usr/local/lib/python3.6/dist-packages (from pgmpy) (1.18.5)\n",
            "Requirement already satisfied: statsmodels in /usr/local/lib/python3.6/dist-packages (from pgmpy) (0.10.2)\n",
            "Requirement already satisfied: future in /usr/local/lib/python3.6/dist-packages (from torch->pgmpy) (0.16.0)\n",
            "Requirement already satisfied: typing-extensions in /usr/local/lib/python3.6/dist-packages (from torch->pgmpy) (3.7.4.3)\n",
            "Requirement already satisfied: dataclasses in /usr/local/lib/python3.6/dist-packages (from torch->pgmpy) (0.8)\n",
            "Requirement already satisfied: pytz>=2017.2 in /usr/local/lib/python3.6/dist-packages (from pandas->pgmpy) (2018.9)\n",
            "Requirement already satisfied: python-dateutil>=2.7.3 in /usr/local/lib/python3.6/dist-packages (from pandas->pgmpy) (2.8.1)\n",
            "Requirement already satisfied: decorator>=4.3.0 in /usr/local/lib/python3.6/dist-packages (from networkx->pgmpy) (4.4.2)\n",
            "Requirement already satisfied: patsy>=0.4.0 in /usr/local/lib/python3.6/dist-packages (from statsmodels->pgmpy) (0.5.1)\n",
            "Requirement already satisfied: six>=1.5 in /usr/local/lib/python3.6/dist-packages (from python-dateutil>=2.7.3->pandas->pgmpy) (1.15.0)\n"
          ],
          "name": "stdout"
        }
      ]
    },
    {
      "cell_type": "code",
      "metadata": {
        "colab": {
          "base_uri": "https://localhost:8080/"
        },
        "id": "dZTqYKNbDXCU",
        "outputId": "3eebe4f7-72a5-4e7e-a069-c802d75c08cd"
      },
      "source": [
        "import pandas as pd\r\n",
        "url= 'https://raw.githubusercontent.com/karlajagg/Documentacion/main/xtrainfallas-tf1.csv'\r\n",
        "data=pd.read_csv(url)\r\n",
        "print (data)"
      ],
      "execution_count": 24,
      "outputs": [
        {
          "output_type": "stream",
          "text": [
            "     AB  ST EHG  AP CHCH  BC CIM  ...  CE BRE ACC COM NOMS      TIPO TipoFalla\n",
            "0    S3  S5  S5  S5   S5  S5  S4  ...  S5  S4  S5  S5   S2  No falla         0\n",
            "1    S3  S5  S5  S5   S5  S5  S4  ...  S5  S4  S5  S5   S5  No falla         0\n",
            "2    S5  S5  S5  S5   S5  S5  S4  ...  S5  S4  S3  S5   S2  No falla         0\n",
            "3    S5  S5  S5  S5   S5  S5  S4  ...  S5  S4  S3  S0   S2  No falla         0\n",
            "4    S5  S5  S5  S5   S5  S5  S5  ...  S5  S4  S5  S0   S5  No falla         0\n",
            "..   ..  ..  ..  ..  ...  ..  ..  ...  ..  ..  ..  ..  ...       ...       ...\n",
            "409  S5  S5  S5  S5   S5  S5  S5  ...  S5  S4  S5  S5   S5  No falla         0\n",
            "410  S5  S5  S5  S5   S5  S5  S5  ...  S5  S4  S5  S5   S5  No falla         0\n",
            "411  S3  S5  S5  S5   S5  S5  S4  ...  S5  S4  S5  S5   S2  No falla         0\n",
            "412  S5  S3  S5  S5   S5  S5  S5  ...  S5  S4  S5  S0   S5  No falla         0\n",
            "413  S3  S5  S5  S5   S5  S5  S4  ...  S5  S4  S5  S5   S2  No falla         0\n",
            "\n",
            "[414 rows x 27 columns]\n"
          ],
          "name": "stdout"
        }
      ]
    },
    {
      "cell_type": "code",
      "metadata": {
        "colab": {
          "base_uri": "https://localhost:8080/"
        },
        "id": "xmN8u2DSsUd5",
        "outputId": "33d2f8bf-f72d-4b73-d841-6ef753616832"
      },
      "source": [
        "#Recortamos elemntos que no presentan relacion causal\r\n",
        "\r\n",
        "data1 = data[['ST','EST','CIM','BRE','NOMS','ACC','CHC','LC','AB','CHH','COM','TipoFalla']]\r\n",
        "print(data1)"
      ],
      "execution_count": 25,
      "outputs": [
        {
          "output_type": "stream",
          "text": [
            "     ST EST CIM BRE NOMS ACC CHC  LC  AB CHH COM  TipoFalla\n",
            "0    S5  S4  S4  S4   S2  S5  S5  S5  S3  S5  S5          0\n",
            "1    S5  S2  S4  S4   S5  S5  S5  S5  S3  S5  S5          0\n",
            "2    S5  S4  S4  S4   S2  S3  S5  S5  S5  S5  S5          0\n",
            "3    S5  S4  S4  S4   S2  S3  S5  S5  S5  S5  S0          0\n",
            "4    S5  S5  S5  S4   S5  S5  S5  S5  S5  S5  S0          0\n",
            "..   ..  ..  ..  ..  ...  ..  ..  ..  ..  ..  ..        ...\n",
            "409  S5  S5  S5  S4   S5  S5  S5  S5  S5  S5  S5          0\n",
            "410  S5  S5  S5  S4   S5  S5  S5  S5  S5  S5  S5          0\n",
            "411  S5  S4  S4  S4   S2  S5  S5  S5  S3  S5  S5          0\n",
            "412  S3  S5  S5  S4   S5  S5  S5  S5  S5  S5  S0          0\n",
            "413  S5  S4  S4  S4   S2  S5  S5  S5  S3  S5  S5          0\n",
            "\n",
            "[414 rows x 12 columns]\n"
          ],
          "name": "stdout"
        }
      ]
    },
    {
      "cell_type": "code",
      "metadata": {
        "id": "9WW-seZjtQdw"
      },
      "source": [
        "from pgmpy.models import BayesianModel\r\n",
        "\r\n",
        "model = BayesianModel([('ST', 'EST'),('ST', 'COM'),('EST', 'AB'),('EST', 'NOMS'),('EST', 'CIM') , ('CIM','NOMS'),  ('BRE','CIM'), ('BRE', 'ACC'),('BRE', 'CHH'),('LC', 'NOMS'),('NOMS', 'ACC'),('NOMS', 'AB') , ('NOMS','CHC'),  ('NOMS','COM'), ('ACC', 'AB'),('CHC', 'AB'),('CHC', 'CHH'),('CHC', 'COM'),('TipoFalla', 'CHC') , ('AB','COM')]) \r\n",
        "#El aprendizaje de parámetros es la tarea de estimar los valores de las \r\n",
        "#distribuciones de probabilidad condicional (CPD), "
      ],
      "execution_count": 26,
      "outputs": []
    },
    {
      "cell_type": "code",
      "metadata": {
        "colab": {
          "base_uri": "https://localhost:8080/"
        },
        "id": "s-LAErgJySaT",
        "outputId": "3bb5d254-7348-4f09-f0cb-eade4edd5676"
      },
      "source": [
        "from pgmpy.estimators import ParameterEstimator\r\n",
        "pe = ParameterEstimator(model, data)\r\n",
        "#CONTADOR DE ESTADOS\r\n",
        "print(\"\\n\", pe.state_counts('ST')) # conditional\r\n",
        "print(\"\\n\", pe.state_counts('EST')) # conditional\r\n",
        "print(\"\\n\", pe.state_counts('COM')) # unconditional\r\n",
        "print(\"\\n\", pe.state_counts('AB')) # conditional\r\n",
        "print(\"\\n\", pe.state_counts('NOMS')) # unconditional\r\n",
        "print(\"\\n\", pe.state_counts('CIM'))   # unconditional\r\n",
        "print(\"\\n\", pe.state_counts('BRE'))  # conditional\r\n",
        "print(\"\\n\", pe.state_counts('ACC')) # unconditional\r\n",
        "print(\"\\n\", pe.state_counts('CHH')) # conditional\r\n",
        "print(\"\\n\", pe.state_counts('LC')) # unconditional\r\n",
        "print(\"\\n\", pe.state_counts('CHC'))   # unconditional\r\n",
        "print(\"\\n\", pe.state_counts('TipoFalla'))  # conditional"
      ],
      "execution_count": 27,
      "outputs": [
        {
          "output_type": "stream",
          "text": [
            "\n",
            "      ST\n",
            "S2   12\n",
            "S3    7\n",
            "S5  395\n",
            "\n",
            " ST     S2   S3     S5\n",
            "EST                  \n",
            "S2    0.0  0.0    1.0\n",
            "S4    0.0  0.0  249.0\n",
            "S5   12.0  7.0  145.0\n",
            "\n",
            " AB     S3                                ...   S5                                  \n",
            "CHC    S4                            S5  ...   S4   S5                             \n",
            "NOMS   S2             S5             S2  ...   S5   S2               S5            \n",
            "ST     S2   S3   S5   S2   S3   S5   S2  ...   S5   S2   S3    S5    S2   S3     S5\n",
            "COM                                      ...                                       \n",
            "S0    0.0  0.0  0.0  0.0  0.0  0.0  0.0  ...  0.0  0.0  0.0  52.0  12.0  7.0   28.0\n",
            "S5    0.0  0.0  1.0  0.0  0.0  0.0  0.0  ...  0.0  0.0  0.0  37.0   0.0  0.0  130.0\n",
            "\n",
            "[2 rows x 24 columns]\n",
            "\n",
            " ACC    S2                                 ...   S5                                  \n",
            "CHC    S4                             S5  ...   S4   S5                             \n",
            "EST    S2         S4        S5        S2  ...   S5   S2         S4         S5       \n",
            "NOMS   S2   S5    S2   S5   S2   S5   S2  ...   S5   S2   S5    S2    S5   S2     S5\n",
            "AB                                        ...                                       \n",
            "S3    0.0  0.0   1.0  0.0  0.0  0.0  0.0  ...  0.0  0.0  1.0  24.0  25.0  0.0    2.0\n",
            "S5    0.0  0.0  12.0  0.0  0.0  0.0  0.0  ...  0.0  0.0  0.0   1.0  16.0  1.0  161.0\n",
            "\n",
            "[2 rows x 36 columns]\n",
            "\n",
            " CIM    S4                              S5                           \n",
            "EST    S2        S4          S5        S2        S4        S5       \n",
            "LC     S2   S5   S2     S5   S2   S5   S2   S5   S2   S5   S2     S5\n",
            "NOMS                                                                \n",
            "S2    0.0  0.0  0.0  208.0  0.0  1.0  0.0  0.0  0.0  0.0  0.0    0.0\n",
            "S5    0.0  1.0  1.0   40.0  0.0  0.0  0.0  0.0  0.0  0.0  0.0  163.0\n",
            "\n",
            " BRE   S4                 S5          \n",
            "EST   S2     S4     S5   S2   S4   S5\n",
            "CIM                                  \n",
            "S4   1.0  248.0    0.0  0.0  1.0  1.0\n",
            "S5   0.0    0.0  163.0  0.0  0.0  0.0\n",
            "\n",
            "     BRE\n",
            "S4  412\n",
            "S5    2\n",
            "\n",
            " BRE      S4          S5     \n",
            "NOMS     S2     S5   S2   S5\n",
            "ACC                         \n",
            "S2     13.0    0.0  0.0  0.0\n",
            "S3    134.0    0.0  0.0  0.0\n",
            "S5     60.0  205.0  2.0  0.0\n",
            "\n",
            " BRE    S4          S5     \n",
            "CHC    S4     S5   S4   S5\n",
            "CHH                       \n",
            "S4   49.0    0.0  0.0  1.0\n",
            "S5    0.0  363.0  0.0  1.0\n",
            "\n",
            "      LC\n",
            "S2    1\n",
            "S5  413\n",
            "\n",
            " NOMS          S2                         S5                    \n",
            "TipoFalla      0    1    2    4    5      0    1    2    4    5\n",
            "CHC                                                            \n",
            "S4          46.0  3.0  0.0  0.0  0.0    0.0  0.0  0.0  0.0  0.0\n",
            "S5         156.0  1.0  1.0  1.0  1.0  205.0  0.0  0.0  0.0  0.0\n",
            "\n",
            "    TipoFalla\n",
            "0        407\n",
            "1          4\n",
            "2          1\n",
            "4          1\n",
            "5          1\n"
          ],
          "name": "stdout"
        }
      ]
    },
    {
      "cell_type": "code",
      "metadata": {
        "colab": {
          "base_uri": "https://localhost:8080/"
        },
        "id": "m-poSTu11ZCK",
        "outputId": "02c0a6c6-2178-48f3-ff6d-be497dc170de"
      },
      "source": [
        "#Maximum Likelihood Estimation\r\n",
        "from pgmpy.estimators import MaximumLikelihoodEstimator\r\n",
        "mle = MaximumLikelihoodEstimator(model, data)\r\n",
        "print(mle.estimate_cpd('ST')) \r\n",
        "print(mle.estimate_cpd('EST')) \r\n",
        "print(mle.estimate_cpd('COM')) \r\n",
        "print(mle.estimate_cpd('AB')) \r\n",
        "print(mle.estimate_cpd('NOMS')) \r\n",
        "print(mle.estimate_cpd('CIM')) \r\n",
        "print(mle.estimate_cpd('BRE')) \r\n",
        "print(mle.estimate_cpd('ACC')) \r\n",
        "print(mle.estimate_cpd('CHH')) \r\n",
        "print(mle.estimate_cpd('LC')) \r\n",
        "print(mle.estimate_cpd('CHC')) \r\n",
        "print(mle.estimate_cpd('TipoFalla')) "
      ],
      "execution_count": 32,
      "outputs": [
        {
          "output_type": "stream",
          "text": [
            "+--------+-----------+\n",
            "| ST(S2) | 0.0289855 |\n",
            "+--------+-----------+\n",
            "| ST(S3) | 0.0169082 |\n",
            "+--------+-----------+\n",
            "| ST(S5) | 0.954106  |\n",
            "+--------+-----------+\n",
            "+---------+--------+--------+----------------------+\n",
            "| ST      | ST(S2) | ST(S3) | ST(S5)               |\n",
            "+---------+--------+--------+----------------------+\n",
            "| EST(S2) | 0.0    | 0.0    | 0.002531645569620253 |\n",
            "+---------+--------+--------+----------------------+\n",
            "| EST(S4) | 0.0    | 0.0    | 0.6303797468354431   |\n",
            "+---------+--------+--------+----------------------+\n",
            "| EST(S5) | 1.0    | 1.0    | 0.3670886075949367   |\n",
            "+---------+--------+--------+----------------------+\n",
            "+---------+----------+----------+----------+----------+----------+----------+----------+----------+----------+----------+----------+----------+----------+----------+----------+----------+----------+----------+----------+----------+--------------------+----------+----------+---------------------+\n",
            "| AB      | AB(S3)   | AB(S3)   | AB(S3)   | AB(S3)   | AB(S3)   | AB(S3)   | AB(S3)   | AB(S3)   | AB(S3)   | AB(S3)   | AB(S3)   | AB(S3)   | AB(S5)   | AB(S5)   | AB(S5)   | AB(S5)   | AB(S5)   | AB(S5)   | AB(S5)   | AB(S5)   | AB(S5)             | AB(S5)   | AB(S5)   | AB(S5)              |\n",
            "+---------+----------+----------+----------+----------+----------+----------+----------+----------+----------+----------+----------+----------+----------+----------+----------+----------+----------+----------+----------+----------+--------------------+----------+----------+---------------------+\n",
            "| CHC     | CHC(S4)  | CHC(S4)  | CHC(S4)  | CHC(S4)  | CHC(S4)  | CHC(S4)  | CHC(S5)  | CHC(S5)  | CHC(S5)  | CHC(S5)  | CHC(S5)  | CHC(S5)  | CHC(S4)  | CHC(S4)  | CHC(S4)  | CHC(S4)  | CHC(S4)  | CHC(S4)  | CHC(S5)  | CHC(S5)  | CHC(S5)            | CHC(S5)  | CHC(S5)  | CHC(S5)             |\n",
            "+---------+----------+----------+----------+----------+----------+----------+----------+----------+----------+----------+----------+----------+----------+----------+----------+----------+----------+----------+----------+----------+--------------------+----------+----------+---------------------+\n",
            "| NOMS    | NOMS(S2) | NOMS(S2) | NOMS(S2) | NOMS(S5) | NOMS(S5) | NOMS(S5) | NOMS(S2) | NOMS(S2) | NOMS(S2) | NOMS(S5) | NOMS(S5) | NOMS(S5) | NOMS(S2) | NOMS(S2) | NOMS(S2) | NOMS(S5) | NOMS(S5) | NOMS(S5) | NOMS(S2) | NOMS(S2) | NOMS(S2)           | NOMS(S5) | NOMS(S5) | NOMS(S5)            |\n",
            "+---------+----------+----------+----------+----------+----------+----------+----------+----------+----------+----------+----------+----------+----------+----------+----------+----------+----------+----------+----------+----------+--------------------+----------+----------+---------------------+\n",
            "| ST      | ST(S2)   | ST(S3)   | ST(S5)   | ST(S2)   | ST(S3)   | ST(S5)   | ST(S2)   | ST(S3)   | ST(S5)   | ST(S2)   | ST(S3)   | ST(S5)   | ST(S2)   | ST(S3)   | ST(S5)   | ST(S2)   | ST(S3)   | ST(S5)   | ST(S2)   | ST(S3)   | ST(S5)             | ST(S2)   | ST(S3)   | ST(S5)              |\n",
            "+---------+----------+----------+----------+----------+----------+----------+----------+----------+----------+----------+----------+----------+----------+----------+----------+----------+----------+----------+----------+----------+--------------------+----------+----------+---------------------+\n",
            "| COM(S0) | 0.5      | 0.5      | 0.0      | 0.5      | 0.5      | 0.5      | 0.5      | 0.5      | 0.0      | 0.5      | 0.5      | 0.0      | 0.5      | 0.5      | 0.0      | 0.5      | 0.5      | 0.5      | 0.5      | 0.5      | 0.5842696629213483 | 1.0      | 1.0      | 0.17721518987341772 |\n",
            "+---------+----------+----------+----------+----------+----------+----------+----------+----------+----------+----------+----------+----------+----------+----------+----------+----------+----------+----------+----------+----------+--------------------+----------+----------+---------------------+\n",
            "| COM(S5) | 0.5      | 0.5      | 1.0      | 0.5      | 0.5      | 0.5      | 0.5      | 0.5      | 1.0      | 0.5      | 0.5      | 1.0      | 0.5      | 0.5      | 1.0      | 0.5      | 0.5      | 0.5      | 0.5      | 0.5      | 0.4157303370786517 | 0.0      | 0.0      | 0.8227848101265823  |\n",
            "+---------+----------+----------+----------+----------+----------+----------+----------+----------+----------+----------+----------+----------+----------+----------+----------+----------+----------+----------+----------+----------+--------------------+----------+----------+---------------------+\n",
            "+--------+----------+----------+---------------------+----------+----------+----------+----------+----------+----------+----------+----------+----------+----------+----------+----------+----------+----------+----------+----------+----------+---------------------+----------+----------+----------+----------+----------+----------+----------+----------+----------+----------+----------+----------+--------------------+----------+----------------------+\n",
            "| ACC    | ACC(S2)  | ACC(S2)  | ACC(S2)             | ACC(S2)  | ACC(S2)  | ACC(S2)  | ACC(S2)  | ACC(S2)  | ACC(S2)  | ACC(S2)  | ACC(S2)  | ACC(S2)  | ACC(S3)  | ACC(S3)  | ACC(S3)  | ACC(S3)  | ACC(S3)  | ACC(S3)  | ACC(S3)  | ACC(S3)  | ACC(S3)             | ACC(S3)  | ACC(S3)  | ACC(S3)  | ACC(S5)  | ACC(S5)  | ACC(S5)  | ACC(S5)  | ACC(S5)  | ACC(S5)  | ACC(S5)  | ACC(S5)  | ACC(S5)  | ACC(S5)            | ACC(S5)  | ACC(S5)              |\n",
            "+--------+----------+----------+---------------------+----------+----------+----------+----------+----------+----------+----------+----------+----------+----------+----------+----------+----------+----------+----------+----------+----------+---------------------+----------+----------+----------+----------+----------+----------+----------+----------+----------+----------+----------+----------+--------------------+----------+----------------------+\n",
            "| CHC    | CHC(S4)  | CHC(S4)  | CHC(S4)             | CHC(S4)  | CHC(S4)  | CHC(S4)  | CHC(S5)  | CHC(S5)  | CHC(S5)  | CHC(S5)  | CHC(S5)  | CHC(S5)  | CHC(S4)  | CHC(S4)  | CHC(S4)  | CHC(S4)  | CHC(S4)  | CHC(S4)  | CHC(S5)  | CHC(S5)  | CHC(S5)             | CHC(S5)  | CHC(S5)  | CHC(S5)  | CHC(S4)  | CHC(S4)  | CHC(S4)  | CHC(S4)  | CHC(S4)  | CHC(S4)  | CHC(S5)  | CHC(S5)  | CHC(S5)  | CHC(S5)            | CHC(S5)  | CHC(S5)              |\n",
            "+--------+----------+----------+---------------------+----------+----------+----------+----------+----------+----------+----------+----------+----------+----------+----------+----------+----------+----------+----------+----------+----------+---------------------+----------+----------+----------+----------+----------+----------+----------+----------+----------+----------+----------+----------+--------------------+----------+----------------------+\n",
            "| EST    | EST(S2)  | EST(S2)  | EST(S4)             | EST(S4)  | EST(S5)  | EST(S5)  | EST(S2)  | EST(S2)  | EST(S4)  | EST(S4)  | EST(S5)  | EST(S5)  | EST(S2)  | EST(S2)  | EST(S4)  | EST(S4)  | EST(S5)  | EST(S5)  | EST(S2)  | EST(S2)  | EST(S4)             | EST(S4)  | EST(S5)  | EST(S5)  | EST(S2)  | EST(S2)  | EST(S4)  | EST(S4)  | EST(S5)  | EST(S5)  | EST(S2)  | EST(S2)  | EST(S4)  | EST(S4)            | EST(S5)  | EST(S5)              |\n",
            "+--------+----------+----------+---------------------+----------+----------+----------+----------+----------+----------+----------+----------+----------+----------+----------+----------+----------+----------+----------+----------+----------+---------------------+----------+----------+----------+----------+----------+----------+----------+----------+----------+----------+----------+----------+--------------------+----------+----------------------+\n",
            "| NOMS   | NOMS(S2) | NOMS(S5) | NOMS(S2)            | NOMS(S5) | NOMS(S2) | NOMS(S5) | NOMS(S2) | NOMS(S5) | NOMS(S2) | NOMS(S5) | NOMS(S2) | NOMS(S5) | NOMS(S2) | NOMS(S5) | NOMS(S2) | NOMS(S5) | NOMS(S2) | NOMS(S5) | NOMS(S2) | NOMS(S5) | NOMS(S2)            | NOMS(S5) | NOMS(S2) | NOMS(S5) | NOMS(S2) | NOMS(S5) | NOMS(S2) | NOMS(S5) | NOMS(S2) | NOMS(S5) | NOMS(S2) | NOMS(S5) | NOMS(S2) | NOMS(S5)           | NOMS(S2) | NOMS(S5)             |\n",
            "+--------+----------+----------+---------------------+----------+----------+----------+----------+----------+----------+----------+----------+----------+----------+----------+----------+----------+----------+----------+----------+----------+---------------------+----------+----------+----------+----------+----------+----------+----------+----------+----------+----------+----------+----------+--------------------+----------+----------------------+\n",
            "| AB(S3) | 0.5      | 0.5      | 0.07692307692307693 | 0.5      | 0.5      | 0.5      | 0.5      | 0.5      | 0.5      | 0.5      | 0.5      | 0.5      | 0.5      | 0.5      | 0.5      | 0.5      | 0.5      | 0.5      | 0.5      | 0.5      | 0.35074626865671643 | 0.5      | 0.5      | 0.5      | 0.5      | 0.5      | 0.0      | 0.5      | 0.5      | 0.5      | 0.5      | 1.0      | 0.96     | 0.6097560975609756 | 0.0      | 0.012269938650306749 |\n",
            "+--------+----------+----------+---------------------+----------+----------+----------+----------+----------+----------+----------+----------+----------+----------+----------+----------+----------+----------+----------+----------+----------+---------------------+----------+----------+----------+----------+----------+----------+----------+----------+----------+----------+----------+----------+--------------------+----------+----------------------+\n",
            "| AB(S5) | 0.5      | 0.5      | 0.9230769230769231  | 0.5      | 0.5      | 0.5      | 0.5      | 0.5      | 0.5      | 0.5      | 0.5      | 0.5      | 0.5      | 0.5      | 0.5      | 0.5      | 0.5      | 0.5      | 0.5      | 0.5      | 0.6492537313432836  | 0.5      | 0.5      | 0.5      | 0.5      | 0.5      | 1.0      | 0.5      | 0.5      | 0.5      | 0.5      | 0.0      | 0.04     | 0.3902439024390244 | 1.0      | 0.9877300613496932   |\n",
            "+--------+----------+----------+---------------------+----------+----------+----------+----------+----------+----------+----------+----------+----------+----------+----------+----------+----------+----------+----------+----------+----------+---------------------+----------+----------+----------+----------+----------+----------+----------+----------+----------+----------+----------+----------+--------------------+----------+----------------------+\n",
            "+----------+---------+---------+---------+---------------------+---------+---------+---------+---------+---------+---------+---------+---------+\n",
            "| CIM      | CIM(S4) | CIM(S4) | CIM(S4) | CIM(S4)             | CIM(S4) | CIM(S4) | CIM(S5) | CIM(S5) | CIM(S5) | CIM(S5) | CIM(S5) | CIM(S5) |\n",
            "+----------+---------+---------+---------+---------------------+---------+---------+---------+---------+---------+---------+---------+---------+\n",
            "| EST      | EST(S2) | EST(S2) | EST(S4) | EST(S4)             | EST(S5) | EST(S5) | EST(S2) | EST(S2) | EST(S4) | EST(S4) | EST(S5) | EST(S5) |\n",
            "+----------+---------+---------+---------+---------------------+---------+---------+---------+---------+---------+---------+---------+---------+\n",
            "| LC       | LC(S2)  | LC(S5)  | LC(S2)  | LC(S5)              | LC(S2)  | LC(S5)  | LC(S2)  | LC(S5)  | LC(S2)  | LC(S5)  | LC(S2)  | LC(S5)  |\n",
            "+----------+---------+---------+---------+---------------------+---------+---------+---------+---------+---------+---------+---------+---------+\n",
            "| NOMS(S2) | 0.5     | 0.0     | 0.0     | 0.8387096774193549  | 0.5     | 1.0     | 0.5     | 0.5     | 0.5     | 0.5     | 0.5     | 0.0     |\n",
            "+----------+---------+---------+---------+---------------------+---------+---------+---------+---------+---------+---------+---------+---------+\n",
            "| NOMS(S5) | 0.5     | 1.0     | 1.0     | 0.16129032258064516 | 0.5     | 0.0     | 0.5     | 0.5     | 0.5     | 0.5     | 0.5     | 1.0     |\n",
            "+----------+---------+---------+---------+---------------------+---------+---------+---------+---------+---------+---------+---------+---------+\n",
            "+---------+---------+---------+---------+---------+---------+---------+\n",
            "| BRE     | BRE(S4) | BRE(S4) | BRE(S4) | BRE(S5) | BRE(S5) | BRE(S5) |\n",
            "+---------+---------+---------+---------+---------+---------+---------+\n",
            "| EST     | EST(S2) | EST(S4) | EST(S5) | EST(S2) | EST(S4) | EST(S5) |\n",
            "+---------+---------+---------+---------+---------+---------+---------+\n",
            "| CIM(S4) | 1.0     | 1.0     | 0.0     | 0.5     | 1.0     | 1.0     |\n",
            "+---------+---------+---------+---------+---------+---------+---------+\n",
            "| CIM(S5) | 0.0     | 0.0     | 1.0     | 0.5     | 0.0     | 0.0     |\n",
            "+---------+---------+---------+---------+---------+---------+---------+\n",
            "+---------+------------+\n",
            "| BRE(S4) | 0.995169   |\n",
            "+---------+------------+\n",
            "| BRE(S5) | 0.00483092 |\n",
            "+---------+------------+\n",
            "+---------+---------------------+----------+----------+--------------------+\n",
            "| BRE     | BRE(S4)             | BRE(S4)  | BRE(S5)  | BRE(S5)            |\n",
            "+---------+---------------------+----------+----------+--------------------+\n",
            "| NOMS    | NOMS(S2)            | NOMS(S5) | NOMS(S2) | NOMS(S5)           |\n",
            "+---------+---------------------+----------+----------+--------------------+\n",
            "| ACC(S2) | 0.06280193236714976 | 0.0      | 0.0      | 0.3333333333333333 |\n",
            "+---------+---------------------+----------+----------+--------------------+\n",
            "| ACC(S3) | 0.6473429951690821  | 0.0      | 0.0      | 0.3333333333333333 |\n",
            "+---------+---------------------+----------+----------+--------------------+\n",
            "| ACC(S5) | 0.2898550724637681  | 1.0      | 1.0      | 0.3333333333333333 |\n",
            "+---------+---------------------+----------+----------+--------------------+\n",
            "+---------+---------+---------+---------+---------+\n",
            "| BRE     | BRE(S4) | BRE(S4) | BRE(S5) | BRE(S5) |\n",
            "+---------+---------+---------+---------+---------+\n",
            "| CHC     | CHC(S4) | CHC(S5) | CHC(S4) | CHC(S5) |\n",
            "+---------+---------+---------+---------+---------+\n",
            "| CHH(S4) | 1.0     | 0.0     | 0.5     | 0.5     |\n",
            "+---------+---------+---------+---------+---------+\n",
            "| CHH(S5) | 0.0     | 1.0     | 0.5     | 0.5     |\n",
            "+---------+---------+---------+---------+---------+\n",
            "+--------+------------+\n",
            "| LC(S2) | 0.00241546 |\n",
            "+--------+------------+\n",
            "| LC(S5) | 0.997585   |\n",
            "+--------+------------+\n",
            "+-----------+---------------------+--------------+--------------+--------------+--------------+--------------+--------------+--------------+--------------+--------------+\n",
            "| NOMS      | NOMS(S2)            | NOMS(S2)     | NOMS(S2)     | NOMS(S2)     | NOMS(S2)     | NOMS(S5)     | NOMS(S5)     | NOMS(S5)     | NOMS(S5)     | NOMS(S5)     |\n",
            "+-----------+---------------------+--------------+--------------+--------------+--------------+--------------+--------------+--------------+--------------+--------------+\n",
            "| TipoFalla | TipoFalla(0)        | TipoFalla(1) | TipoFalla(2) | TipoFalla(4) | TipoFalla(5) | TipoFalla(0) | TipoFalla(1) | TipoFalla(2) | TipoFalla(4) | TipoFalla(5) |\n",
            "+-----------+---------------------+--------------+--------------+--------------+--------------+--------------+--------------+--------------+--------------+--------------+\n",
            "| CHC(S4)   | 0.22772277227722773 | 0.75         | 0.0          | 0.0          | 0.0          | 0.0          | 0.5          | 0.5          | 0.5          | 0.5          |\n",
            "+-----------+---------------------+--------------+--------------+--------------+--------------+--------------+--------------+--------------+--------------+--------------+\n",
            "| CHC(S5)   | 0.7722772277227723  | 0.25         | 1.0          | 1.0          | 1.0          | 1.0          | 0.5          | 0.5          | 0.5          | 0.5          |\n",
            "+-----------+---------------------+--------------+--------------+--------------+--------------+--------------+--------------+--------------+--------------+--------------+\n",
            "+--------------+------------+\n",
            "| TipoFalla(0) | 0.983092   |\n",
            "+--------------+------------+\n",
            "| TipoFalla(1) | 0.00966184 |\n",
            "+--------------+------------+\n",
            "| TipoFalla(2) | 0.00241546 |\n",
            "+--------------+------------+\n",
            "| TipoFalla(4) | 0.00241546 |\n",
            "+--------------+------------+\n",
            "| TipoFalla(5) | 0.00241546 |\n",
            "+--------------+------------+\n"
          ],
          "name": "stdout"
        }
      ]
    },
    {
      "cell_type": "code",
      "metadata": {
        "id": "hesyEMrN16nH"
      },
      "source": [
        "# Calibrate all CPDs of `model` using MLE:\r\n",
        "model.fit(data, estimator=MaximumLikelihoodEstimator)"
      ],
      "execution_count": 29,
      "outputs": []
    },
    {
      "cell_type": "code",
      "metadata": {
        "colab": {
          "base_uri": "https://localhost:8080/"
        },
        "id": "DMwhIDoy2aSd",
        "outputId": "9b365596-b26e-48b3-e07d-46cc3c0551bf"
      },
      "source": [
        "#Bayesian Parameter Estimation\r\n",
        "#K2, que simplemente suma 1 al recuento de cada estado\r\n",
        "\r\n",
        "from pgmpy.estimators import BayesianEstimator\r\n",
        "est = BayesianEstimator(model, data)\r\n",
        "\r\n",
        "print(est.estimate_cpd('TipoFalla', prior_type='BDeu', equivalent_sample_size=10))"
      ],
      "execution_count": 30,
      "outputs": [
        {
          "output_type": "stream",
          "text": [
            "+--------------+------------+\n",
            "| TipoFalla(0) | 0.964623   |\n",
            "+--------------+------------+\n",
            "| TipoFalla(1) | 0.0141509  |\n",
            "+--------------+------------+\n",
            "| TipoFalla(2) | 0.00707547 |\n",
            "+--------------+------------+\n",
            "| TipoFalla(4) | 0.00707547 |\n",
            "+--------------+------------+\n",
            "| TipoFalla(5) | 0.00707547 |\n",
            "+--------------+------------+\n"
          ],
          "name": "stdout"
        }
      ]
    },
    {
      "cell_type": "code",
      "metadata": {
        "colab": {
          "base_uri": "https://localhost:8080/"
        },
        "id": "k3g70MZX3I5-",
        "outputId": "78691917-2679-4e93-d3db-79476e772776"
      },
      "source": [
        "# BayesianEstimator, too, can be used via the fit()-method\r\n",
        "# Aqui imprimiremos todas las CPDs\r\n",
        "model.fit(data, estimator=BayesianEstimator, prior_type=\"BDeu\", equivalent_sample_size=10) # default equivalent_sample_size=5\r\n",
        "for cpd in model.get_cpds():\r\n",
        "    print(cpd)"
      ],
      "execution_count": 31,
      "outputs": [
        {
          "output_type": "stream",
          "text": [
            "WARNING:root:Replacing existing CPD for ST\n",
            "WARNING:root:Replacing existing CPD for EST\n",
            "WARNING:root:Replacing existing CPD for COM\n",
            "WARNING:root:Replacing existing CPD for AB\n",
            "WARNING:root:Replacing existing CPD for NOMS\n",
            "WARNING:root:Replacing existing CPD for CIM\n",
            "WARNING:root:Replacing existing CPD for BRE\n",
            "WARNING:root:Replacing existing CPD for ACC\n",
            "WARNING:root:Replacing existing CPD for CHH\n",
            "WARNING:root:Replacing existing CPD for LC\n",
            "WARNING:root:Replacing existing CPD for CHC\n",
            "WARNING:root:Replacing existing CPD for TipoFalla\n"
          ],
          "name": "stderr"
        },
        {
          "output_type": "stream",
          "text": [
            "+--------+----------+----------+---------------------+----------+----------+----------+----------+----------+----------+----------+----------+----------+----------+----------+----------+----------+----------+----------+----------+----------+---------------------+----------+----------+----------+----------+----------+-----------------------+----------+----------+----------+----------+---------------------+----------------------+---------------------+---------------------+----------------------+\n",
            "| ACC    | ACC(S2)  | ACC(S2)  | ACC(S2)             | ACC(S2)  | ACC(S2)  | ACC(S2)  | ACC(S2)  | ACC(S2)  | ACC(S2)  | ACC(S2)  | ACC(S2)  | ACC(S2)  | ACC(S3)  | ACC(S3)  | ACC(S3)  | ACC(S3)  | ACC(S3)  | ACC(S3)  | ACC(S3)  | ACC(S3)  | ACC(S3)             | ACC(S3)  | ACC(S3)  | ACC(S3)  | ACC(S5)  | ACC(S5)  | ACC(S5)               | ACC(S5)  | ACC(S5)  | ACC(S5)  | ACC(S5)  | ACC(S5)             | ACC(S5)              | ACC(S5)             | ACC(S5)             | ACC(S5)              |\n",
            "+--------+----------+----------+---------------------+----------+----------+----------+----------+----------+----------+----------+----------+----------+----------+----------+----------+----------+----------+----------+----------+----------+---------------------+----------+----------+----------+----------+----------+-----------------------+----------+----------+----------+----------+---------------------+----------------------+---------------------+---------------------+----------------------+\n",
            "| CHC    | CHC(S4)  | CHC(S4)  | CHC(S4)             | CHC(S4)  | CHC(S4)  | CHC(S4)  | CHC(S5)  | CHC(S5)  | CHC(S5)  | CHC(S5)  | CHC(S5)  | CHC(S5)  | CHC(S4)  | CHC(S4)  | CHC(S4)  | CHC(S4)  | CHC(S4)  | CHC(S4)  | CHC(S5)  | CHC(S5)  | CHC(S5)             | CHC(S5)  | CHC(S5)  | CHC(S5)  | CHC(S4)  | CHC(S4)  | CHC(S4)               | CHC(S4)  | CHC(S4)  | CHC(S4)  | CHC(S5)  | CHC(S5)             | CHC(S5)              | CHC(S5)             | CHC(S5)             | CHC(S5)              |\n",
            "+--------+----------+----------+---------------------+----------+----------+----------+----------+----------+----------+----------+----------+----------+----------+----------+----------+----------+----------+----------+----------+----------+---------------------+----------+----------+----------+----------+----------+-----------------------+----------+----------+----------+----------+---------------------+----------------------+---------------------+---------------------+----------------------+\n",
            "| EST    | EST(S2)  | EST(S2)  | EST(S4)             | EST(S4)  | EST(S5)  | EST(S5)  | EST(S2)  | EST(S2)  | EST(S4)  | EST(S4)  | EST(S5)  | EST(S5)  | EST(S2)  | EST(S2)  | EST(S4)  | EST(S4)  | EST(S5)  | EST(S5)  | EST(S2)  | EST(S2)  | EST(S4)             | EST(S4)  | EST(S5)  | EST(S5)  | EST(S2)  | EST(S2)  | EST(S4)               | EST(S4)  | EST(S5)  | EST(S5)  | EST(S2)  | EST(S2)             | EST(S4)              | EST(S4)             | EST(S5)             | EST(S5)              |\n",
            "+--------+----------+----------+---------------------+----------+----------+----------+----------+----------+----------+----------+----------+----------+----------+----------+----------+----------+----------+----------+----------+----------+---------------------+----------+----------+----------+----------+----------+-----------------------+----------+----------+----------+----------+---------------------+----------------------+---------------------+---------------------+----------------------+\n",
            "| NOMS   | NOMS(S2) | NOMS(S5) | NOMS(S2)            | NOMS(S5) | NOMS(S2) | NOMS(S5) | NOMS(S2) | NOMS(S5) | NOMS(S2) | NOMS(S5) | NOMS(S2) | NOMS(S5) | NOMS(S2) | NOMS(S5) | NOMS(S2) | NOMS(S5) | NOMS(S2) | NOMS(S5) | NOMS(S2) | NOMS(S5) | NOMS(S2)            | NOMS(S5) | NOMS(S2) | NOMS(S5) | NOMS(S2) | NOMS(S5) | NOMS(S2)              | NOMS(S5) | NOMS(S2) | NOMS(S5) | NOMS(S2) | NOMS(S5)            | NOMS(S2)             | NOMS(S5)            | NOMS(S2)            | NOMS(S5)             |\n",
            "+--------+----------+----------+---------------------+----------+----------+----------+----------+----------+----------+----------+----------+----------+----------+----------+----------+----------+----------+----------+----------+----------+---------------------+----------+----------+----------+----------+----------+-----------------------+----------+----------+----------+----------+---------------------+----------------------+---------------------+---------------------+----------------------+\n",
            "| AB(S3) | 0.5      | 0.5      | 0.08577405857740585 | 0.5      | 0.5      | 0.5      | 0.5      | 0.5      | 0.5      | 0.5      | 0.5      | 0.5      | 0.5      | 0.5      | 0.5      | 0.5      | 0.5      | 0.5      | 0.5      | 0.5      | 0.35105502689284235 | 0.5      | 0.5      | 0.5      | 0.5      | 0.5      | 0.0038284839203675354 | 0.5      | 0.5      | 0.5      | 0.5      | 0.891304347826087   | 0.9549450549450549   | 0.6090174966352625  | 0.10869565217391305 | 0.013099693773392311 |\n",
            "+--------+----------+----------+---------------------+----------+----------+----------+----------+----------+----------+----------+----------+----------+----------+----------+----------+----------+----------+----------+----------+----------+---------------------+----------+----------+----------+----------+----------+-----------------------+----------+----------+----------+----------+---------------------+----------------------+---------------------+---------------------+----------------------+\n",
            "| AB(S5) | 0.5      | 0.5      | 0.9142259414225942  | 0.5      | 0.5      | 0.5      | 0.5      | 0.5      | 0.5      | 0.5      | 0.5      | 0.5      | 0.5      | 0.5      | 0.5      | 0.5      | 0.5      | 0.5      | 0.5      | 0.5      | 0.6489449731071576  | 0.5      | 0.5      | 0.5      | 0.5      | 0.5      | 0.9961715160796325    | 0.5      | 0.5      | 0.5      | 0.5      | 0.10869565217391305 | 0.045054945054945054 | 0.39098250336473755 | 0.891304347826087   | 0.9869003062266077   |\n",
            "+--------+----------+----------+---------------------+----------+----------+----------+----------+----------+----------+----------+----------+----------+----------+----------+----------+----------+----------+----------+----------+----------+---------------------+----------+----------+----------+----------+----------+-----------------------+----------+----------+----------+----------+---------------------+----------------------+---------------------+---------------------+----------------------+\n",
            "+---------+--------------------+----------------------+--------------------+---------------------+\n",
            "| BRE     | BRE(S4)            | BRE(S4)              | BRE(S5)            | BRE(S5)             |\n",
            "+---------+--------------------+----------------------+--------------------+---------------------+\n",
            "| NOMS    | NOMS(S2)           | NOMS(S5)             | NOMS(S2)           | NOMS(S5)            |\n",
            "+---------+--------------------+----------------------+--------------------+---------------------+\n",
            "| ACC(S2) | 0.066030230708035  | 0.004016064257028113 | 0.1851851851851852 | 0.33333333333333337 |\n",
            "+---------+--------------------+----------------------+--------------------+---------------------+\n",
            "| ACC(S3) | 0.6435958631662688 | 0.004016064257028113 | 0.1851851851851852 | 0.33333333333333337 |\n",
            "+---------+--------------------+----------------------+--------------------+---------------------+\n",
            "| ACC(S5) | 0.2903739061256961 | 0.9919678714859438   | 0.6296296296296297 | 0.33333333333333337 |\n",
            "+---------+--------------------+----------------------+--------------------+---------------------+\n",
            "+---------+-----------+\n",
            "| BRE(S4) | 0.983491  |\n",
            "+---------+-----------+\n",
            "| BRE(S5) | 0.0165094 |\n",
            "+---------+-----------+\n",
            "+-----------+-------------------+--------------+--------------+--------------+--------------+-----------------------+--------------+--------------+--------------+--------------+\n",
            "| NOMS      | NOMS(S2)          | NOMS(S2)     | NOMS(S2)     | NOMS(S2)     | NOMS(S2)     | NOMS(S5)              | NOMS(S5)     | NOMS(S5)     | NOMS(S5)     | NOMS(S5)     |\n",
            "+-----------+-------------------+--------------+--------------+--------------+--------------+-----------------------+--------------+--------------+--------------+--------------+\n",
            "| TipoFalla | TipoFalla(0)      | TipoFalla(1) | TipoFalla(2) | TipoFalla(4) | TipoFalla(5) | TipoFalla(0)          | TipoFalla(1) | TipoFalla(2) | TipoFalla(4) | TipoFalla(5) |\n",
            "+-----------+-------------------+--------------+--------------+--------------+--------------+-----------------------+--------------+--------------+--------------+--------------+\n",
            "| CHC(S4)   | 0.229064039408867 | 0.7          | 0.25         | 0.25         | 0.25         | 0.0024271844660194173 | 0.5          | 0.5          | 0.5          | 0.5          |\n",
            "+-----------+-------------------+--------------+--------------+--------------+--------------+-----------------------+--------------+--------------+--------------+--------------+\n",
            "| CHC(S5)   | 0.770935960591133 | 0.3          | 0.75         | 0.75         | 0.75         | 0.9975728155339806    | 0.5          | 0.5          | 0.5          | 0.5          |\n",
            "+-----------+-------------------+--------------+--------------+--------------+--------------+-----------------------+--------------+--------------+--------------+--------------+\n",
            "+---------+----------------------+----------------------+---------+---------+\n",
            "| BRE     | BRE(S4)              | BRE(S4)              | BRE(S5) | BRE(S5) |\n",
            "+---------+----------------------+----------------------+---------+---------+\n",
            "| CHC     | CHC(S4)              | CHC(S5)              | CHC(S4) | CHC(S5) |\n",
            "+---------+----------------------+----------------------+---------+---------+\n",
            "| CHH(S4) | 0.9757281553398058   | 0.003419972640218878 | 0.5     | 0.5     |\n",
            "+---------+----------------------+----------------------+---------+---------+\n",
            "| CHH(S5) | 0.024271844660194174 | 0.9965800273597811   | 0.5     | 0.5     |\n",
            "+---------+----------------------+----------------------+---------+---------+\n",
            "+---------+---------+----------------------+----------------------+---------+---------+---------+\n",
            "| BRE     | BRE(S4) | BRE(S4)              | BRE(S4)              | BRE(S5) | BRE(S5) | BRE(S5) |\n",
            "+---------+---------+----------------------+----------------------+---------+---------+---------+\n",
            "| EST     | EST(S2) | EST(S4)              | EST(S5)              | EST(S2) | EST(S4) | EST(S5) |\n",
            "+---------+---------+----------------------+----------------------+---------+---------+---------+\n",
            "| CIM(S4) | 0.6875  | 0.9966622162883845   | 0.005060728744939271 | 0.5     | 0.6875  | 0.6875  |\n",
            "+---------+---------+----------------------+----------------------+---------+---------+---------+\n",
            "| CIM(S5) | 0.3125  | 0.003337783711615487 | 0.9949392712550607   | 0.5     | 0.3125  | 0.3125  |\n",
            "+---------+---------+----------------------+----------------------+---------+---------+---------+\n",
            "+---------+----------+----------+--------------------+----------+----------+----------+----------+----------+----------------------+----------+----------+----------------------+----------+----------+----------------------+----------+----------+----------+----------+----------+---------------------+----------------------+---------------------+--------------------+\n",
            "| AB      | AB(S3)   | AB(S3)   | AB(S3)             | AB(S3)   | AB(S3)   | AB(S3)   | AB(S3)   | AB(S3)   | AB(S3)               | AB(S3)   | AB(S3)   | AB(S3)               | AB(S5)   | AB(S5)   | AB(S5)               | AB(S5)   | AB(S5)   | AB(S5)   | AB(S5)   | AB(S5)   | AB(S5)              | AB(S5)               | AB(S5)              | AB(S5)             |\n",
            "+---------+----------+----------+--------------------+----------+----------+----------+----------+----------+----------------------+----------+----------+----------------------+----------+----------+----------------------+----------+----------+----------+----------+----------+---------------------+----------------------+---------------------+--------------------+\n",
            "| CHC     | CHC(S4)  | CHC(S4)  | CHC(S4)            | CHC(S4)  | CHC(S4)  | CHC(S4)  | CHC(S5)  | CHC(S5)  | CHC(S5)              | CHC(S5)  | CHC(S5)  | CHC(S5)              | CHC(S4)  | CHC(S4)  | CHC(S4)              | CHC(S4)  | CHC(S4)  | CHC(S4)  | CHC(S5)  | CHC(S5)  | CHC(S5)             | CHC(S5)              | CHC(S5)             | CHC(S5)            |\n",
            "+---------+----------+----------+--------------------+----------+----------+----------+----------+----------+----------------------+----------+----------+----------------------+----------+----------+----------------------+----------+----------+----------+----------+----------+---------------------+----------------------+---------------------+--------------------+\n",
            "| NOMS    | NOMS(S2) | NOMS(S2) | NOMS(S2)           | NOMS(S5) | NOMS(S5) | NOMS(S5) | NOMS(S2) | NOMS(S2) | NOMS(S2)             | NOMS(S5) | NOMS(S5) | NOMS(S5)             | NOMS(S2) | NOMS(S2) | NOMS(S2)             | NOMS(S5) | NOMS(S5) | NOMS(S5) | NOMS(S2) | NOMS(S2) | NOMS(S2)            | NOMS(S5)             | NOMS(S5)            | NOMS(S5)           |\n",
            "+---------+----------+----------+--------------------+----------+----------+----------+----------+----------+----------------------+----------+----------+----------------------+----------+----------+----------------------+----------+----------+----------+----------+----------+---------------------+----------------------+---------------------+--------------------+\n",
            "| ST      | ST(S2)   | ST(S3)   | ST(S5)             | ST(S2)   | ST(S3)   | ST(S5)   | ST(S2)   | ST(S3)   | ST(S5)               | ST(S2)   | ST(S3)   | ST(S5)               | ST(S2)   | ST(S3)   | ST(S5)               | ST(S2)   | ST(S3)   | ST(S5)   | ST(S2)   | ST(S3)   | ST(S5)              | ST(S2)               | ST(S3)              | ST(S5)             |\n",
            "+---------+----------+----------+--------------------+----------+----------+----------+----------+----------+----------------------+----------+----------+----------------------+----------+----------+----------------------+----------+----------+----------+----------+----------+---------------------+----------------------+---------------------+--------------------+\n",
            "| COM(S0) | 0.5      | 0.5      | 0.1470588235294118 | 0.5      | 0.5      | 0.5      | 0.5      | 0.5      | 0.002917152858809802 | 0.5      | 0.5      | 0.007331378299120236 | 0.5      | 0.5      | 0.004302925989672977 | 0.5      | 0.5      | 0.5      | 0.5      | 0.5      | 0.5838769804287046  | 0.9832214765100671   | 0.9719101123595506  | 0.1780641767490794 |\n",
            "+---------+----------+----------+--------------------+----------+----------+----------+----------+----------+----------------------+----------+----------+----------------------+----------+----------+----------------------+----------+----------+----------+----------+----------+---------------------+----------------------+---------------------+--------------------+\n",
            "| COM(S5) | 0.5      | 0.5      | 0.8529411764705883 | 0.5      | 0.5      | 0.5      | 0.5      | 0.5      | 0.9970828471411902   | 0.5      | 0.5      | 0.9926686217008798   | 0.5      | 0.5      | 0.9956970740103269   | 0.5      | 0.5      | 0.5      | 0.5      | 0.5      | 0.41612301957129544 | 0.016778523489932886 | 0.02808988764044944 | 0.8219358232509205 |\n",
            "+---------+----------+----------+--------------------+----------+----------+----------+----------+----------+----------------------+----------+----------+----------------------+----------+----------+----------------------+----------+----------+----------+----------+----------+---------------------+----------------------+---------------------+--------------------+\n",
            "+---------+---------------------+---------------------+----------------------+\n",
            "| ST      | ST(S2)              | ST(S3)              | ST(S5)               |\n",
            "+---------+---------------------+---------------------+----------------------+\n",
            "| EST(S2) | 0.07246376811594203 | 0.10752688172043012 | 0.005299860529986052 |\n",
            "+---------+---------------------+---------------------+----------------------+\n",
            "| EST(S4) | 0.07246376811594203 | 0.10752688172043012 | 0.6278940027894002   |\n",
            "+---------+---------------------+---------------------+----------------------+\n",
            "| EST(S5) | 0.855072463768116   | 0.7849462365591399  | 0.3668061366806136   |\n",
            "+---------+---------------------+---------------------+----------------------+\n",
            "+--------+-----------+\n",
            "| LC(S2) | 0.0141509 |\n",
            "+--------+-----------+\n",
            "| LC(S5) | 0.985849  |\n",
            "+--------+-----------+\n",
            "+----------+---------+---------------------+---------------------+---------------------+---------+---------------------+---------+---------+---------+---------+---------+-----------------------+\n",
            "| CIM      | CIM(S4) | CIM(S4)             | CIM(S4)             | CIM(S4)             | CIM(S4) | CIM(S4)             | CIM(S5) | CIM(S5) | CIM(S5) | CIM(S5) | CIM(S5) | CIM(S5)               |\n",
            "+----------+---------+---------------------+---------------------+---------------------+---------+---------------------+---------+---------+---------+---------+---------+-----------------------+\n",
            "| EST      | EST(S2) | EST(S2)             | EST(S4)             | EST(S4)             | EST(S5) | EST(S5)             | EST(S2) | EST(S2) | EST(S4) | EST(S4) | EST(S5) | EST(S5)               |\n",
            "+----------+---------+---------------------+---------------------+---------------------+---------+---------------------+---------+---------+---------+---------+---------+-----------------------+\n",
            "| LC       | LC(S2)  | LC(S5)              | LC(S2)              | LC(S5)              | LC(S2)  | LC(S5)              | LC(S2)  | LC(S5)  | LC(S2)  | LC(S5)  | LC(S2)  | LC(S5)                |\n",
            "+----------+---------+---------------------+---------------------+---------------------+---------+---------------------+---------+---------+---------+---------+---------+-----------------------+\n",
            "| NOMS(S2) | 0.5     | 0.22727272727272727 | 0.22727272727272727 | 0.8375753516409913  | 0.5     | 0.7727272727272727  | 0.5     | 0.5     | 0.5     | 0.5     | 0.5     | 0.0025432349949135306 |\n",
            "+----------+---------+---------------------+---------------------+---------------------+---------+---------------------+---------+---------+---------+---------+---------+-----------------------+\n",
            "| NOMS(S5) | 0.5     | 0.7727272727272727  | 0.7727272727272727  | 0.16242464835900872 | 0.5     | 0.22727272727272727 | 0.5     | 0.5     | 0.5     | 0.5     | 0.5     | 0.9974567650050865    |\n",
            "+----------+---------+---------------------+---------------------+---------------------+---------+---------------------+---------+---------+---------+---------+---------+-----------------------+\n",
            "+--------+-----------+\n",
            "| ST(S2) | 0.0361635 |\n",
            "+--------+-----------+\n",
            "| ST(S3) | 0.0243711 |\n",
            "+--------+-----------+\n",
            "| ST(S5) | 0.939465  |\n",
            "+--------+-----------+\n",
            "+--------------+------------+\n",
            "| TipoFalla(0) | 0.964623   |\n",
            "+--------------+------------+\n",
            "| TipoFalla(1) | 0.0141509  |\n",
            "+--------------+------------+\n",
            "| TipoFalla(2) | 0.00707547 |\n",
            "+--------------+------------+\n",
            "| TipoFalla(4) | 0.00707547 |\n",
            "+--------------+------------+\n",
            "| TipoFalla(5) | 0.00707547 |\n",
            "+--------------+------------+\n"
          ],
          "name": "stdout"
        }
      ]
    }
  ]
}