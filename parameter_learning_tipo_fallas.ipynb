{
  "nbformat": 4,
  "nbformat_minor": 0,
  "metadata": {
    "colab": {
      "name": "parameter-learning-tipo-fallas.ipynb",
      "provenance": [],
      "collapsed_sections": [],
      "authorship_tag": "ABX9TyMhoZKh8hRI1WSn+VD/3CgM",
      "include_colab_link": true
    },
    "kernelspec": {
      "name": "python3",
      "display_name": "Python 3"
    }
  },
  "cells": [
    {
      "cell_type": "markdown",
      "metadata": {
        "id": "view-in-github",
        "colab_type": "text"
      },
      "source": [
        "<a href=\"https://colab.research.google.com/github/karlajagg/Documentacion/blob/main/parameter_learning_tipo_fallas.ipynb\" target=\"_parent\"><img src=\"https://colab.research.google.com/assets/colab-badge.svg\" alt=\"Open In Colab\"/></a>"
      ]
    },
    {
      "cell_type": "code",
      "metadata": {
        "colab": {
          "base_uri": "https://localhost:8080/"
        },
        "id": "F_405BYluf_w",
        "outputId": "d08e9c44-b4eb-4ca6-a4ee-6fa5b35eed3f"
      },
      "source": [
        "! pip install pgmpy"
      ],
      "execution_count": 9,
      "outputs": [
        {
          "output_type": "stream",
          "text": [
            "Collecting pgmpy\n",
            "\u001b[?25l  Downloading https://files.pythonhosted.org/packages/22/16/e2edff21fca7a2cacaedd293caaaae5eaea832af0dd347c1159b4455be6b/pgmpy-0.1.12-py3-none-any.whl (322kB)\n",
            "\r\u001b[K     |█                               | 10kB 19.6MB/s eta 0:00:01\r\u001b[K     |██                              | 20kB 24.1MB/s eta 0:00:01\r\u001b[K     |███                             | 30kB 19.7MB/s eta 0:00:01\r\u001b[K     |████                            | 40kB 16.3MB/s eta 0:00:01\r\u001b[K     |█████                           | 51kB 16.9MB/s eta 0:00:01\r\u001b[K     |██████                          | 61kB 18.9MB/s eta 0:00:01\r\u001b[K     |███████                         | 71kB 12.4MB/s eta 0:00:01\r\u001b[K     |████████▏                       | 81kB 13.4MB/s eta 0:00:01\r\u001b[K     |█████████▏                      | 92kB 12.1MB/s eta 0:00:01\r\u001b[K     |██████████▏                     | 102kB 12.2MB/s eta 0:00:01\r\u001b[K     |███████████▏                    | 112kB 12.2MB/s eta 0:00:01\r\u001b[K     |████████████▏                   | 122kB 12.2MB/s eta 0:00:01\r\u001b[K     |█████████████▏                  | 133kB 12.2MB/s eta 0:00:01\r\u001b[K     |██████████████▏                 | 143kB 12.2MB/s eta 0:00:01\r\u001b[K     |███████████████▏                | 153kB 12.2MB/s eta 0:00:01\r\u001b[K     |████████████████▎               | 163kB 12.2MB/s eta 0:00:01\r\u001b[K     |█████████████████▎              | 174kB 12.2MB/s eta 0:00:01\r\u001b[K     |██████████████████▎             | 184kB 12.2MB/s eta 0:00:01\r\u001b[K     |███████████████████▎            | 194kB 12.2MB/s eta 0:00:01\r\u001b[K     |████████████████████▎           | 204kB 12.2MB/s eta 0:00:01\r\u001b[K     |█████████████████████▎          | 215kB 12.2MB/s eta 0:00:01\r\u001b[K     |██████████████████████▎         | 225kB 12.2MB/s eta 0:00:01\r\u001b[K     |███████████████████████▍        | 235kB 12.2MB/s eta 0:00:01\r\u001b[K     |████████████████████████▍       | 245kB 12.2MB/s eta 0:00:01\r\u001b[K     |█████████████████████████▍      | 256kB 12.2MB/s eta 0:00:01\r\u001b[K     |██████████████████████████▍     | 266kB 12.2MB/s eta 0:00:01\r\u001b[K     |███████████████████████████▍    | 276kB 12.2MB/s eta 0:00:01\r\u001b[K     |████████████████████████████▍   | 286kB 12.2MB/s eta 0:00:01\r\u001b[K     |█████████████████████████████▍  | 296kB 12.2MB/s eta 0:00:01\r\u001b[K     |██████████████████████████████▍ | 307kB 12.2MB/s eta 0:00:01\r\u001b[K     |███████████████████████████████▌| 317kB 12.2MB/s eta 0:00:01\r\u001b[K     |████████████████████████████████| 327kB 12.2MB/s \n",
            "\u001b[?25hRequirement already satisfied: pyparsing in /usr/local/lib/python3.6/dist-packages (from pgmpy) (2.4.7)\n",
            "Requirement already satisfied: scikit-learn in /usr/local/lib/python3.6/dist-packages (from pgmpy) (0.22.2.post1)\n",
            "Requirement already satisfied: statsmodels in /usr/local/lib/python3.6/dist-packages (from pgmpy) (0.10.2)\n",
            "Requirement already satisfied: torch in /usr/local/lib/python3.6/dist-packages (from pgmpy) (1.7.0+cu101)\n",
            "Requirement already satisfied: networkx in /usr/local/lib/python3.6/dist-packages (from pgmpy) (2.5)\n",
            "Requirement already satisfied: numpy in /usr/local/lib/python3.6/dist-packages (from pgmpy) (1.18.5)\n",
            "Requirement already satisfied: scipy in /usr/local/lib/python3.6/dist-packages (from pgmpy) (1.4.1)\n",
            "Requirement already satisfied: joblib in /usr/local/lib/python3.6/dist-packages (from pgmpy) (0.17.0)\n",
            "Requirement already satisfied: pandas in /usr/local/lib/python3.6/dist-packages (from pgmpy) (1.1.4)\n",
            "Requirement already satisfied: tqdm in /usr/local/lib/python3.6/dist-packages (from pgmpy) (4.41.1)\n",
            "Requirement already satisfied: patsy>=0.4.0 in /usr/local/lib/python3.6/dist-packages (from statsmodels->pgmpy) (0.5.1)\n",
            "Requirement already satisfied: dataclasses in /usr/local/lib/python3.6/dist-packages (from torch->pgmpy) (0.8)\n",
            "Requirement already satisfied: typing-extensions in /usr/local/lib/python3.6/dist-packages (from torch->pgmpy) (3.7.4.3)\n",
            "Requirement already satisfied: future in /usr/local/lib/python3.6/dist-packages (from torch->pgmpy) (0.16.0)\n",
            "Requirement already satisfied: decorator>=4.3.0 in /usr/local/lib/python3.6/dist-packages (from networkx->pgmpy) (4.4.2)\n",
            "Requirement already satisfied: python-dateutil>=2.7.3 in /usr/local/lib/python3.6/dist-packages (from pandas->pgmpy) (2.8.1)\n",
            "Requirement already satisfied: pytz>=2017.2 in /usr/local/lib/python3.6/dist-packages (from pandas->pgmpy) (2018.9)\n",
            "Requirement already satisfied: six in /usr/local/lib/python3.6/dist-packages (from patsy>=0.4.0->statsmodels->pgmpy) (1.15.0)\n",
            "Installing collected packages: pgmpy\n",
            "Successfully installed pgmpy-0.1.12\n"
          ],
          "name": "stdout"
        }
      ]
    },
    {
      "cell_type": "code",
      "metadata": {
        "colab": {
          "base_uri": "https://localhost:8080/"
        },
        "id": "dZTqYKNbDXCU",
        "outputId": "760ec9cc-1c99-40ee-e998-b5ede901077c"
      },
      "source": [
        "import pandas as pd\r\n",
        "url= 'https://raw.githubusercontent.com/karlajagg/Documentacion/main/xtrainfallas-tf2.csv'\r\n",
        "data=pd.read_csv(url)\r\n",
        "print (data)"
      ],
      "execution_count": 3,
      "outputs": [
        {
          "output_type": "stream",
          "text": [
            "     AB  ST EHG  AP CHCH  BC CIM  ...  CE BRE ACC COM NOMS      TIPO TipoFalla\n",
            "0    S5  S5  S5  S5   S5  S5  S4  ...  S5  S4  S2  S5   S2  No falla         0\n",
            "1    S5  S2  S5  S5   S5  S5  S5  ...  S5  S4  S5  S0   S5  No falla         0\n",
            "2    S5  S5  S5  S5   S5  S5  S4  ...  S5  S4  S5  S5   S2  No falla         0\n",
            "3    S3  S5  S5  S5   S5  S5  S4  ...  S5  S4  S3  S5   S2  No falla         0\n",
            "4    S5  S5  S5  S5   S5  S5  S4  ...  S5  S4  S5  S5   S5  No falla         0\n",
            "..   ..  ..  ..  ..  ...  ..  ..  ...  ..  ..  ..  ..  ...       ...       ...\n",
            "409  S5  S5  S5  S5   S5  S5  S4  ...  S5  S4  S3  S0   S2  No falla         0\n",
            "410  S3  S5  S5  S5   S5  S5  S4  ...  S5  S4  S5  S5   S2  No falla         0\n",
            "411  S5  S5  S5  S5   S5  S5  S5  ...  S5  S4  S5  S5   S5  No falla         0\n",
            "412  S5  S5  S5  S5   S5  S5  S5  ...  S5  S4  S5  S5   S5  No falla         0\n",
            "413  S5  S5  S5  S5   S5  S5  S4  ...  S5  S4  S3  S0   S2  No falla         0\n",
            "\n",
            "[414 rows x 27 columns]\n"
          ],
          "name": "stdout"
        }
      ]
    },
    {
      "cell_type": "code",
      "metadata": {
        "colab": {
          "base_uri": "https://localhost:8080/"
        },
        "id": "xmN8u2DSsUd5",
        "outputId": "74ea8cff-c9a1-4c92-8fcb-0c4c29c33476"
      },
      "source": [
        "#Recortamos elemntos que no presentan relacion causal\r\n",
        "\r\n",
        "data1 = data[['ST','EST','CIM','BRE','NOMS','ACC','CHC','LC','AB','CHH','COM','TipoFalla']]\r\n",
        "print(data1)"
      ],
      "execution_count": 8,
      "outputs": [
        {
          "output_type": "stream",
          "text": [
            "     ST EST CIM BRE NOMS ACC CHC  LC  AB CHH COM  TipoFalla\n",
            "0    S5  S4  S4  S4   S2  S2  S4  S5  S5  S4  S5          0\n",
            "1    S2  S5  S5  S4   S5  S5  S5  S5  S5  S5  S0          0\n",
            "2    S5  S4  S4  S4   S2  S5  S4  S5  S5  S4  S5          0\n",
            "3    S5  S4  S4  S4   S2  S3  S5  S5  S3  S5  S5          0\n",
            "4    S5  S4  S4  S4   S5  S5  S5  S5  S5  S5  S5          0\n",
            "..   ..  ..  ..  ..  ...  ..  ..  ..  ..  ..  ..        ...\n",
            "409  S5  S4  S4  S4   S2  S3  S5  S5  S5  S5  S0          0\n",
            "410  S5  S4  S4  S4   S2  S5  S5  S5  S3  S5  S5          0\n",
            "411  S5  S5  S5  S4   S5  S5  S5  S5  S5  S5  S5          0\n",
            "412  S5  S5  S5  S4   S5  S5  S5  S5  S5  S5  S5          0\n",
            "413  S5  S4  S4  S4   S2  S3  S5  S5  S5  S5  S0          0\n",
            "\n",
            "[414 rows x 12 columns]\n"
          ],
          "name": "stdout"
        }
      ]
    },
    {
      "cell_type": "code",
      "metadata": {
        "id": "9WW-seZjtQdw"
      },
      "source": [
        "from pgmpy.models import BayesianModel\r\n",
        "\r\n",
        "model = BayesianModel([('ST', 'EST'),('ST', 'COM'),('EST', 'AB'),('EST', 'NOMS'),('EST', 'CIM') , ('CIM','NOMS'),  ('BRE','CIM'), ('BRE', 'ACC'),('BRE', 'CHH'),('LC', 'NOMS'),('NOMS', 'ACC'),('NOMS', 'AB') , ('NOMS','CHC'),  ('NOMS','COM'), ('ACC', 'AB'),('CHC', 'AB'),('CHC', 'CHH'),('CHC', 'COM'),('TipoFalla', 'CHC') , ('AB','COM')]) \r\n",
        "#El aprendizaje de parámetros es la tarea de estimar los valores de las \r\n",
        "#distribuciones de probabilidad condicional (CPD), "
      ],
      "execution_count": 12,
      "outputs": []
    },
    {
      "cell_type": "code",
      "metadata": {
        "colab": {
          "base_uri": "https://localhost:8080/"
        },
        "id": "s-LAErgJySaT",
        "outputId": "8b5785d0-4695-4ea8-c0ca-f63c62ec0eff"
      },
      "source": [
        "from pgmpy.estimators import ParameterEstimator\r\n",
        "pe = ParameterEstimator(model, data)\r\n",
        "#CONTADOR DE ESTADOS\r\n",
        "print(\"\\n\", pe.state_counts('ST')) # conditional\r\n",
        "print(\"\\n\", pe.state_counts('EST')) # conditional\r\n",
        "print(\"\\n\", pe.state_counts('COM')) # unconditional\r\n",
        "print(\"\\n\", pe.state_counts('AB')) # conditional\r\n",
        "print(\"\\n\", pe.state_counts('NOMS')) # unconditional\r\n",
        "print(\"\\n\", pe.state_counts('CIM'))   # unconditional\r\n",
        "print(\"\\n\", pe.state_counts('BRE'))  # conditional\r\n",
        "print(\"\\n\", pe.state_counts('ACC')) # unconditional\r\n",
        "print(\"\\n\", pe.state_counts('CHH')) # conditional\r\n",
        "print(\"\\n\", pe.state_counts('LC')) # unconditional\r\n",
        "print(\"\\n\", pe.state_counts('CHC'))   # unconditional\r\n",
        "print(\"\\n\", pe.state_counts('TipoFalla'))  # conditional"
      ],
      "execution_count": 13,
      "outputs": [
        {
          "output_type": "stream",
          "text": [
            "/usr/local/lib/python3.6/dist-packages/statsmodels/tools/_testing.py:19: FutureWarning: pandas.util.testing is deprecated. Use the functions in the public API at pandas.testing instead.\n",
            "  import pandas.util.testing as tm\n"
          ],
          "name": "stderr"
        },
        {
          "output_type": "stream",
          "text": [
            "\n",
            "      ST\n",
            "S2   13\n",
            "S3    6\n",
            "S5  395\n",
            "\n",
            " ST     S2   S3     S5\n",
            "EST                  \n",
            "S4    0.0  0.0  255.0\n",
            "S5   13.0  6.0  140.0\n",
            "\n",
            " AB     S3                                ...   S5                                  \n",
            "CHC    S4                            S5  ...   S4   S5                             \n",
            "NOMS   S2             S5             S2  ...   S5   S2               S5            \n",
            "ST     S2   S3   S5   S2   S3   S5   S2  ...   S5   S2   S3    S5    S2   S3     S5\n",
            "COM                                      ...                                       \n",
            "S0    0.0  0.0  0.0  0.0  0.0  0.0  0.0  ...  0.0  0.0  0.0  53.0  13.0  6.0   27.0\n",
            "S5    0.0  0.0  2.0  0.0  0.0  0.0  0.0  ...  0.0  0.0  0.0  35.0   0.0  0.0  123.0\n",
            "\n",
            "[2 rows x 24 columns]\n",
            "\n",
            " ACC     S2                                ...   S5                                  \n",
            "CHC     S4                  S5            ...   S4              S5                  \n",
            "EST     S4        S5        S4        S5  ...   S4   S5         S4         S5       \n",
            "NOMS    S2   S5   S2   S5   S2   S5   S2  ...   S5   S2   S5    S2    S5   S2     S5\n",
            "AB                                        ...                                       \n",
            "S3     1.0  0.0  0.0  0.0  0.0  0.0  0.0  ...  0.0  0.0  0.0  25.0  25.0  0.0    2.0\n",
            "S5    12.0  0.0  0.0  0.0  0.0  0.0  0.0  ...  0.0  0.0  0.0   3.0  14.0  2.0  155.0\n",
            "\n",
            "[2 rows x 24 columns]\n",
            "\n",
            " CIM      S4        S5       \n",
            "EST      S4   S5   S4     S5\n",
            "LC       S5   S5   S5     S5\n",
            "NOMS                        \n",
            "S2    216.0  2.0  0.0    0.0\n",
            "S5     39.0  0.0  0.0  157.0\n",
            "\n",
            " BRE     S4          S5     \n",
            "EST     S4     S5   S4   S5\n",
            "CIM                        \n",
            "S4   255.0    0.0  0.0  2.0\n",
            "S5     0.0  157.0  0.0  0.0\n",
            "\n",
            "     BRE\n",
            "S4  412\n",
            "S5    2\n",
            "\n",
            " BRE      S4          S5     \n",
            "NOMS     S2     S5   S2   S5\n",
            "ACC                         \n",
            "S2     13.0    0.0  0.0  0.0\n",
            "S3    136.0    0.0  0.0  0.0\n",
            "S5     67.0  196.0  2.0  0.0\n",
            "\n",
            " BRE    S4          S5     \n",
            "CHC    S4     S5   S4   S5\n",
            "CHH                       \n",
            "S4   52.0    0.0  0.0  2.0\n",
            "S5    0.0  360.0  0.0  0.0\n",
            "\n",
            "      LC\n",
            "S5  414\n",
            "\n",
            " NOMS          S2                              S5                         \n",
            "TipoFalla      0    1    2    5    6    7      0    1    2    5    6    7\n",
            "CHC                                                                      \n",
            "S4          49.0  3.0  0.0  0.0  0.0  0.0    0.0  0.0  0.0  0.0  0.0  0.0\n",
            "S5         161.0  1.0  1.0  1.0  1.0  1.0  196.0  0.0  0.0  0.0  0.0  0.0\n",
            "\n",
            "    TipoFalla\n",
            "0        406\n",
            "1          4\n",
            "2          1\n",
            "5          1\n",
            "6          1\n",
            "7          1\n"
          ],
          "name": "stdout"
        }
      ]
    },
    {
      "cell_type": "code",
      "metadata": {
        "colab": {
          "base_uri": "https://localhost:8080/"
        },
        "id": "m-poSTu11ZCK",
        "outputId": "de0989f9-c4ff-428b-f17b-baa1cda7ad1b"
      },
      "source": [
        "#Maximum Likelihood Estimation\r\n",
        "from pgmpy.estimators import MaximumLikelihoodEstimator\r\n",
        "mle = MaximumLikelihoodEstimator(model, data)\r\n",
        "print(mle.estimate_cpd('ST')) # conditional\r\n",
        "print(mle.estimate_cpd('EST')) # conditional\r\n",
        "print(mle.estimate_cpd('COM'))  # unconditional\r\n",
        "print(mle.estimate_cpd('AB')) # conditional\r\n",
        "print(mle.estimate_cpd('NOMS')) # unconditional\r\n",
        "print(mle.estimate_cpd('CIM')) # unconditional\r\n",
        "print(mle.estimate_cpd('BRE'))  # conditional\r\n",
        "print(mle.estimate_cpd('ACC'))  # unconditional\r\n",
        "print(mle.estimate_cpd('CHH')) # conditional\r\n",
        "print(mle.estimate_cpd('LC')) # unconditional\r\n",
        "print(mle.estimate_cpd('CHC')) # unconditional\r\n",
        "print(mle.estimate_cpd('TipoFalla'))  # conditional"
      ],
      "execution_count": 14,
      "outputs": [
        {
          "output_type": "stream",
          "text": [
            "+--------+-----------+\n",
            "| ST(S2) | 0.031401  |\n",
            "+--------+-----------+\n",
            "| ST(S3) | 0.0144928 |\n",
            "+--------+-----------+\n",
            "| ST(S5) | 0.954106  |\n",
            "+--------+-----------+\n",
            "+---------+--------+--------+---------------------+\n",
            "| ST      | ST(S2) | ST(S3) | ST(S5)              |\n",
            "+---------+--------+--------+---------------------+\n",
            "| EST(S4) | 0.0    | 0.0    | 0.6455696202531646  |\n",
            "+---------+--------+--------+---------------------+\n",
            "| EST(S5) | 1.0    | 1.0    | 0.35443037974683544 |\n",
            "+---------+--------+--------+---------------------+\n",
            "+---------+----------+----------+----------+----------+----------+----------+----------+----------+----------+----------+----------+----------+----------+----------+----------+----------+----------+----------+----------+----------+--------------------+----------+----------+----------+\n",
            "| AB      | AB(S3)   | AB(S3)   | AB(S3)   | AB(S3)   | AB(S3)   | AB(S3)   | AB(S3)   | AB(S3)   | AB(S3)   | AB(S3)   | AB(S3)   | AB(S3)   | AB(S5)   | AB(S5)   | AB(S5)   | AB(S5)   | AB(S5)   | AB(S5)   | AB(S5)   | AB(S5)   | AB(S5)             | AB(S5)   | AB(S5)   | AB(S5)   |\n",
            "+---------+----------+----------+----------+----------+----------+----------+----------+----------+----------+----------+----------+----------+----------+----------+----------+----------+----------+----------+----------+----------+--------------------+----------+----------+----------+\n",
            "| CHC     | CHC(S4)  | CHC(S4)  | CHC(S4)  | CHC(S4)  | CHC(S4)  | CHC(S4)  | CHC(S5)  | CHC(S5)  | CHC(S5)  | CHC(S5)  | CHC(S5)  | CHC(S5)  | CHC(S4)  | CHC(S4)  | CHC(S4)  | CHC(S4)  | CHC(S4)  | CHC(S4)  | CHC(S5)  | CHC(S5)  | CHC(S5)            | CHC(S5)  | CHC(S5)  | CHC(S5)  |\n",
            "+---------+----------+----------+----------+----------+----------+----------+----------+----------+----------+----------+----------+----------+----------+----------+----------+----------+----------+----------+----------+----------+--------------------+----------+----------+----------+\n",
            "| NOMS    | NOMS(S2) | NOMS(S2) | NOMS(S2) | NOMS(S5) | NOMS(S5) | NOMS(S5) | NOMS(S2) | NOMS(S2) | NOMS(S2) | NOMS(S5) | NOMS(S5) | NOMS(S5) | NOMS(S2) | NOMS(S2) | NOMS(S2) | NOMS(S5) | NOMS(S5) | NOMS(S5) | NOMS(S2) | NOMS(S2) | NOMS(S2)           | NOMS(S5) | NOMS(S5) | NOMS(S5) |\n",
            "+---------+----------+----------+----------+----------+----------+----------+----------+----------+----------+----------+----------+----------+----------+----------+----------+----------+----------+----------+----------+----------+--------------------+----------+----------+----------+\n",
            "| ST      | ST(S2)   | ST(S3)   | ST(S5)   | ST(S2)   | ST(S3)   | ST(S5)   | ST(S2)   | ST(S3)   | ST(S5)   | ST(S2)   | ST(S3)   | ST(S5)   | ST(S2)   | ST(S3)   | ST(S5)   | ST(S2)   | ST(S3)   | ST(S5)   | ST(S2)   | ST(S3)   | ST(S5)             | ST(S2)   | ST(S3)   | ST(S5)   |\n",
            "+---------+----------+----------+----------+----------+----------+----------+----------+----------+----------+----------+----------+----------+----------+----------+----------+----------+----------+----------+----------+----------+--------------------+----------+----------+----------+\n",
            "| COM(S0) | 0.5      | 0.5      | 0.0      | 0.5      | 0.5      | 0.5      | 0.5      | 0.5      | 0.0      | 0.5      | 0.5      | 0.0      | 0.5      | 0.5      | 0.0      | 0.5      | 0.5      | 0.5      | 0.5      | 0.5      | 0.6022727272727273 | 1.0      | 1.0      | 0.18     |\n",
            "+---------+----------+----------+----------+----------+----------+----------+----------+----------+----------+----------+----------+----------+----------+----------+----------+----------+----------+----------+----------+----------+--------------------+----------+----------+----------+\n",
            "| COM(S5) | 0.5      | 0.5      | 1.0      | 0.5      | 0.5      | 0.5      | 0.5      | 0.5      | 1.0      | 0.5      | 0.5      | 1.0      | 0.5      | 0.5      | 1.0      | 0.5      | 0.5      | 0.5      | 0.5      | 0.5      | 0.3977272727272727 | 0.0      | 0.0      | 0.82     |\n",
            "+---------+----------+----------+----------+----------+----------+----------+----------+----------+----------+----------+----------+----------+----------+----------+----------+----------+----------+----------+----------+----------+--------------------+----------+----------+----------+\n",
            "+--------+---------------------+----------+----------+----------+----------+----------+----------+----------+----------+----------+----------+----------+--------------------+----------+----------+----------+---------------------+----------+----------+----------+---------------------+--------------------+----------+----------------------+\n",
            "| ACC    | ACC(S2)             | ACC(S2)  | ACC(S2)  | ACC(S2)  | ACC(S2)  | ACC(S2)  | ACC(S2)  | ACC(S2)  | ACC(S3)  | ACC(S3)  | ACC(S3)  | ACC(S3)  | ACC(S3)            | ACC(S3)  | ACC(S3)  | ACC(S3)  | ACC(S5)             | ACC(S5)  | ACC(S5)  | ACC(S5)  | ACC(S5)             | ACC(S5)            | ACC(S5)  | ACC(S5)              |\n",
            "+--------+---------------------+----------+----------+----------+----------+----------+----------+----------+----------+----------+----------+----------+--------------------+----------+----------+----------+---------------------+----------+----------+----------+---------------------+--------------------+----------+----------------------+\n",
            "| CHC    | CHC(S4)             | CHC(S4)  | CHC(S4)  | CHC(S4)  | CHC(S5)  | CHC(S5)  | CHC(S5)  | CHC(S5)  | CHC(S4)  | CHC(S4)  | CHC(S4)  | CHC(S4)  | CHC(S5)            | CHC(S5)  | CHC(S5)  | CHC(S5)  | CHC(S4)             | CHC(S4)  | CHC(S4)  | CHC(S4)  | CHC(S5)             | CHC(S5)            | CHC(S5)  | CHC(S5)              |\n",
            "+--------+---------------------+----------+----------+----------+----------+----------+----------+----------+----------+----------+----------+----------+--------------------+----------+----------+----------+---------------------+----------+----------+----------+---------------------+--------------------+----------+----------------------+\n",
            "| EST    | EST(S4)             | EST(S4)  | EST(S5)  | EST(S5)  | EST(S4)  | EST(S4)  | EST(S5)  | EST(S5)  | EST(S4)  | EST(S4)  | EST(S5)  | EST(S5)  | EST(S4)            | EST(S4)  | EST(S5)  | EST(S5)  | EST(S4)             | EST(S4)  | EST(S5)  | EST(S5)  | EST(S4)             | EST(S4)            | EST(S5)  | EST(S5)              |\n",
            "+--------+---------------------+----------+----------+----------+----------+----------+----------+----------+----------+----------+----------+----------+--------------------+----------+----------+----------+---------------------+----------+----------+----------+---------------------+--------------------+----------+----------------------+\n",
            "| NOMS   | NOMS(S2)            | NOMS(S5) | NOMS(S2) | NOMS(S5) | NOMS(S2) | NOMS(S5) | NOMS(S2) | NOMS(S5) | NOMS(S2) | NOMS(S5) | NOMS(S2) | NOMS(S5) | NOMS(S2)           | NOMS(S5) | NOMS(S2) | NOMS(S5) | NOMS(S2)            | NOMS(S5) | NOMS(S2) | NOMS(S5) | NOMS(S2)            | NOMS(S5)           | NOMS(S2) | NOMS(S5)             |\n",
            "+--------+---------------------+----------+----------+----------+----------+----------+----------+----------+----------+----------+----------+----------+--------------------+----------+----------+----------+---------------------+----------+----------+----------+---------------------+--------------------+----------+----------------------+\n",
            "| AB(S3) | 0.07692307692307693 | 0.5      | 0.5      | 0.5      | 0.5      | 0.5      | 0.5      | 0.5      | 0.5      | 0.5      | 0.5      | 0.5      | 0.3897058823529412 | 0.5      | 0.5      | 0.5      | 0.02564102564102564 | 0.5      | 0.5      | 0.5      | 0.8928571428571429  | 0.6410256410256411 | 0.0      | 0.012738853503184714 |\n",
            "+--------+---------------------+----------+----------+----------+----------+----------+----------+----------+----------+----------+----------+----------+--------------------+----------+----------+----------+---------------------+----------+----------+----------+---------------------+--------------------+----------+----------------------+\n",
            "| AB(S5) | 0.9230769230769231  | 0.5      | 0.5      | 0.5      | 0.5      | 0.5      | 0.5      | 0.5      | 0.5      | 0.5      | 0.5      | 0.5      | 0.6102941176470589 | 0.5      | 0.5      | 0.5      | 0.9743589743589743  | 0.5      | 0.5      | 0.5      | 0.10714285714285714 | 0.358974358974359  | 1.0      | 0.9872611464968153   |\n",
            "+--------+---------------------+----------+----------+----------+----------+----------+----------+----------+----------+----------+----------+----------+--------------------+----------+----------+----------+---------------------+----------+----------+----------+---------------------+--------------------+----------+----------------------+\n",
            "+----------+---------------------+---------+---------+---------+\n",
            "| CIM      | CIM(S4)             | CIM(S4) | CIM(S5) | CIM(S5) |\n",
            "+----------+---------------------+---------+---------+---------+\n",
            "| EST      | EST(S4)             | EST(S5) | EST(S4) | EST(S5) |\n",
            "+----------+---------------------+---------+---------+---------+\n",
            "| LC       | LC(S5)              | LC(S5)  | LC(S5)  | LC(S5)  |\n",
            "+----------+---------------------+---------+---------+---------+\n",
            "| NOMS(S2) | 0.8470588235294118  | 1.0     | 0.5     | 0.0     |\n",
            "+----------+---------------------+---------+---------+---------+\n",
            "| NOMS(S5) | 0.15294117647058825 | 0.0     | 0.5     | 1.0     |\n",
            "+----------+---------------------+---------+---------+---------+\n",
            "+---------+---------+---------+---------+---------+\n",
            "| BRE     | BRE(S4) | BRE(S4) | BRE(S5) | BRE(S5) |\n",
            "+---------+---------+---------+---------+---------+\n",
            "| EST     | EST(S4) | EST(S5) | EST(S4) | EST(S5) |\n",
            "+---------+---------+---------+---------+---------+\n",
            "| CIM(S4) | 1.0     | 0.0     | 0.5     | 1.0     |\n",
            "+---------+---------+---------+---------+---------+\n",
            "| CIM(S5) | 0.0     | 1.0     | 0.5     | 0.0     |\n",
            "+---------+---------+---------+---------+---------+\n",
            "+---------+------------+\n",
            "| BRE(S4) | 0.995169   |\n",
            "+---------+------------+\n",
            "| BRE(S5) | 0.00483092 |\n",
            "+---------+------------+\n",
            "+---------+---------------------+----------+----------+--------------------+\n",
            "| BRE     | BRE(S4)             | BRE(S4)  | BRE(S5)  | BRE(S5)            |\n",
            "+---------+---------------------+----------+----------+--------------------+\n",
            "| NOMS    | NOMS(S2)            | NOMS(S5) | NOMS(S2) | NOMS(S5)           |\n",
            "+---------+---------------------+----------+----------+--------------------+\n",
            "| ACC(S2) | 0.06018518518518518 | 0.0      | 0.0      | 0.3333333333333333 |\n",
            "+---------+---------------------+----------+----------+--------------------+\n",
            "| ACC(S3) | 0.6296296296296297  | 0.0      | 0.0      | 0.3333333333333333 |\n",
            "+---------+---------------------+----------+----------+--------------------+\n",
            "| ACC(S5) | 0.3101851851851852  | 1.0      | 1.0      | 0.3333333333333333 |\n",
            "+---------+---------------------+----------+----------+--------------------+\n",
            "+---------+---------+---------+---------+---------+\n",
            "| BRE     | BRE(S4) | BRE(S4) | BRE(S5) | BRE(S5) |\n",
            "+---------+---------+---------+---------+---------+\n",
            "| CHC     | CHC(S4) | CHC(S5) | CHC(S4) | CHC(S5) |\n",
            "+---------+---------+---------+---------+---------+\n",
            "| CHH(S4) | 1.0     | 0.0     | 0.5     | 1.0     |\n",
            "+---------+---------+---------+---------+---------+\n",
            "| CHH(S5) | 0.0     | 1.0     | 0.5     | 0.0     |\n",
            "+---------+---------+---------+---------+---------+\n",
            "+--------+---+\n",
            "| LC(S5) | 1 |\n",
            "+--------+---+\n",
            "+-----------+---------------------+--------------+--------------+--------------+--------------+--------------+--------------+--------------+--------------+--------------+--------------+--------------+\n",
            "| NOMS      | NOMS(S2)            | NOMS(S2)     | NOMS(S2)     | NOMS(S2)     | NOMS(S2)     | NOMS(S2)     | NOMS(S5)     | NOMS(S5)     | NOMS(S5)     | NOMS(S5)     | NOMS(S5)     | NOMS(S5)     |\n",
            "+-----------+---------------------+--------------+--------------+--------------+--------------+--------------+--------------+--------------+--------------+--------------+--------------+--------------+\n",
            "| TipoFalla | TipoFalla(0)        | TipoFalla(1) | TipoFalla(2) | TipoFalla(5) | TipoFalla(6) | TipoFalla(7) | TipoFalla(0) | TipoFalla(1) | TipoFalla(2) | TipoFalla(5) | TipoFalla(6) | TipoFalla(7) |\n",
            "+-----------+---------------------+--------------+--------------+--------------+--------------+--------------+--------------+--------------+--------------+--------------+--------------+--------------+\n",
            "| CHC(S4)   | 0.23333333333333334 | 0.75         | 0.0          | 0.0          | 0.0          | 0.0          | 0.0          | 0.5          | 0.5          | 0.5          | 0.5          | 0.5          |\n",
            "+-----------+---------------------+--------------+--------------+--------------+--------------+--------------+--------------+--------------+--------------+--------------+--------------+--------------+\n",
            "| CHC(S5)   | 0.7666666666666667  | 0.25         | 1.0          | 1.0          | 1.0          | 1.0          | 1.0          | 0.5          | 0.5          | 0.5          | 0.5          | 0.5          |\n",
            "+-----------+---------------------+--------------+--------------+--------------+--------------+--------------+--------------+--------------+--------------+--------------+--------------+--------------+\n",
            "+--------------+------------+\n",
            "| TipoFalla(0) | 0.980676   |\n",
            "+--------------+------------+\n",
            "| TipoFalla(1) | 0.00966184 |\n",
            "+--------------+------------+\n",
            "| TipoFalla(2) | 0.00241546 |\n",
            "+--------------+------------+\n",
            "| TipoFalla(5) | 0.00241546 |\n",
            "+--------------+------------+\n",
            "| TipoFalla(6) | 0.00241546 |\n",
            "+--------------+------------+\n",
            "| TipoFalla(7) | 0.00241546 |\n",
            "+--------------+------------+\n"
          ],
          "name": "stdout"
        }
      ]
    },
    {
      "cell_type": "code",
      "metadata": {
        "colab": {
          "base_uri": "https://localhost:8080/"
        },
        "id": "hesyEMrN16nH",
        "outputId": "33bc5f06-8d49-4b11-cf19-e4c497d96674"
      },
      "source": [
        "# Calibrate all CPDs of `model` using MLE:\r\n",
        "model.fit(data, estimator=MaximumLikelihoodEstimator)"
      ],
      "execution_count": 16,
      "outputs": [
        {
          "output_type": "stream",
          "text": [
            "WARNING:root:Replacing existing CPD for AB\n",
            "WARNING:root:Replacing existing CPD for ACC\n",
            "WARNING:root:Replacing existing CPD for BRE\n",
            "WARNING:root:Replacing existing CPD for CHC\n",
            "WARNING:root:Replacing existing CPD for CHH\n",
            "WARNING:root:Replacing existing CPD for CIM\n",
            "WARNING:root:Replacing existing CPD for COM\n",
            "WARNING:root:Replacing existing CPD for EST\n",
            "WARNING:root:Replacing existing CPD for LC\n",
            "WARNING:root:Replacing existing CPD for NOMS\n",
            "WARNING:root:Replacing existing CPD for ST\n",
            "WARNING:root:Replacing existing CPD for TipoFalla\n"
          ],
          "name": "stderr"
        }
      ]
    },
    {
      "cell_type": "code",
      "metadata": {
        "colab": {
          "base_uri": "https://localhost:8080/"
        },
        "id": "DMwhIDoy2aSd",
        "outputId": "3b64ddd4-e4e1-42e9-aae4-ff17576f95ea"
      },
      "source": [
        "#Bayesian Parameter Estimation\r\n",
        "#K2, que simplemente suma 1 al recuento de cada estado\r\n",
        "\r\n",
        "from pgmpy.estimators import BayesianEstimator\r\n",
        "est = BayesianEstimator(model, data)\r\n",
        "\r\n",
        "print(est.estimate_cpd('TipoFalla', prior_type='BDeu', equivalent_sample_size=10))"
      ],
      "execution_count": 18,
      "outputs": [
        {
          "output_type": "stream",
          "text": [
            "+--------------+------------+\n",
            "| TipoFalla(0) | 0.961478   |\n",
            "+--------------+------------+\n",
            "| TipoFalla(1) | 0.0133648  |\n",
            "+--------------+------------+\n",
            "| TipoFalla(2) | 0.00628931 |\n",
            "+--------------+------------+\n",
            "| TipoFalla(5) | 0.00628931 |\n",
            "+--------------+------------+\n",
            "| TipoFalla(6) | 0.00628931 |\n",
            "+--------------+------------+\n",
            "| TipoFalla(7) | 0.00628931 |\n",
            "+--------------+------------+\n"
          ],
          "name": "stdout"
        }
      ]
    },
    {
      "cell_type": "code",
      "metadata": {
        "colab": {
          "base_uri": "https://localhost:8080/"
        },
        "id": "k3g70MZX3I5-",
        "outputId": "78500648-1648-402b-a332-e4cd91fb4deb"
      },
      "source": [
        "# BayesianEstimator, too, can be used via the fit()-method\r\n",
        "# Aqui imprimiremos todas las CPDs\r\n",
        "model.fit(data, estimator=BayesianEstimator, prior_type=\"BDeu\", equivalent_sample_size=10) # default equivalent_sample_size=5\r\n",
        "for cpd in model.get_cpds():\r\n",
        "    print(cpd)"
      ],
      "execution_count": 19,
      "outputs": [
        {
          "output_type": "stream",
          "text": [
            "WARNING:root:Replacing existing CPD for ST\n",
            "WARNING:root:Replacing existing CPD for EST\n",
            "WARNING:root:Replacing existing CPD for COM\n",
            "WARNING:root:Replacing existing CPD for AB\n",
            "WARNING:root:Replacing existing CPD for NOMS\n",
            "WARNING:root:Replacing existing CPD for CIM\n",
            "WARNING:root:Replacing existing CPD for BRE\n",
            "WARNING:root:Replacing existing CPD for ACC\n",
            "WARNING:root:Replacing existing CPD for CHH\n",
            "WARNING:root:Replacing existing CPD for LC\n",
            "WARNING:root:Replacing existing CPD for CHC\n",
            "WARNING:root:Replacing existing CPD for TipoFalla\n"
          ],
          "name": "stderr"
        },
        {
          "output_type": "stream",
          "text": [
            "+--------+---------------------+----------+----------+----------+----------+----------+----------+----------+----------+----------+----------+----------+---------------------+----------+----------+----------+----------------------+----------+----------+----------+---------------------+--------------------+---------------------+----------------------+\n",
            "| ACC    | ACC(S2)             | ACC(S2)  | ACC(S2)  | ACC(S2)  | ACC(S2)  | ACC(S2)  | ACC(S2)  | ACC(S2)  | ACC(S3)  | ACC(S3)  | ACC(S3)  | ACC(S3)  | ACC(S3)             | ACC(S3)  | ACC(S3)  | ACC(S3)  | ACC(S5)              | ACC(S5)  | ACC(S5)  | ACC(S5)  | ACC(S5)             | ACC(S5)            | ACC(S5)             | ACC(S5)              |\n",
            "+--------+---------------------+----------+----------+----------+----------+----------+----------+----------+----------+----------+----------+----------+---------------------+----------+----------+----------+----------------------+----------+----------+----------+---------------------+--------------------+---------------------+----------------------+\n",
            "| CHC    | CHC(S4)             | CHC(S4)  | CHC(S4)  | CHC(S4)  | CHC(S5)  | CHC(S5)  | CHC(S5)  | CHC(S5)  | CHC(S4)  | CHC(S4)  | CHC(S4)  | CHC(S4)  | CHC(S5)             | CHC(S5)  | CHC(S5)  | CHC(S5)  | CHC(S4)              | CHC(S4)  | CHC(S4)  | CHC(S4)  | CHC(S5)             | CHC(S5)            | CHC(S5)             | CHC(S5)              |\n",
            "+--------+---------------------+----------+----------+----------+----------+----------+----------+----------+----------+----------+----------+----------+---------------------+----------+----------+----------+----------------------+----------+----------+----------+---------------------+--------------------+---------------------+----------------------+\n",
            "| EST    | EST(S4)             | EST(S4)  | EST(S5)  | EST(S5)  | EST(S4)  | EST(S4)  | EST(S5)  | EST(S5)  | EST(S4)  | EST(S4)  | EST(S5)  | EST(S5)  | EST(S4)             | EST(S4)  | EST(S5)  | EST(S5)  | EST(S4)              | EST(S4)  | EST(S5)  | EST(S5)  | EST(S4)             | EST(S4)            | EST(S5)             | EST(S5)              |\n",
            "+--------+---------------------+----------+----------+----------+----------+----------+----------+----------+----------+----------+----------+----------+---------------------+----------+----------+----------+----------------------+----------+----------+----------+---------------------+--------------------+---------------------+----------------------+\n",
            "| NOMS   | NOMS(S2)            | NOMS(S5) | NOMS(S2) | NOMS(S5) | NOMS(S2) | NOMS(S5) | NOMS(S2) | NOMS(S5) | NOMS(S2) | NOMS(S5) | NOMS(S2) | NOMS(S5) | NOMS(S2)            | NOMS(S5) | NOMS(S2) | NOMS(S5) | NOMS(S2)             | NOMS(S5) | NOMS(S2) | NOMS(S5) | NOMS(S2)            | NOMS(S5)           | NOMS(S2)            | NOMS(S5)             |\n",
            "+--------+---------------------+----------+----------+----------+----------+----------+----------+----------+----------+----------+----------+----------+---------------------+----------+----------+----------+----------------------+----------+----------+----------+---------------------+--------------------+---------------------+----------------------+\n",
            "| AB(S3) | 0.09006211180124223 | 0.5      | 0.5      | 0.5      | 0.5      | 0.5      | 0.5      | 0.5      | 0.5      | 0.5      | 0.5      | 0.5      | 0.39004276114844233 | 0.5      | 0.5      | 0.5      | 0.030655391120507393 | 0.5      | 0.5      | 0.5      | 0.8870967741935484  | 0.6395348837209303 | 0.08620689655172413 | 0.014028586553732132 |\n",
            "+--------+---------------------+----------+----------+----------+----------+----------+----------+----------+----------+----------+----------+----------+---------------------+----------+----------+----------+----------------------+----------+----------+----------+---------------------+--------------------+---------------------+----------------------+\n",
            "| AB(S5) | 0.9099378881987578  | 0.5      | 0.5      | 0.5      | 0.5      | 0.5      | 0.5      | 0.5      | 0.5      | 0.5      | 0.5      | 0.5      | 0.6099572388515577  | 0.5      | 0.5      | 0.5      | 0.9693446088794926   | 0.5      | 0.5      | 0.5      | 0.11290322580645162 | 0.3604651162790698 | 0.9137931034482758  | 0.9859714134462678   |\n",
            "+--------+---------------------+----------+----------+----------+----------+----------+----------+----------+----------+----------+----------+----------+---------------------+----------+----------+----------+----------------------+----------+----------+----------+---------------------+--------------------+---------------------+----------------------+\n",
            "+---------+---------------------+-----------------------+--------------------+---------------------+\n",
            "| BRE     | BRE(S4)             | BRE(S4)               | BRE(S5)            | BRE(S5)             |\n",
            "+---------+---------------------+-----------------------+--------------------+---------------------+\n",
            "| NOMS    | NOMS(S2)            | NOMS(S5)              | NOMS(S2)           | NOMS(S5)            |\n",
            "+---------+---------------------+-----------------------+--------------------+---------------------+\n",
            "| ACC(S2) | 0.06331045003813883 | 0.0041981528127623844 | 0.1851851851851852 | 0.33333333333333337 |\n",
            "+---------+---------------------+-----------------------+--------------------+---------------------+\n",
            "| ACC(S3) | 0.6262395118230359  | 0.0041981528127623844 | 0.1851851851851852 | 0.33333333333333337 |\n",
            "+---------+---------------------+-----------------------+--------------------+---------------------+\n",
            "| ACC(S5) | 0.3104500381388253  | 0.9916036943744753    | 0.6296296296296297 | 0.33333333333333337 |\n",
            "+---------+---------------------+-----------------------+--------------------+---------------------+\n",
            "+---------+-----------+\n",
            "| BRE(S4) | 0.983491  |\n",
            "+---------+-----------+\n",
            "| BRE(S5) | 0.0165094 |\n",
            "+---------+-----------+\n",
            "+-----------+---------------------+--------------------+---------------------+---------------------+---------------------+---------------------+----------------------+--------------+--------------+--------------+--------------+--------------+\n",
            "| NOMS      | NOMS(S2)            | NOMS(S2)           | NOMS(S2)            | NOMS(S2)            | NOMS(S2)            | NOMS(S2)            | NOMS(S5)             | NOMS(S5)     | NOMS(S5)     | NOMS(S5)     | NOMS(S5)     | NOMS(S5)     |\n",
            "+-----------+---------------------+--------------------+---------------------+---------------------+---------------------+---------------------+----------------------+--------------+--------------+--------------+--------------+--------------+\n",
            "| TipoFalla | TipoFalla(0)        | TipoFalla(1)       | TipoFalla(2)        | TipoFalla(5)        | TipoFalla(6)        | TipoFalla(7)        | TipoFalla(0)         | TipoFalla(1) | TipoFalla(2) | TipoFalla(5) | TipoFalla(6) | TipoFalla(7) |\n",
            "+-----------+---------------------+--------------------+---------------------+---------------------+---------------------+---------------------+----------------------+--------------+--------------+--------------+--------------+--------------+\n",
            "| CHC(S4)   | 0.23438735177865613 | 0.7068965517241379 | 0.22727272727272727 | 0.22727272727272727 | 0.22727272727272727 | 0.22727272727272727 | 0.002116850127011008 | 0.5          | 0.5          | 0.5          | 0.5          | 0.5          |\n",
            "+-----------+---------------------+--------------------+---------------------+---------------------+---------------------+---------------------+----------------------+--------------+--------------+--------------+--------------+--------------+\n",
            "| CHC(S5)   | 0.7656126482213439  | 0.2931034482758621 | 0.7727272727272727  | 0.7727272727272727  | 0.7727272727272727  | 0.7727272727272727  | 0.9978831498729891   | 0.5          | 0.5          | 0.5          | 0.5          | 0.5          |\n",
            "+-----------+---------------------+--------------------+---------------------+---------------------+---------------------+---------------------+----------------------+--------------+--------------+--------------+--------------+--------------+\n",
            "+---------+----------------------+-----------------------+---------+--------------------+\n",
            "| BRE     | BRE(S4)              | BRE(S4)               | BRE(S5) | BRE(S5)            |\n",
            "+---------+----------------------+-----------------------+---------+--------------------+\n",
            "| CHC     | CHC(S4)              | CHC(S5)               | CHC(S4) | CHC(S5)            |\n",
            "+---------+----------------------+-----------------------+---------+--------------------+\n",
            "| CHH(S4) | 0.9770642201834863   | 0.0034482758620689655 | 0.5     | 0.7222222222222222 |\n",
            "+---------+----------------------+-----------------------+---------+--------------------+\n",
            "| CHH(S5) | 0.022935779816513763 | 0.996551724137931     | 0.5     | 0.2777777777777778 |\n",
            "+---------+----------------------+-----------------------+---------+--------------------+\n",
            "+---------+-----------------------+----------------------+---------+--------------------+\n",
            "| BRE     | BRE(S4)               | BRE(S4)              | BRE(S5) | BRE(S5)            |\n",
            "+---------+-----------------------+----------------------+---------+--------------------+\n",
            "| EST     | EST(S4)               | EST(S5)              | EST(S4) | EST(S5)            |\n",
            "+---------+-----------------------+----------------------+---------+--------------------+\n",
            "| CIM(S4) | 0.9951456310679612    | 0.007836990595611285 | 0.5     | 0.7222222222222222 |\n",
            "+---------+-----------------------+----------------------+---------+--------------------+\n",
            "| CIM(S5) | 0.0048543689320388345 | 0.9921630094043887   | 0.5     | 0.2777777777777778 |\n",
            "+---------+-----------------------+----------------------+---------+--------------------+\n",
            "+---------+----------+----------+---------------------+----------+----------+----------+----------+----------+-----------------------+----------+----------+-----------------------+----------+----------+----------------------+----------+----------+----------+----------+----------+---------------------+----------------------+---------------------+--------------------+\n",
            "| AB      | AB(S3)   | AB(S3)   | AB(S3)              | AB(S3)   | AB(S3)   | AB(S3)   | AB(S3)   | AB(S3)   | AB(S3)                | AB(S3)   | AB(S3)   | AB(S3)                | AB(S5)   | AB(S5)   | AB(S5)               | AB(S5)   | AB(S5)   | AB(S5)   | AB(S5)   | AB(S5)   | AB(S5)              | AB(S5)               | AB(S5)              | AB(S5)             |\n",
            "+---------+----------+----------+---------------------+----------+----------+----------+----------+----------+-----------------------+----------+----------+-----------------------+----------+----------+----------------------+----------+----------+----------+----------+----------+---------------------+----------------------+---------------------+--------------------+\n",
            "| CHC     | CHC(S4)  | CHC(S4)  | CHC(S4)             | CHC(S4)  | CHC(S4)  | CHC(S4)  | CHC(S5)  | CHC(S5)  | CHC(S5)               | CHC(S5)  | CHC(S5)  | CHC(S5)               | CHC(S4)  | CHC(S4)  | CHC(S4)              | CHC(S4)  | CHC(S4)  | CHC(S4)  | CHC(S5)  | CHC(S5)  | CHC(S5)             | CHC(S5)              | CHC(S5)             | CHC(S5)            |\n",
            "+---------+----------+----------+---------------------+----------+----------+----------+----------+----------+-----------------------+----------+----------+-----------------------+----------+----------+----------------------+----------+----------+----------+----------+----------+---------------------+----------------------+---------------------+--------------------+\n",
            "| NOMS    | NOMS(S2) | NOMS(S2) | NOMS(S2)            | NOMS(S5) | NOMS(S5) | NOMS(S5) | NOMS(S2) | NOMS(S2) | NOMS(S2)              | NOMS(S5) | NOMS(S5) | NOMS(S5)              | NOMS(S2) | NOMS(S2) | NOMS(S2)             | NOMS(S5) | NOMS(S5) | NOMS(S5) | NOMS(S2) | NOMS(S2) | NOMS(S2)            | NOMS(S5)             | NOMS(S5)            | NOMS(S5)           |\n",
            "+---------+----------+----------+---------------------+----------+----------+----------+----------+----------+-----------------------+----------+----------+-----------------------+----------+----------+----------------------+----------+----------+----------+----------+----------+---------------------+----------------------+---------------------+--------------------+\n",
            "| ST      | ST(S2)   | ST(S3)   | ST(S5)              | ST(S2)   | ST(S3)   | ST(S5)   | ST(S2)   | ST(S3)   | ST(S5)                | ST(S2)   | ST(S3)   | ST(S5)                | ST(S2)   | ST(S3)   | ST(S5)               | ST(S2)   | ST(S3)   | ST(S5)   | ST(S2)   | ST(S3)   | ST(S5)              | ST(S2)               | ST(S3)              | ST(S5)             |\n",
            "+---------+----------+----------+---------------------+----------+----------+----------+----------+----------+-----------------------+----------+----------+-----------------------+----------+----------+----------------------+----------+----------+----------+----------+----------+---------------------+----------------------+---------------------+--------------------+\n",
            "| COM(S0) | 0.5      | 0.5      | 0.08620689655172413 | 0.5      | 0.5      | 0.5      | 0.5      | 0.5      | 0.0026567481402763023 | 0.5      | 0.5      | 0.0075987841945288764 | 0.5      | 0.5      | 0.004132231404958678 | 0.5      | 0.5      | 0.5      | 0.5      | 0.5      | 0.6017907634307257  | 0.9844720496894409   | 0.9675324675324676  | 0.1808864265927978 |\n",
            "+---------+----------+----------+---------------------+----------+----------+----------+----------+----------+-----------------------+----------+----------+-----------------------+----------+----------+----------------------+----------+----------+----------+----------+----------+---------------------+----------------------+---------------------+--------------------+\n",
            "| COM(S5) | 0.5      | 0.5      | 0.9137931034482758  | 0.5      | 0.5      | 0.5      | 0.5      | 0.5      | 0.9973432518597237    | 0.5      | 0.5      | 0.9924012158054711    | 0.5      | 0.5      | 0.9958677685950412   | 0.5      | 0.5      | 0.5      | 0.5      | 0.5      | 0.39820923656927426 | 0.015527950310559006 | 0.03246753246753247 | 0.8191135734072023 |\n",
            "+---------+----------+----------+---------------------+----------+----------+----------+----------+----------+-----------------------+----------+----------+-----------------------+----------+----------+----------------------+----------+----------+----------+----------+----------+---------------------+----------------------+---------------------+--------------------+\n",
            "+---------+---------------------+---------------------+--------------------+\n",
            "| ST      | ST(S2)              | ST(S3)              | ST(S5)             |\n",
            "+---------+---------------------+---------------------+--------------------+\n",
            "| EST(S4) | 0.10204081632653063 | 0.17857142857142858 | 0.6443514644351465 |\n",
            "+---------+---------------------+---------------------+--------------------+\n",
            "| EST(S5) | 0.8979591836734694  | 0.8214285714285714  | 0.3556485355648535 |\n",
            "+---------+---------------------+---------------------+--------------------+\n",
            "+--------+---+\n",
            "| LC(S5) | 1 |\n",
            "+--------+---+\n",
            "+----------+--------------------+--------------------+---------+----------------------+\n",
            "| CIM      | CIM(S4)            | CIM(S4)            | CIM(S5) | CIM(S5)              |\n",
            "+----------+--------------------+--------------------+---------+----------------------+\n",
            "| EST      | EST(S4)            | EST(S5)            | EST(S4) | EST(S5)              |\n",
            "+----------+--------------------+--------------------+---------+----------------------+\n",
            "| LC       | LC(S5)             | LC(S5)             | LC(S5)  | LC(S5)               |\n",
            "+----------+--------------------+--------------------+---------+----------------------+\n",
            "| NOMS(S2) | 0.8436893203883495 | 0.7222222222222222 | 0.5     | 0.007836990595611285 |\n",
            "+----------+--------------------+--------------------+---------+----------------------+\n",
            "| NOMS(S5) | 0.1563106796116505 | 0.2777777777777778 | 0.5     | 0.9921630094043887   |\n",
            "+----------+--------------------+--------------------+---------+----------------------+\n",
            "+--------+-----------+\n",
            "| ST(S2) | 0.038522  |\n",
            "+--------+-----------+\n",
            "| ST(S3) | 0.0220126 |\n",
            "+--------+-----------+\n",
            "| ST(S5) | 0.939465  |\n",
            "+--------+-----------+\n",
            "+--------------+------------+\n",
            "| TipoFalla(0) | 0.961478   |\n",
            "+--------------+------------+\n",
            "| TipoFalla(1) | 0.0133648  |\n",
            "+--------------+------------+\n",
            "| TipoFalla(2) | 0.00628931 |\n",
            "+--------------+------------+\n",
            "| TipoFalla(5) | 0.00628931 |\n",
            "+--------------+------------+\n",
            "| TipoFalla(6) | 0.00628931 |\n",
            "+--------------+------------+\n",
            "| TipoFalla(7) | 0.00628931 |\n",
            "+--------------+------------+\n"
          ],
          "name": "stdout"
        }
      ]
    }
  ]
}