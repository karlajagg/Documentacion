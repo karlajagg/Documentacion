{
  "nbformat": 4,
  "nbformat_minor": 0,
  "metadata": {
    "colab": {
      "name": "parameter-learning-tipo-fallas.ipynb",
      "provenance": [],
      "collapsed_sections": [],
      "authorship_tag": "ABX9TyMCsHUq9qBzyrAYZryHVs+E",
      "include_colab_link": true
    },
    "kernelspec": {
      "name": "python3",
      "display_name": "Python 3"
    }
  },
  "cells": [
    {
      "cell_type": "markdown",
      "metadata": {
        "id": "view-in-github",
        "colab_type": "text"
      },
      "source": [
        "<a href=\"https://colab.research.google.com/github/karlajagg/Documentacion/blob/main/parameter_learning_tipo_fallas.ipynb\" target=\"_parent\"><img src=\"https://colab.research.google.com/assets/colab-badge.svg\" alt=\"Open In Colab\"/></a>"
      ]
    },
    {
      "cell_type": "code",
      "metadata": {
        "colab": {
          "base_uri": "https://localhost:8080/"
        },
        "id": "F_405BYluf_w",
        "outputId": "39f94d03-0c9c-4dda-a9f8-dae80c503427"
      },
      "source": [
        "! pip install pgmpy"
      ],
      "execution_count": null,
      "outputs": [
        {
          "output_type": "stream",
          "text": [
            "Requirement already satisfied: pgmpy in /usr/local/lib/python3.6/dist-packages (0.1.13)\n",
            "Requirement already satisfied: tqdm in /usr/local/lib/python3.6/dist-packages (from pgmpy) (4.41.1)\n",
            "Requirement already satisfied: networkx in /usr/local/lib/python3.6/dist-packages (from pgmpy) (2.5)\n",
            "Requirement already satisfied: joblib in /usr/local/lib/python3.6/dist-packages (from pgmpy) (1.0.0)\n",
            "Requirement already satisfied: torch in /usr/local/lib/python3.6/dist-packages (from pgmpy) (1.7.0+cu101)\n",
            "Requirement already satisfied: statsmodels in /usr/local/lib/python3.6/dist-packages (from pgmpy) (0.10.2)\n",
            "Requirement already satisfied: scikit-learn in /usr/local/lib/python3.6/dist-packages (from pgmpy) (0.22.2.post1)\n",
            "Requirement already satisfied: pyparsing in /usr/local/lib/python3.6/dist-packages (from pgmpy) (2.4.7)\n",
            "Requirement already satisfied: numpy in /usr/local/lib/python3.6/dist-packages (from pgmpy) (1.19.5)\n",
            "Requirement already satisfied: pandas in /usr/local/lib/python3.6/dist-packages (from pgmpy) (1.1.5)\n",
            "Requirement already satisfied: scipy in /usr/local/lib/python3.6/dist-packages (from pgmpy) (1.4.1)\n",
            "Requirement already satisfied: decorator>=4.3.0 in /usr/local/lib/python3.6/dist-packages (from networkx->pgmpy) (4.4.2)\n",
            "Requirement already satisfied: typing-extensions in /usr/local/lib/python3.6/dist-packages (from torch->pgmpy) (3.7.4.3)\n",
            "Requirement already satisfied: future in /usr/local/lib/python3.6/dist-packages (from torch->pgmpy) (0.16.0)\n",
            "Requirement already satisfied: dataclasses in /usr/local/lib/python3.6/dist-packages (from torch->pgmpy) (0.8)\n",
            "Requirement already satisfied: patsy>=0.4.0 in /usr/local/lib/python3.6/dist-packages (from statsmodels->pgmpy) (0.5.1)\n",
            "Requirement already satisfied: pytz>=2017.2 in /usr/local/lib/python3.6/dist-packages (from pandas->pgmpy) (2018.9)\n",
            "Requirement already satisfied: python-dateutil>=2.7.3 in /usr/local/lib/python3.6/dist-packages (from pandas->pgmpy) (2.8.1)\n",
            "Requirement already satisfied: six in /usr/local/lib/python3.6/dist-packages (from patsy>=0.4.0->statsmodels->pgmpy) (1.15.0)\n"
          ],
          "name": "stdout"
        }
      ]
    },
    {
      "cell_type": "code",
      "metadata": {
        "colab": {
          "base_uri": "https://localhost:8080/"
        },
        "id": "dZTqYKNbDXCU",
        "outputId": "a0c2249c-1e22-4778-b3ae-510ec6f185de"
      },
      "source": [
        "import pandas as pd\r\n",
        "url= 'https://raw.githubusercontent.com/karlajagg/Documentacion/main/xtrainfallas-tf2.csv'\r\n",
        "data=pd.read_csv(url)\r\n",
        "print (data)"
      ],
      "execution_count": null,
      "outputs": [
        {
          "output_type": "stream",
          "text": [
            "   AB  ST EHG  AP CHCH  BC CIM PCI  ... CECN SEP  CE BRE ACC COM NOMS Tipo falla\n",
            "0  S3  S5  S5  S5   S5  S5  S4  S5  ...   S5  S5  S5  S4  S3  S5   S2          7\n",
            "1  S3  S5  S5  S5   S5  S5  S4  S5  ...   S5  S5  S5  S4  S5  S5   S2          2\n",
            "2  S5  S5  S5  S5   S5  S5  S4  S5  ...   S5  S5  S5  S4  S2  S5   S2          1\n",
            "3  S3  S5  S5  S5   S5  S5  S4  S5  ...   S5  S5  S5  S4  S3  S5   S2          5\n",
            "4  S3  S5  S5  S5   S5  S5  S4  S5  ...   S5  S5  S5  S4  S3  S5   S2          6\n",
            "5  S3  S5  S5  S5   S5  S5  S4  S5  ...   S5  S5  S5  S4  S3  S5   S2          4\n",
            "6  S5  S5  S5  S5   S5  S5  S4  S5  ...   S5  S5  S5  S4  S3  S0   S2          1\n",
            "7  S3  S5  S5  S5   S5  S5  S4  S5  ...   S5  S5  S5  S4  S5  S5   S5          1\n",
            "\n",
            "[8 rows x 26 columns]\n"
          ],
          "name": "stdout"
        }
      ]
    },
    {
      "cell_type": "code",
      "metadata": {
        "colab": {
          "base_uri": "https://localhost:8080/"
        },
        "id": "xmN8u2DSsUd5",
        "outputId": "f22bee44-b1be-4916-89ef-d431230d8331"
      },
      "source": [
        "#Recortamos elemntos que no presentan relacion causal\r\n",
        "\r\n",
        "data1 = data[['NOMS','ACC','CHC','AB','CHH','COM','Tipo falla']]\r\n",
        "print(data1)"
      ],
      "execution_count": null,
      "outputs": [
        {
          "output_type": "stream",
          "text": [
            "  NOMS ACC CHC  AB CHH COM  Tipo falla\n",
            "0   S2  S3  S5  S3  S5  S5           7\n",
            "1   S2  S5  S5  S3  S5  S5           2\n",
            "2   S2  S2  S4  S5  S4  S5           1\n",
            "3   S2  S3  S5  S3  S5  S5           5\n",
            "4   S2  S3  S5  S3  S5  S5           6\n",
            "5   S2  S3  S5  S3  S5  S5           4\n",
            "6   S2  S3  S5  S5  S5  S0           1\n",
            "7   S5  S5  S5  S3  S5  S5           1\n"
          ],
          "name": "stdout"
        }
      ]
    },
    {
      "cell_type": "code",
      "metadata": {
        "id": "9WW-seZjtQdw"
      },
      "source": [
        "from pgmpy.models import BayesianModel\r\n",
        "\r\n",
        "model = BayesianModel([('CHH', 'CHC'),('CHC', 'AB'),('AB', 'Tipo falla'),('CHC', 'ACC'),\\\r\n",
        "                       ('NOMS', 'ACC'),('NOMS', 'Tipo falla'),('COM', 'AB') ]) \r\n",
        "#El aprendizaje de parámetros es la tarea de estimar los valores de las \r\n",
        "#distribuciones de probabilidad condicional (CPD), "
      ],
      "execution_count": null,
      "outputs": []
    },
    {
      "cell_type": "code",
      "metadata": {
        "colab": {
          "base_uri": "https://localhost:8080/"
        },
        "id": "nhFXcLRtNOO3",
        "outputId": "b9d42f7f-d37c-4899-f973-1dca146fd66b"
      },
      "source": [
        "model.get_markov_blanket('Tipo falla')"
      ],
      "execution_count": null,
      "outputs": [
        {
          "output_type": "execute_result",
          "data": {
            "text/plain": [
              "['AB', 'NOMS']"
            ]
          },
          "metadata": {
            "tags": []
          },
          "execution_count": 49
        }
      ]
    },
    {
      "cell_type": "code",
      "metadata": {
        "colab": {
          "base_uri": "https://localhost:8080/"
        },
        "id": "s-LAErgJySaT",
        "outputId": "779f59dc-7b30-4140-cb28-98a502c58806"
      },
      "source": [
        "from pgmpy.estimators import ParameterEstimator\r\n",
        "pe = ParameterEstimator(model, data)\r\n",
        "#CONTADOR DE ESTADOS\r\n",
        "print(\"\\n\", pe.state_counts('COM')) \r\n",
        "print(\"\\n\", pe.state_counts('AB')) \r\n",
        "print(\"\\n\", pe.state_counts('NOMS'))\r\n",
        "\r\n",
        "print(\"\\n\", pe.state_counts('ACC')) \r\n",
        "print(\"\\n\", pe.state_counts('CHH')) \r\n",
        "\r\n",
        "print(\"\\n\", pe.state_counts('CHC')) \r\n",
        "print(\"\\n\", pe.state_counts('Tipo falla')) "
      ],
      "execution_count": null,
      "outputs": [
        {
          "output_type": "stream",
          "text": [
            "\n",
            "     COM\n",
            "S0    1\n",
            "S5    7\n",
            "\n",
            " CHC   S4        S5     \n",
            "COM   S0   S5   S0   S5\n",
            "AB                     \n",
            "S3   0.0  0.0  0.0  6.0\n",
            "S5   0.0  1.0  1.0  0.0\n",
            "\n",
            "     NOMS\n",
            "S2     7\n",
            "S5     1\n",
            "\n",
            " CHC    S4        S5     \n",
            "NOMS   S2   S5   S2   S5\n",
            "ACC                     \n",
            "S2    1.0  0.0  0.0  0.0\n",
            "S3    0.0  0.0  5.0  0.0\n",
            "S5    0.0  0.0  1.0  1.0\n",
            "\n",
            "     CHH\n",
            "S4    1\n",
            "S5    7\n",
            "\n",
            " CHH   S4   S5\n",
            "CHC          \n",
            "S4   1.0  0.0\n",
            "S5   0.0  7.0\n",
            "\n",
            " AB           S3        S5     \n",
            "NOMS         S2   S5   S2   S5\n",
            "Tipo falla                    \n",
            "1           0.0  1.0  2.0  0.0\n",
            "2           1.0  0.0  0.0  0.0\n",
            "4           1.0  0.0  0.0  0.0\n",
            "5           1.0  0.0  0.0  0.0\n",
            "6           1.0  0.0  0.0  0.0\n",
            "7           1.0  0.0  0.0  0.0\n"
          ],
          "name": "stdout"
        }
      ]
    },
    {
      "cell_type": "code",
      "metadata": {
        "colab": {
          "base_uri": "https://localhost:8080/"
        },
        "id": "m-poSTu11ZCK",
        "outputId": "2deb1a0f-e432-4d2f-d436-de2c125b895a"
      },
      "source": [
        "#Maximum Likelihood Estimation\r\n",
        "from pgmpy.estimators import MaximumLikelihoodEstimator\r\n",
        "mle = MaximumLikelihoodEstimator(model, data)\r\n",
        "print(mle.estimate_cpd('COM')) \r\n",
        "print(mle.estimate_cpd('AB')) \r\n",
        "print(mle.estimate_cpd('NOMS')) \r\n",
        "print(mle.estimate_cpd('ACC')) \r\n",
        "print(mle.estimate_cpd('CHH')) \r\n",
        "print(mle.estimate_cpd('CHC')) \r\n",
        "print(mle.estimate_cpd('Tipo falla')) "
      ],
      "execution_count": null,
      "outputs": [
        {
          "output_type": "stream",
          "text": [
            "+---------+-------+\n",
            "| COM(S0) | 0.125 |\n",
            "+---------+-------+\n",
            "| COM(S5) | 0.875 |\n",
            "+---------+-------+\n",
            "+--------+---------+---------+---------+---------+\n",
            "| CHC    | CHC(S4) | CHC(S4) | CHC(S5) | CHC(S5) |\n",
            "+--------+---------+---------+---------+---------+\n",
            "| COM    | COM(S0) | COM(S5) | COM(S0) | COM(S5) |\n",
            "+--------+---------+---------+---------+---------+\n",
            "| AB(S3) | 0.5     | 0.0     | 0.0     | 1.0     |\n",
            "+--------+---------+---------+---------+---------+\n",
            "| AB(S5) | 0.5     | 1.0     | 1.0     | 0.0     |\n",
            "+--------+---------+---------+---------+---------+\n",
            "+----------+-------+\n",
            "| NOMS(S2) | 0.875 |\n",
            "+----------+-------+\n",
            "| NOMS(S5) | 0.125 |\n",
            "+----------+-------+\n",
            "+---------+----------+--------------------+---------------------+----------+\n",
            "| CHC     | CHC(S4)  | CHC(S4)            | CHC(S5)             | CHC(S5)  |\n",
            "+---------+----------+--------------------+---------------------+----------+\n",
            "| NOMS    | NOMS(S2) | NOMS(S5)           | NOMS(S2)            | NOMS(S5) |\n",
            "+---------+----------+--------------------+---------------------+----------+\n",
            "| ACC(S2) | 1.0      | 0.3333333333333333 | 0.0                 | 0.0      |\n",
            "+---------+----------+--------------------+---------------------+----------+\n",
            "| ACC(S3) | 0.0      | 0.3333333333333333 | 0.8333333333333334  | 0.0      |\n",
            "+---------+----------+--------------------+---------------------+----------+\n",
            "| ACC(S5) | 0.0      | 0.3333333333333333 | 0.16666666666666666 | 1.0      |\n",
            "+---------+----------+--------------------+---------------------+----------+\n",
            "+---------+-------+\n",
            "| CHH(S4) | 0.125 |\n",
            "+---------+-------+\n",
            "| CHH(S5) | 0.875 |\n",
            "+---------+-------+\n",
            "+---------+---------+---------+\n",
            "| CHH     | CHH(S4) | CHH(S5) |\n",
            "+---------+---------+---------+\n",
            "| CHC(S4) | 1.0     | 0.0     |\n",
            "+---------+---------+---------+\n",
            "| CHC(S5) | 0.0     | 1.0     |\n",
            "+---------+---------+---------+\n",
            "+---------------+----------+----------+----------+---------------------+\n",
            "| AB            | AB(S3)   | AB(S3)   | AB(S5)   | AB(S5)              |\n",
            "+---------------+----------+----------+----------+---------------------+\n",
            "| NOMS          | NOMS(S2) | NOMS(S5) | NOMS(S2) | NOMS(S5)            |\n",
            "+---------------+----------+----------+----------+---------------------+\n",
            "| Tipo falla(1) | 0.0      | 1.0      | 1.0      | 0.16666666666666666 |\n",
            "+---------------+----------+----------+----------+---------------------+\n",
            "| Tipo falla(2) | 0.2      | 0.0      | 0.0      | 0.16666666666666666 |\n",
            "+---------------+----------+----------+----------+---------------------+\n",
            "| Tipo falla(4) | 0.2      | 0.0      | 0.0      | 0.16666666666666666 |\n",
            "+---------------+----------+----------+----------+---------------------+\n",
            "| Tipo falla(5) | 0.2      | 0.0      | 0.0      | 0.16666666666666666 |\n",
            "+---------------+----------+----------+----------+---------------------+\n",
            "| Tipo falla(6) | 0.2      | 0.0      | 0.0      | 0.16666666666666666 |\n",
            "+---------------+----------+----------+----------+---------------------+\n",
            "| Tipo falla(7) | 0.2      | 0.0      | 0.0      | 0.16666666666666666 |\n",
            "+---------------+----------+----------+----------+---------------------+\n"
          ],
          "name": "stdout"
        }
      ]
    },
    {
      "cell_type": "code",
      "metadata": {
        "id": "hesyEMrN16nH"
      },
      "source": [
        "# Calibrate all CPDs of `model` using MLE:\r\n",
        "model.fit(data, estimator=MaximumLikelihoodEstimator)"
      ],
      "execution_count": null,
      "outputs": []
    },
    {
      "cell_type": "code",
      "metadata": {
        "colab": {
          "base_uri": "https://localhost:8080/"
        },
        "id": "DMwhIDoy2aSd",
        "outputId": "df605539-fa18-46e2-813a-1d5c2da1f322"
      },
      "source": [
        "#Bayesian Parameter Estimation\r\n",
        "#K2, que simplemente suma 1 al recuento de cada estado\r\n",
        "\r\n",
        "from pgmpy.estimators import BayesianEstimator\r\n",
        "est = BayesianEstimator(model, data)\r\n",
        "\r\n",
        "print(est.estimate_cpd('Tipo falla', prior_type='BDeu', equivalent_sample_size=10))"
      ],
      "execution_count": null,
      "outputs": [
        {
          "output_type": "stream",
          "text": [
            "+---------------+---------------------+---------------------+--------------------+---------------------+\n",
            "| AB            | AB(S3)              | AB(S3)              | AB(S5)             | AB(S5)              |\n",
            "+---------------+---------------------+---------------------+--------------------+---------------------+\n",
            "| NOMS          | NOMS(S2)            | NOMS(S5)            | NOMS(S2)           | NOMS(S5)            |\n",
            "+---------------+---------------------+---------------------+--------------------+---------------------+\n",
            "| Tipo falla(1) | 0.05555555555555555 | 0.4047619047619048  | 0.537037037037037  | 0.16666666666666669 |\n",
            "+---------------+---------------------+---------------------+--------------------+---------------------+\n",
            "| Tipo falla(2) | 0.18888888888888888 | 0.11904761904761907 | 0.0925925925925926 | 0.16666666666666669 |\n",
            "+---------------+---------------------+---------------------+--------------------+---------------------+\n",
            "| Tipo falla(4) | 0.18888888888888888 | 0.11904761904761907 | 0.0925925925925926 | 0.16666666666666669 |\n",
            "+---------------+---------------------+---------------------+--------------------+---------------------+\n",
            "| Tipo falla(5) | 0.18888888888888888 | 0.11904761904761907 | 0.0925925925925926 | 0.16666666666666669 |\n",
            "+---------------+---------------------+---------------------+--------------------+---------------------+\n",
            "| Tipo falla(6) | 0.18888888888888888 | 0.11904761904761907 | 0.0925925925925926 | 0.16666666666666669 |\n",
            "+---------------+---------------------+---------------------+--------------------+---------------------+\n",
            "| Tipo falla(7) | 0.18888888888888888 | 0.11904761904761907 | 0.0925925925925926 | 0.16666666666666669 |\n",
            "+---------------+---------------------+---------------------+--------------------+---------------------+\n"
          ],
          "name": "stdout"
        }
      ]
    },
    {
      "cell_type": "code",
      "metadata": {
        "colab": {
          "base_uri": "https://localhost:8080/"
        },
        "id": "k3g70MZX3I5-",
        "outputId": "d5aea8e0-3529-4514-f7ab-04231bca322d"
      },
      "source": [
        "# BayesianEstimator, too, can be used via the fit()-method\r\n",
        "# Aqui imprimiremos todas las CPDs\r\n",
        "model.fit(data, estimator=BayesianEstimator, prior_type=\"BDeu\", equivalent_sample_size=10) # default equivalent_sample_size=5\r\n",
        "for cpd in model.get_cpds():\r\n",
        "    print(cpd)"
      ],
      "execution_count": null,
      "outputs": [
        {
          "output_type": "stream",
          "text": [
            "/usr/local/lib/python3.6/dist-packages/pgmpy/estimators/BayesianEstimator.py:155: UserWarning: pseudo count specified with bdeu prior. It will be ignored, use dirichlet prior for specifying pseudo_counts\n",
            "  f\"pseudo count specified with {prior_type} prior. It will be ignored, use dirichlet prior for specifying pseudo_counts\"\n",
            "/usr/local/lib/python3.6/dist-packages/pgmpy/estimators/BayesianEstimator.py:155: UserWarning: pseudo count specified with bdeu prior. It will be ignored, use dirichlet prior for specifying pseudo_counts\n",
            "  f\"pseudo count specified with {prior_type} prior. It will be ignored, use dirichlet prior for specifying pseudo_counts\"\n",
            "/usr/local/lib/python3.6/dist-packages/pgmpy/estimators/BayesianEstimator.py:155: UserWarning: pseudo count specified with bdeu prior. It will be ignored, use dirichlet prior for specifying pseudo_counts\n",
            "  f\"pseudo count specified with {prior_type} prior. It will be ignored, use dirichlet prior for specifying pseudo_counts\"\n",
            "/usr/local/lib/python3.6/dist-packages/pgmpy/estimators/BayesianEstimator.py:155: UserWarning: pseudo count specified with bdeu prior. It will be ignored, use dirichlet prior for specifying pseudo_counts\n",
            "  f\"pseudo count specified with {prior_type} prior. It will be ignored, use dirichlet prior for specifying pseudo_counts\"\n",
            "/usr/local/lib/python3.6/dist-packages/pgmpy/estimators/BayesianEstimator.py:155: UserWarning: pseudo count specified with bdeu prior. It will be ignored, use dirichlet prior for specifying pseudo_counts\n",
            "  f\"pseudo count specified with {prior_type} prior. It will be ignored, use dirichlet prior for specifying pseudo_counts\"\n",
            "/usr/local/lib/python3.6/dist-packages/pgmpy/estimators/BayesianEstimator.py:155: UserWarning: pseudo count specified with bdeu prior. It will be ignored, use dirichlet prior for specifying pseudo_counts\n",
            "  f\"pseudo count specified with {prior_type} prior. It will be ignored, use dirichlet prior for specifying pseudo_counts\"\n",
            "/usr/local/lib/python3.6/dist-packages/pgmpy/estimators/BayesianEstimator.py:155: UserWarning: pseudo count specified with bdeu prior. It will be ignored, use dirichlet prior for specifying pseudo_counts\n",
            "  f\"pseudo count specified with {prior_type} prior. It will be ignored, use dirichlet prior for specifying pseudo_counts\"\n",
            "WARNING:root:Replacing existing CPD for CHH\n",
            "WARNING:root:Replacing existing CPD for CHC\n",
            "WARNING:root:Replacing existing CPD for AB\n",
            "WARNING:root:Replacing existing CPD for Tipo falla\n",
            "WARNING:root:Replacing existing CPD for ACC\n",
            "WARNING:root:Replacing existing CPD for NOMS\n",
            "WARNING:root:Replacing existing CPD for COM\n"
          ],
          "name": "stderr"
        },
        {
          "output_type": "stream",
          "text": [
            "+--------+---------+---------------------+---------------------+---------------------+\n",
            "| CHC    | CHC(S4) | CHC(S4)             | CHC(S5)             | CHC(S5)             |\n",
            "+--------+---------+---------------------+---------------------+---------------------+\n",
            "| COM    | COM(S0) | COM(S5)             | COM(S0)             | COM(S5)             |\n",
            "+--------+---------+---------------------+---------------------+---------------------+\n",
            "| AB(S3) | 0.5     | 0.35714285714285715 | 0.35714285714285715 | 0.8529411764705882  |\n",
            "+--------+---------+---------------------+---------------------+---------------------+\n",
            "| AB(S5) | 0.5     | 0.6428571428571429  | 0.6428571428571429  | 0.14705882352941177 |\n",
            "+--------+---------+---------------------+---------------------+---------------------+\n",
            "+---------+---------------------+---------------------+---------------------+--------------------+\n",
            "| CHC     | CHC(S4)             | CHC(S4)             | CHC(S5)             | CHC(S5)            |\n",
            "+---------+---------------------+---------------------+---------------------+--------------------+\n",
            "| NOMS    | NOMS(S2)            | NOMS(S5)            | NOMS(S2)            | NOMS(S5)           |\n",
            "+---------+---------------------+---------------------+---------------------+--------------------+\n",
            "| ACC(S2) | 0.5238095238095238  | 0.33333333333333337 | 0.09803921568627451 | 0.2380952380952381 |\n",
            "+---------+---------------------+---------------------+---------------------+--------------------+\n",
            "| ACC(S3) | 0.23809523809523808 | 0.33333333333333337 | 0.6862745098039216  | 0.2380952380952381 |\n",
            "+---------+---------------------+---------------------+---------------------+--------------------+\n",
            "| ACC(S5) | 0.23809523809523808 | 0.33333333333333337 | 0.21568627450980393 | 0.5238095238095238 |\n",
            "+---------+---------------------+---------------------+---------------------+--------------------+\n",
            "+---------+--------------------+---------------------+\n",
            "| CHH     | CHH(S4)            | CHH(S5)             |\n",
            "+---------+--------------------+---------------------+\n",
            "| CHC(S4) | 0.5833333333333334 | 0.20833333333333334 |\n",
            "+---------+--------------------+---------------------+\n",
            "| CHC(S5) | 0.4166666666666667 | 0.7916666666666666  |\n",
            "+---------+--------------------+---------------------+\n",
            "+---------+----------+\n",
            "| CHH(S4) | 0.333333 |\n",
            "+---------+----------+\n",
            "| CHH(S5) | 0.666667 |\n",
            "+---------+----------+\n",
            "+---------+----------+\n",
            "| COM(S0) | 0.333333 |\n",
            "+---------+----------+\n",
            "| COM(S5) | 0.666667 |\n",
            "+---------+----------+\n",
            "+----------+----------+\n",
            "| NOMS(S2) | 0.666667 |\n",
            "+----------+----------+\n",
            "| NOMS(S5) | 0.333333 |\n",
            "+----------+----------+\n",
            "+---------------+---------------------+---------------------+--------------------+---------------------+\n",
            "| AB            | AB(S3)              | AB(S3)              | AB(S5)             | AB(S5)              |\n",
            "+---------------+---------------------+---------------------+--------------------+---------------------+\n",
            "| NOMS          | NOMS(S2)            | NOMS(S5)            | NOMS(S2)           | NOMS(S5)            |\n",
            "+---------------+---------------------+---------------------+--------------------+---------------------+\n",
            "| Tipo falla(1) | 0.05555555555555555 | 0.4047619047619048  | 0.537037037037037  | 0.16666666666666669 |\n",
            "+---------------+---------------------+---------------------+--------------------+---------------------+\n",
            "| Tipo falla(2) | 0.18888888888888888 | 0.11904761904761907 | 0.0925925925925926 | 0.16666666666666669 |\n",
            "+---------------+---------------------+---------------------+--------------------+---------------------+\n",
            "| Tipo falla(4) | 0.18888888888888888 | 0.11904761904761907 | 0.0925925925925926 | 0.16666666666666669 |\n",
            "+---------------+---------------------+---------------------+--------------------+---------------------+\n",
            "| Tipo falla(5) | 0.18888888888888888 | 0.11904761904761907 | 0.0925925925925926 | 0.16666666666666669 |\n",
            "+---------------+---------------------+---------------------+--------------------+---------------------+\n",
            "| Tipo falla(6) | 0.18888888888888888 | 0.11904761904761907 | 0.0925925925925926 | 0.16666666666666669 |\n",
            "+---------------+---------------------+---------------------+--------------------+---------------------+\n",
            "| Tipo falla(7) | 0.18888888888888888 | 0.11904761904761907 | 0.0925925925925926 | 0.16666666666666669 |\n",
            "+---------------+---------------------+---------------------+--------------------+---------------------+\n"
          ],
          "name": "stdout"
        }
      ]
    }
  ]
}